{
 "cells": [
  {
   "cell_type": "markdown",
   "id": "d0179e65-87e8-4406-83c3-2768f682e071",
   "metadata": {},
   "source": [
    "# functions"
   ]
  },
  {
   "cell_type": "code",
   "execution_count": 1,
   "id": "3cca1fe2-e7dd-43b8-9b36-fcab3a8ab2c6",
   "metadata": {
    "tags": []
   },
   "outputs": [],
   "source": [
    "# parameter is when we define the function and argument is when we call the function"
   ]
  },
  {
   "cell_type": "code",
   "execution_count": 2,
   "id": "c5064692-04fc-4b5e-b5bf-b0ddc300e954",
   "metadata": {
    "tags": []
   },
   "outputs": [],
   "source": [
    "# functions are objects"
   ]
  },
  {
   "cell_type": "code",
   "execution_count": 3,
   "id": "592058da-515e-4a6a-98dc-10f2870a97fd",
   "metadata": {
    "tags": []
   },
   "outputs": [],
   "source": [
    "# callable when can be called by ()"
   ]
  },
  {
   "cell_type": "code",
   "execution_count": 4,
   "id": "39fac26b-4a91-41d8-81f3-b60c8e5ce5e5",
   "metadata": {
    "tags": []
   },
   "outputs": [],
   "source": [
    "# other types aof objects can also be callable\n",
    "# list.copy()"
   ]
  },
  {
   "cell_type": "raw",
   "id": "64f30d0e-2d1a-4611-8338-4f71e6c96660",
   "metadata": {},
   "source": [
    "def func_name():\n",
    "    #indented block\n",
    "    \n",
    "    .....\n",
    "    \n",
    "    return value"
   ]
  },
  {
   "cell_type": "code",
   "execution_count": 5,
   "id": "612a7bb6-dd2c-4441-bd49-d801b0ebf2f5",
   "metadata": {
    "tags": []
   },
   "outputs": [],
   "source": [
    "#if nothing specified function returns None"
   ]
  },
  {
   "cell_type": "code",
   "execution_count": 6,
   "id": "a4e0c4c6-0147-4192-8fb4-09f798739d90",
   "metadata": {
    "tags": []
   },
   "outputs": [],
   "source": [
    "from datetime import datetime"
   ]
  },
  {
   "cell_type": "code",
   "execution_count": 7,
   "id": "ecc69279-3f09-4c20-a66a-dd416051c6fb",
   "metadata": {
    "tags": []
   },
   "outputs": [],
   "source": [
    "def current_time_utc():\n",
    "    return datetime.utcnow().isoformat()"
   ]
  },
  {
   "cell_type": "code",
   "execution_count": 8,
   "id": "f9a57e88-7fbd-41b1-99d4-55b0bf66de22",
   "metadata": {
    "tags": []
   },
   "outputs": [
    {
     "data": {
      "text/plain": [
       "'2023-05-18T09:39:32.162010'"
      ]
     },
     "execution_count": 8,
     "metadata": {},
     "output_type": "execute_result"
    }
   ],
   "source": [
    "current_time_utc()"
   ]
  },
  {
   "cell_type": "code",
   "execution_count": 9,
   "id": "24c64d33-6560-4280-91d1-7325d24c8ca3",
   "metadata": {
    "tags": []
   },
   "outputs": [],
   "source": [
    "# positional arguments - based on postion\n"
   ]
  },
  {
   "cell_type": "code",
   "execution_count": 10,
   "id": "4d52109d-1807-41d5-a8dd-391976455294",
   "metadata": {
    "tags": []
   },
   "outputs": [],
   "source": [
    "## namespaces"
   ]
  },
  {
   "cell_type": "code",
   "execution_count": 11,
   "id": "1e4fccdd-c113-4286-ad55-1e5cb657147e",
   "metadata": {
    "tags": []
   },
   "outputs": [],
   "source": [
    "# when a fucntion id called \n",
    "#     it knows nothing about how it was called\n",
    "#     everytime a function is called \n",
    "#         an empty dictionary is created\n",
    "#         populated with any arguments passed in\n",
    "#             key= parameters, value  = argument\n",
    "#             nothing else\n",
    "#         then the function code runs\n",
    "#         this dictionary is called the (local) namespace\n",
    "# they clear themselves out\n",
    "# consecutive calls to the same function are independat to each other"
   ]
  },
  {
   "cell_type": "code",
   "execution_count": 12,
   "id": "ddc5e70a-3fe9-498b-9790-4cc949001640",
   "metadata": {
    "tags": []
   },
   "outputs": [
    {
     "data": {
      "text/plain": [
       "{'__name__': '__main__',\n",
       " '__doc__': 'Automatically created module for IPython interactive environment',\n",
       " '__package__': None,\n",
       " '__loader__': None,\n",
       " '__spec__': None,\n",
       " '__builtin__': <module 'builtins' (built-in)>,\n",
       " '__builtins__': <module 'builtins' (built-in)>,\n",
       " '_ih': ['',\n",
       "  '# parameter is when we define the function and argument is when we call the function',\n",
       "  '# functions are objects',\n",
       "  '# callable when can be called by ()',\n",
       "  '# other types aof objects can also be callable\\n# list.copy()',\n",
       "  '#if nothing specified function returns None',\n",
       "  'from datetime import datetime',\n",
       "  'def current_time_utc():\\n    return datetime.utcnow().isoformat()',\n",
       "  'current_time_utc()',\n",
       "  '# positional arguments - based on postion',\n",
       "  '## namespaces',\n",
       "  '# when a fucntion id called \\n#     it knows nothing about how it was called\\n#     everytime a function is called \\n#         an empty dictionary is created\\n#         populated with any arguments passed in\\n#             key= parameters, value  = argument\\n#             nothing else\\n#         then the function code runs\\n#         this dictionary is called the (local) namespace\\n# they clear themselves out\\n# consecutive calls to the same function are independat to each other',\n",
       "  'globals()'],\n",
       " '_oh': {8: '2023-05-18T09:39:32.162010'},\n",
       " '_dh': [PosixPath('/home/abhijith/Desktop/PySpark/oops_with_python')],\n",
       " 'In': ['',\n",
       "  '# parameter is when we define the function and argument is when we call the function',\n",
       "  '# functions are objects',\n",
       "  '# callable when can be called by ()',\n",
       "  '# other types aof objects can also be callable\\n# list.copy()',\n",
       "  '#if nothing specified function returns None',\n",
       "  'from datetime import datetime',\n",
       "  'def current_time_utc():\\n    return datetime.utcnow().isoformat()',\n",
       "  'current_time_utc()',\n",
       "  '# positional arguments - based on postion',\n",
       "  '## namespaces',\n",
       "  '# when a fucntion id called \\n#     it knows nothing about how it was called\\n#     everytime a function is called \\n#         an empty dictionary is created\\n#         populated with any arguments passed in\\n#             key= parameters, value  = argument\\n#             nothing else\\n#         then the function code runs\\n#         this dictionary is called the (local) namespace\\n# they clear themselves out\\n# consecutive calls to the same function are independat to each other',\n",
       "  'globals()'],\n",
       " 'Out': {8: '2023-05-18T09:39:32.162010'},\n",
       " 'get_ipython': <bound method InteractiveShell.get_ipython of <ipykernel.zmqshell.ZMQInteractiveShell object at 0xffffa365cf10>>,\n",
       " 'exit': <IPython.core.autocall.ZMQExitAutocall at 0xffffa365d7e0>,\n",
       " 'quit': <IPython.core.autocall.ZMQExitAutocall at 0xffffa365d7e0>,\n",
       " 'open': <function io.open(file, mode='r', buffering=-1, encoding=None, errors=None, newline=None, closefd=True, opener=None)>,\n",
       " '_': '2023-05-18T09:39:32.162010',\n",
       " '__': '',\n",
       " '___': '',\n",
       " '__session__': '/home/abhijith/Desktop/PySpark/oops_with_python/functions.ipynb',\n",
       " '_i': '# when a fucntion id called \\n#     it knows nothing about how it was called\\n#     everytime a function is called \\n#         an empty dictionary is created\\n#         populated with any arguments passed in\\n#             key= parameters, value  = argument\\n#             nothing else\\n#         then the function code runs\\n#         this dictionary is called the (local) namespace\\n# they clear themselves out\\n# consecutive calls to the same function are independat to each other',\n",
       " '_ii': '## namespaces',\n",
       " '_iii': '# positional arguments - based on postion',\n",
       " '_i1': '# parameter is when we define the function and argument is when we call the function',\n",
       " '_i2': '# functions are objects',\n",
       " '_i3': '# callable when can be called by ()',\n",
       " '_i4': '# other types aof objects can also be callable\\n# list.copy()',\n",
       " '_i5': '#if nothing specified function returns None',\n",
       " '_i6': 'from datetime import datetime',\n",
       " 'datetime': datetime.datetime,\n",
       " '_i7': 'def current_time_utc():\\n    return datetime.utcnow().isoformat()',\n",
       " 'current_time_utc': <function __main__.current_time_utc()>,\n",
       " '_i8': 'current_time_utc()',\n",
       " '_8': '2023-05-18T09:39:32.162010',\n",
       " '_i9': '# positional arguments - based on postion',\n",
       " '_i10': '## namespaces',\n",
       " '_i11': '# when a fucntion id called \\n#     it knows nothing about how it was called\\n#     everytime a function is called \\n#         an empty dictionary is created\\n#         populated with any arguments passed in\\n#             key= parameters, value  = argument\\n#             nothing else\\n#         then the function code runs\\n#         this dictionary is called the (local) namespace\\n# they clear themselves out\\n# consecutive calls to the same function are independat to each other',\n",
       " '_i12': 'globals()'}"
      ]
     },
     "execution_count": 12,
     "metadata": {},
     "output_type": "execute_result"
    }
   ],
   "source": [
    "globals()"
   ]
  },
  {
   "cell_type": "code",
   "execution_count": 13,
   "id": "0ff121e8-8122-446d-9f68-8acb936e1060",
   "metadata": {
    "tags": []
   },
   "outputs": [
    {
     "data": {
      "text/plain": [
       "{'__name__': '__main__',\n",
       " '__doc__': 'Automatically created module for IPython interactive environment',\n",
       " '__package__': None,\n",
       " '__loader__': None,\n",
       " '__spec__': None,\n",
       " '__builtin__': <module 'builtins' (built-in)>,\n",
       " '__builtins__': <module 'builtins' (built-in)>,\n",
       " '_ih': ['',\n",
       "  '# parameter is when we define the function and argument is when we call the function',\n",
       "  '# functions are objects',\n",
       "  '# callable when can be called by ()',\n",
       "  '# other types aof objects can also be callable\\n# list.copy()',\n",
       "  '#if nothing specified function returns None',\n",
       "  'from datetime import datetime',\n",
       "  'def current_time_utc():\\n    return datetime.utcnow().isoformat()',\n",
       "  'current_time_utc()',\n",
       "  '# positional arguments - based on postion',\n",
       "  '## namespaces',\n",
       "  '# when a fucntion id called \\n#     it knows nothing about how it was called\\n#     everytime a function is called \\n#         an empty dictionary is created\\n#         populated with any arguments passed in\\n#             key= parameters, value  = argument\\n#             nothing else\\n#         then the function code runs\\n#         this dictionary is called the (local) namespace\\n# they clear themselves out\\n# consecutive calls to the same function are independat to each other',\n",
       "  'globals()',\n",
       "  'locals()'],\n",
       " '_oh': {8: '2023-05-18T09:39:32.162010', 12: {...}},\n",
       " '_dh': [PosixPath('/home/abhijith/Desktop/PySpark/oops_with_python')],\n",
       " 'In': ['',\n",
       "  '# parameter is when we define the function and argument is when we call the function',\n",
       "  '# functions are objects',\n",
       "  '# callable when can be called by ()',\n",
       "  '# other types aof objects can also be callable\\n# list.copy()',\n",
       "  '#if nothing specified function returns None',\n",
       "  'from datetime import datetime',\n",
       "  'def current_time_utc():\\n    return datetime.utcnow().isoformat()',\n",
       "  'current_time_utc()',\n",
       "  '# positional arguments - based on postion',\n",
       "  '## namespaces',\n",
       "  '# when a fucntion id called \\n#     it knows nothing about how it was called\\n#     everytime a function is called \\n#         an empty dictionary is created\\n#         populated with any arguments passed in\\n#             key= parameters, value  = argument\\n#             nothing else\\n#         then the function code runs\\n#         this dictionary is called the (local) namespace\\n# they clear themselves out\\n# consecutive calls to the same function are independat to each other',\n",
       "  'globals()',\n",
       "  'locals()'],\n",
       " 'Out': {8: '2023-05-18T09:39:32.162010', 12: {...}},\n",
       " 'get_ipython': <bound method InteractiveShell.get_ipython of <ipykernel.zmqshell.ZMQInteractiveShell object at 0xffffa365cf10>>,\n",
       " 'exit': <IPython.core.autocall.ZMQExitAutocall at 0xffffa365d7e0>,\n",
       " 'quit': <IPython.core.autocall.ZMQExitAutocall at 0xffffa365d7e0>,\n",
       " 'open': <function io.open(file, mode='r', buffering=-1, encoding=None, errors=None, newline=None, closefd=True, opener=None)>,\n",
       " '_': {...},\n",
       " '__': '2023-05-18T09:39:32.162010',\n",
       " '___': '',\n",
       " '__session__': '/home/abhijith/Desktop/PySpark/oops_with_python/functions.ipynb',\n",
       " '_i': 'globals()',\n",
       " '_ii': '# when a fucntion id called \\n#     it knows nothing about how it was called\\n#     everytime a function is called \\n#         an empty dictionary is created\\n#         populated with any arguments passed in\\n#             key= parameters, value  = argument\\n#             nothing else\\n#         then the function code runs\\n#         this dictionary is called the (local) namespace\\n# they clear themselves out\\n# consecutive calls to the same function are independat to each other',\n",
       " '_iii': '## namespaces',\n",
       " '_i1': '# parameter is when we define the function and argument is when we call the function',\n",
       " '_i2': '# functions are objects',\n",
       " '_i3': '# callable when can be called by ()',\n",
       " '_i4': '# other types aof objects can also be callable\\n# list.copy()',\n",
       " '_i5': '#if nothing specified function returns None',\n",
       " '_i6': 'from datetime import datetime',\n",
       " 'datetime': datetime.datetime,\n",
       " '_i7': 'def current_time_utc():\\n    return datetime.utcnow().isoformat()',\n",
       " 'current_time_utc': <function __main__.current_time_utc()>,\n",
       " '_i8': 'current_time_utc()',\n",
       " '_8': '2023-05-18T09:39:32.162010',\n",
       " '_i9': '# positional arguments - based on postion',\n",
       " '_i10': '## namespaces',\n",
       " '_i11': '# when a fucntion id called \\n#     it knows nothing about how it was called\\n#     everytime a function is called \\n#         an empty dictionary is created\\n#         populated with any arguments passed in\\n#             key= parameters, value  = argument\\n#             nothing else\\n#         then the function code runs\\n#         this dictionary is called the (local) namespace\\n# they clear themselves out\\n# consecutive calls to the same function are independat to each other',\n",
       " '_i12': 'globals()',\n",
       " '_12': {...},\n",
       " '_i13': 'locals()'}"
      ]
     },
     "execution_count": 13,
     "metadata": {},
     "output_type": "execute_result"
    }
   ],
   "source": [
    "locals()"
   ]
  },
  {
   "cell_type": "code",
   "execution_count": 14,
   "id": "2a6e86dd-21c7-47ae-933e-9f44e584f43b",
   "metadata": {
    "tags": []
   },
   "outputs": [],
   "source": [
    "t = current_time_utc"
   ]
  },
  {
   "cell_type": "code",
   "execution_count": 15,
   "id": "00529746-3add-4f11-8337-aeaec90ba2ba",
   "metadata": {
    "tags": []
   },
   "outputs": [
    {
     "data": {
      "text/plain": [
       "True"
      ]
     },
     "execution_count": 15,
     "metadata": {},
     "output_type": "execute_result"
    }
   ],
   "source": [
    "t is current_time_utc"
   ]
  },
  {
   "cell_type": "code",
   "execution_count": 16,
   "id": "15e7e6bd-def1-498e-974e-c7ab0d37708b",
   "metadata": {
    "tags": []
   },
   "outputs": [
    {
     "data": {
      "text/plain": [
       "{'__name__': '__main__',\n",
       " '__doc__': 'Automatically created module for IPython interactive environment',\n",
       " '__package__': None,\n",
       " '__loader__': None,\n",
       " '__spec__': None,\n",
       " '__builtin__': <module 'builtins' (built-in)>,\n",
       " '__builtins__': <module 'builtins' (built-in)>,\n",
       " '_ih': ['',\n",
       "  '# parameter is when we define the function and argument is when we call the function',\n",
       "  '# functions are objects',\n",
       "  '# callable when can be called by ()',\n",
       "  '# other types aof objects can also be callable\\n# list.copy()',\n",
       "  '#if nothing specified function returns None',\n",
       "  'from datetime import datetime',\n",
       "  'def current_time_utc():\\n    return datetime.utcnow().isoformat()',\n",
       "  'current_time_utc()',\n",
       "  '# positional arguments - based on postion',\n",
       "  '## namespaces',\n",
       "  '# when a fucntion id called \\n#     it knows nothing about how it was called\\n#     everytime a function is called \\n#         an empty dictionary is created\\n#         populated with any arguments passed in\\n#             key= parameters, value  = argument\\n#             nothing else\\n#         then the function code runs\\n#         this dictionary is called the (local) namespace\\n# they clear themselves out\\n# consecutive calls to the same function are independat to each other',\n",
       "  'globals()',\n",
       "  'locals()',\n",
       "  't = current_time_utc',\n",
       "  't is current_time_utc',\n",
       "  'globals()'],\n",
       " '_oh': {8: '2023-05-18T09:39:32.162010', 12: {...}, 13: {...}, 15: True},\n",
       " '_dh': [PosixPath('/home/abhijith/Desktop/PySpark/oops_with_python')],\n",
       " 'In': ['',\n",
       "  '# parameter is when we define the function and argument is when we call the function',\n",
       "  '# functions are objects',\n",
       "  '# callable when can be called by ()',\n",
       "  '# other types aof objects can also be callable\\n# list.copy()',\n",
       "  '#if nothing specified function returns None',\n",
       "  'from datetime import datetime',\n",
       "  'def current_time_utc():\\n    return datetime.utcnow().isoformat()',\n",
       "  'current_time_utc()',\n",
       "  '# positional arguments - based on postion',\n",
       "  '## namespaces',\n",
       "  '# when a fucntion id called \\n#     it knows nothing about how it was called\\n#     everytime a function is called \\n#         an empty dictionary is created\\n#         populated with any arguments passed in\\n#             key= parameters, value  = argument\\n#             nothing else\\n#         then the function code runs\\n#         this dictionary is called the (local) namespace\\n# they clear themselves out\\n# consecutive calls to the same function are independat to each other',\n",
       "  'globals()',\n",
       "  'locals()',\n",
       "  't = current_time_utc',\n",
       "  't is current_time_utc',\n",
       "  'globals()'],\n",
       " 'Out': {8: '2023-05-18T09:39:32.162010', 12: {...}, 13: {...}, 15: True},\n",
       " 'get_ipython': <bound method InteractiveShell.get_ipython of <ipykernel.zmqshell.ZMQInteractiveShell object at 0xffffa365cf10>>,\n",
       " 'exit': <IPython.core.autocall.ZMQExitAutocall at 0xffffa365d7e0>,\n",
       " 'quit': <IPython.core.autocall.ZMQExitAutocall at 0xffffa365d7e0>,\n",
       " 'open': <function io.open(file, mode='r', buffering=-1, encoding=None, errors=None, newline=None, closefd=True, opener=None)>,\n",
       " '_': True,\n",
       " '__': {...},\n",
       " '___': {...},\n",
       " '__session__': '/home/abhijith/Desktop/PySpark/oops_with_python/functions.ipynb',\n",
       " '_i': 't is current_time_utc',\n",
       " '_ii': 't = current_time_utc',\n",
       " '_iii': 'locals()',\n",
       " '_i1': '# parameter is when we define the function and argument is when we call the function',\n",
       " '_i2': '# functions are objects',\n",
       " '_i3': '# callable when can be called by ()',\n",
       " '_i4': '# other types aof objects can also be callable\\n# list.copy()',\n",
       " '_i5': '#if nothing specified function returns None',\n",
       " '_i6': 'from datetime import datetime',\n",
       " 'datetime': datetime.datetime,\n",
       " '_i7': 'def current_time_utc():\\n    return datetime.utcnow().isoformat()',\n",
       " 'current_time_utc': <function __main__.current_time_utc()>,\n",
       " '_i8': 'current_time_utc()',\n",
       " '_8': '2023-05-18T09:39:32.162010',\n",
       " '_i9': '# positional arguments - based on postion',\n",
       " '_i10': '## namespaces',\n",
       " '_i11': '# when a fucntion id called \\n#     it knows nothing about how it was called\\n#     everytime a function is called \\n#         an empty dictionary is created\\n#         populated with any arguments passed in\\n#             key= parameters, value  = argument\\n#             nothing else\\n#         then the function code runs\\n#         this dictionary is called the (local) namespace\\n# they clear themselves out\\n# consecutive calls to the same function are independat to each other',\n",
       " '_i12': 'globals()',\n",
       " '_12': {...},\n",
       " '_i13': 'locals()',\n",
       " '_13': {...},\n",
       " '_i14': 't = current_time_utc',\n",
       " 't': <function __main__.current_time_utc()>,\n",
       " '_i15': 't is current_time_utc',\n",
       " '_15': True,\n",
       " '_i16': 'globals()'}"
      ]
     },
     "execution_count": 16,
     "metadata": {},
     "output_type": "execute_result"
    }
   ],
   "source": [
    "globals()"
   ]
  },
  {
   "cell_type": "code",
   "execution_count": 18,
   "id": "9d57ea9e-6f74-4ef8-a351-db5fd6914b04",
   "metadata": {
    "tags": []
   },
   "outputs": [
    {
     "data": {
      "text/plain": [
       "'# functions are objects'"
      ]
     },
     "execution_count": 18,
     "metadata": {},
     "output_type": "execute_result"
    }
   ],
   "source": [
    "_i2"
   ]
  },
  {
   "cell_type": "code",
   "execution_count": 19,
   "id": "0a93e8a6-2735-470c-89b8-1dc7f6959440",
   "metadata": {
    "tags": []
   },
   "outputs": [
    {
     "ename": "NameError",
     "evalue": "name '_i20' is not defined",
     "output_type": "error",
     "traceback": [
      "\u001b[0;31m---------------------------------------------------------------------------\u001b[0m",
      "\u001b[0;31mNameError\u001b[0m                                 Traceback (most recent call last)",
      "Cell \u001b[0;32mIn[19], line 1\u001b[0m\n\u001b[0;32m----> 1\u001b[0m \u001b[43m_i20\u001b[49m\n",
      "\u001b[0;31mNameError\u001b[0m: name '_i20' is not defined"
     ]
    }
   ],
   "source": [
    "_i20"
   ]
  },
  {
   "cell_type": "code",
   "execution_count": 20,
   "id": "dfd0c705-f31d-4948-ad5a-0ab27986bb74",
   "metadata": {
    "tags": []
   },
   "outputs": [
    {
     "data": {
      "text/plain": [
       "['#',\n",
       " 'parameter',\n",
       " 'is',\n",
       " 'when',\n",
       " 'we',\n",
       " 'define',\n",
       " 'the',\n",
       " 'function',\n",
       " 'and',\n",
       " 'argument',\n",
       " 'is',\n",
       " 'when',\n",
       " 'we',\n",
       " 'call',\n",
       " 'the',\n",
       " 'function']"
      ]
     },
     "execution_count": 20,
     "metadata": {},
     "output_type": "execute_result"
    }
   ],
   "source": [
    "_i1.split(' ')"
   ]
  },
  {
   "cell_type": "code",
   "execution_count": 21,
   "id": "3e05957c-7515-4582-9f8a-3d6c6ae317f0",
   "metadata": {
    "tags": []
   },
   "outputs": [],
   "source": [
    "def add(a,b,c):\n",
    "    print('initial namespace: ',locals())\n",
    "    sum_ = a+b+c\n",
    "    print('initial namespace: ',locals())\n",
    "    return a+b+c\n",
    "    "
   ]
  },
  {
   "cell_type": "code",
   "execution_count": 22,
   "id": "bc616d91-2ef1-46cb-8f50-e223cb6a368b",
   "metadata": {
    "tags": []
   },
   "outputs": [
    {
     "name": "stdout",
     "output_type": "stream",
     "text": [
      "initial namespace:  {'a': 1, 'b': 2, 'c': 3}\n",
      "initial namespace:  {'a': 1, 'b': 2, 'c': 3, 'sum_': 6}\n"
     ]
    },
    {
     "data": {
      "text/plain": [
       "6"
      ]
     },
     "execution_count": 22,
     "metadata": {},
     "output_type": "execute_result"
    }
   ],
   "source": [
    "add(1,2,3)"
   ]
  },
  {
   "cell_type": "code",
   "execution_count": 23,
   "id": "5b0449a0-726a-4075-8626-1a3206ff7432",
   "metadata": {
    "tags": []
   },
   "outputs": [],
   "source": [
    "from datetime import datetime"
   ]
  },
  {
   "cell_type": "code",
   "execution_count": 24,
   "id": "d04bbc3c-5919-4133-a9db-ce5224a8a54a",
   "metadata": {
    "tags": []
   },
   "outputs": [],
   "source": [
    "def log(message):\n",
    "    curr_time = current_time_utc()\n",
    "    print(f'{curr_time} - [{message}]')"
   ]
  },
  {
   "cell_type": "code",
   "execution_count": 25,
   "id": "f5250952-34f8-437e-a46d-34c75f1a28d9",
   "metadata": {
    "tags": []
   },
   "outputs": [
    {
     "name": "stdout",
     "output_type": "stream",
     "text": [
      "2023-05-18T09:40:10.226546 - [i am doing great]\n"
     ]
    }
   ],
   "source": [
    "log('i am doing great')"
   ]
  },
  {
   "cell_type": "code",
   "execution_count": 26,
   "id": "88f4814d-9117-4ef8-ad6d-9adda463ab61",
   "metadata": {
    "tags": []
   },
   "outputs": [
    {
     "name": "stdout",
     "output_type": "stream",
     "text": [
      "2023-05-18T09:40:10.461019 - [ log 1]\n"
     ]
    }
   ],
   "source": [
    "log(' log 1')"
   ]
  },
  {
   "cell_type": "code",
   "execution_count": 27,
   "id": "46a940d7-df40-4985-9b1a-d45b1c3bc0c2",
   "metadata": {
    "tags": []
   },
   "outputs": [],
   "source": [
    "data = [1,2,3,4,5,-1]\n",
    "for el in data:\n",
    "    if el<0:\n",
    "        break\n",
    "else:\n",
    "    print('processing all postitive elements')"
   ]
  },
  {
   "cell_type": "code",
   "execution_count": 28,
   "id": "6add4d03-71b3-444a-bdb2-7d5b13e59be5",
   "metadata": {
    "tags": []
   },
   "outputs": [],
   "source": [
    "def is_all_positive(data):\n",
    "    for el in data:\n",
    "        if el<0:\n",
    "            return False\n",
    "    return True\n",
    "    "
   ]
  },
  {
   "cell_type": "code",
   "execution_count": 29,
   "id": "14642c43-a445-4645-a78c-b70ca385afc5",
   "metadata": {
    "tags": []
   },
   "outputs": [
    {
     "data": {
      "text/plain": [
       "False"
      ]
     },
     "execution_count": 29,
     "metadata": {},
     "output_type": "execute_result"
    }
   ],
   "source": [
    "is_all_positive([1,2,3,4,5,6,-2])"
   ]
  },
  {
   "cell_type": "code",
   "execution_count": 30,
   "id": "77497ce2-8578-4d18-9717-1b56cc9e658a",
   "metadata": {
    "tags": []
   },
   "outputs": [
    {
     "data": {
      "text/plain": [
       "True"
      ]
     },
     "execution_count": 30,
     "metadata": {},
     "output_type": "execute_result"
    }
   ],
   "source": [
    "is_all_positive([1,2,3,4,5,6,6])"
   ]
  },
  {
   "cell_type": "code",
   "execution_count": 31,
   "id": "5c647e7c-5992-413a-b983-027c148eb705",
   "metadata": {
    "tags": []
   },
   "outputs": [],
   "source": [
    "# positional arguments\n",
    "def gen_matrix(m,n, default_value):\n",
    "    return [[default_value for i in range(n)] for j in range(m)]"
   ]
  },
  {
   "cell_type": "code",
   "execution_count": 32,
   "id": "51161a74-8af8-4ff1-bb0c-6eb84ea1babf",
   "metadata": {
    "tags": []
   },
   "outputs": [
    {
     "data": {
      "text/plain": [
       "[[6, 6, 6, 6], [6, 6, 6, 6], [6, 6, 6, 6]]"
      ]
     },
     "execution_count": 32,
     "metadata": {},
     "output_type": "execute_result"
    }
   ],
   "source": [
    "gen_matrix(3,4,6)"
   ]
  },
  {
   "cell_type": "code",
   "execution_count": 33,
   "id": "b3f12187-9c42-4686-96d5-aa28463ed559",
   "metadata": {
    "tags": []
   },
   "outputs": [],
   "source": [
    "# named arguments\n",
    "def gen_matrix(rows,cols, default_value):\n",
    "    return [[default_value for i in range(cols)] for j in range(rows)]"
   ]
  },
  {
   "cell_type": "code",
   "execution_count": 34,
   "id": "9c0279b8-0849-46e7-8bf9-814451600a64",
   "metadata": {
    "tags": []
   },
   "outputs": [
    {
     "data": {
      "text/plain": [
       "[[1, 1, 1, 1, 1], [1, 1, 1, 1, 1], [1, 1, 1, 1, 1]]"
      ]
     },
     "execution_count": 34,
     "metadata": {},
     "output_type": "execute_result"
    }
   ],
   "source": [
    "gen_matrix(rows=3,cols=5,default_value=1)"
   ]
  },
  {
   "cell_type": "code",
   "execution_count": 35,
   "id": "7a8b885d-1014-4bfb-92b7-d3af39dcd108",
   "metadata": {
    "tags": []
   },
   "outputs": [
    {
     "ename": "SyntaxError",
     "evalue": "positional argument follows keyword argument (2843669191.py, line 1)",
     "output_type": "error",
     "traceback": [
      "\u001b[0;36m  Cell \u001b[0;32mIn[35], line 1\u001b[0;36m\u001b[0m\n\u001b[0;31m    gen_matrix(3,cols=5,1)\u001b[0m\n\u001b[0m                         ^\u001b[0m\n\u001b[0;31mSyntaxError\u001b[0m\u001b[0;31m:\u001b[0m positional argument follows keyword argument\n"
     ]
    }
   ],
   "source": [
    "gen_matrix(3,cols=5,1)"
   ]
  },
  {
   "cell_type": "markdown",
   "id": "c936468d-2f10-4156-993c-45e65e6b7fe9",
   "metadata": {
    "tags": []
   },
   "source": [
    "## *Arguments"
   ]
  },
  {
   "cell_type": "code",
   "execution_count": 36,
   "id": "c21b533f-c423-4edc-af10-7c02691918dc",
   "metadata": {
    "tags": []
   },
   "outputs": [],
   "source": [
    "# for specifying variable number of arguments\n",
    "# only one time in a function\n",
    "def new_func(*args):\n",
    "    return list(args)"
   ]
  },
  {
   "cell_type": "code",
   "execution_count": 37,
   "id": "777439fa-a96f-4f8c-90cd-e0d42ea26723",
   "metadata": {
    "tags": []
   },
   "outputs": [
    {
     "data": {
      "text/plain": [
       "[1, 2, 3, 4, 5, 6]"
      ]
     },
     "execution_count": 37,
     "metadata": {},
     "output_type": "execute_result"
    }
   ],
   "source": [
    "new_func(1,2,3,4,5,6)"
   ]
  },
  {
   "cell_type": "code",
   "execution_count": 38,
   "id": "9edb1f04-e09f-4c66-b4fe-c1054ac1ae48",
   "metadata": {
    "tags": []
   },
   "outputs": [],
   "source": [
    "def my_fucn(a,b,*args):\n",
    "    print(a)\n",
    "    print(b)\n",
    "    print(args)"
   ]
  },
  {
   "cell_type": "code",
   "execution_count": 39,
   "id": "6587f12a-3bbd-4f4d-bc70-45cf268535a3",
   "metadata": {
    "tags": []
   },
   "outputs": [
    {
     "name": "stdout",
     "output_type": "stream",
     "text": [
      "1\n",
      "2\n",
      "()\n"
     ]
    }
   ],
   "source": [
    "my_fucn(1,2)"
   ]
  },
  {
   "cell_type": "code",
   "execution_count": 40,
   "id": "0270fb61-ed46-487a-8bae-245bb8eaa141",
   "metadata": {
    "tags": []
   },
   "outputs": [],
   "source": [
    "def prod(*args):\n",
    "    p = 1\n",
    "    for val in args:\n",
    "        p *= val\n",
    "    return p"
   ]
  },
  {
   "cell_type": "code",
   "execution_count": 41,
   "id": "86b71edd-aea1-435c-b13d-7740097c0cd4",
   "metadata": {
    "tags": []
   },
   "outputs": [
    {
     "data": {
      "text/plain": [
       "1"
      ]
     },
     "execution_count": 41,
     "metadata": {},
     "output_type": "execute_result"
    }
   ],
   "source": [
    "prod()"
   ]
  },
  {
   "cell_type": "code",
   "execution_count": 42,
   "id": "b5e687e0-8583-47ac-920b-fe3940fea9c5",
   "metadata": {
    "tags": []
   },
   "outputs": [
    {
     "data": {
      "text/plain": [
       "720"
      ]
     },
     "execution_count": 42,
     "metadata": {},
     "output_type": "execute_result"
    }
   ],
   "source": [
    "prod(1,2,3,4,5,6)"
   ]
  },
  {
   "cell_type": "markdown",
   "id": "c179b9b5-b1a3-489a-9cbd-c4844e7036c0",
   "metadata": {},
   "source": [
    "## default values\n",
    "used when no specific value is supplied"
   ]
  },
  {
   "cell_type": "code",
   "execution_count": 43,
   "id": "1cf2bf19-6b8f-42b9-9846-82d03c5ea428",
   "metadata": {
    "tags": []
   },
   "outputs": [],
   "source": [
    "def func(a=1):\n",
    "    return a"
   ]
  },
  {
   "cell_type": "code",
   "execution_count": 44,
   "id": "ceb4b95b-16c7-4bbe-b2e3-e3609c0e76e5",
   "metadata": {
    "tags": []
   },
   "outputs": [
    {
     "data": {
      "text/plain": [
       "1"
      ]
     },
     "execution_count": 44,
     "metadata": {},
     "output_type": "execute_result"
    }
   ],
   "source": [
    "func()"
   ]
  },
  {
   "cell_type": "code",
   "execution_count": 45,
   "id": "fd61b67e-7c5c-421a-bbce-47df9911f35e",
   "metadata": {
    "tags": []
   },
   "outputs": [
    {
     "data": {
      "text/plain": [
       "10"
      ]
     },
     "execution_count": 45,
     "metadata": {},
     "output_type": "execute_result"
    }
   ],
   "source": [
    "func(10)"
   ]
  },
  {
   "cell_type": "code",
   "execution_count": 46,
   "id": "c87c3655-a58b-4c4b-af20-805f4562df5a",
   "metadata": {
    "tags": []
   },
   "outputs": [],
   "source": [
    "def func(a,b=10, c=2):\n",
    "    return a,b,c"
   ]
  },
  {
   "cell_type": "code",
   "execution_count": 47,
   "id": "b993c3db-2aac-489b-baa1-5bfa26ba29b2",
   "metadata": {
    "tags": []
   },
   "outputs": [
    {
     "data": {
      "text/plain": [
       "(1, 10, 2)"
      ]
     },
     "execution_count": 47,
     "metadata": {},
     "output_type": "execute_result"
    }
   ],
   "source": [
    "func(1)"
   ]
  },
  {
   "cell_type": "code",
   "execution_count": 48,
   "id": "f623f084-5f1f-4c33-bcef-8113d94a3ef8",
   "metadata": {
    "tags": []
   },
   "outputs": [
    {
     "ename": "SyntaxError",
     "evalue": "invalid syntax (1102136943.py, line 1)",
     "output_type": "error",
     "traceback": [
      "\u001b[0;36m  Cell \u001b[0;32mIn[48], line 1\u001b[0;36m\u001b[0m\n\u001b[0;31m    def\u001b[0m\n\u001b[0m       ^\u001b[0m\n\u001b[0;31mSyntaxError\u001b[0m\u001b[0;31m:\u001b[0m invalid syntax\n"
     ]
    }
   ],
   "source": [
    "def"
   ]
  },
  {
   "cell_type": "code",
   "execution_count": 49,
   "id": "df47dc50-cb2f-476d-b162-ff41d889380b",
   "metadata": {
    "tags": []
   },
   "outputs": [],
   "source": [
    "def parse(s, sep = ',',strip = True):\n",
    "    items = s.split(sep)\n",
    "    if strip:\n",
    "        return [item.strip() for item in items]\n",
    "    else:\n",
    "        return items"
   ]
  },
  {
   "cell_type": "code",
   "execution_count": 50,
   "id": "d7f83af6-4eba-4330-ace6-a70d3db73087",
   "metadata": {
    "tags": []
   },
   "outputs": [
    {
     "data": {
      "text/plain": [
       "['a', 'b', 'd    g', 'p']"
      ]
     },
     "execution_count": 50,
     "metadata": {},
     "output_type": "execute_result"
    }
   ],
   "source": [
    "parse('a,    b    , d    g, p', strip=True)"
   ]
  },
  {
   "cell_type": "code",
   "execution_count": 51,
   "id": "3f33d574-1e61-4113-8226-9fe7000c2f41",
   "metadata": {
    "tags": []
   },
   "outputs": [
    {
     "data": {
      "text/plain": [
       "['a', '    b    ', ' d    g', ' p']"
      ]
     },
     "execution_count": 51,
     "metadata": {},
     "output_type": "execute_result"
    }
   ],
   "source": [
    "parse('a,    b    , d    g, p', strip=False)"
   ]
  },
  {
   "cell_type": "code",
   "execution_count": 52,
   "id": "64ab2759-a603-4a1d-88ed-9731b547a03f",
   "metadata": {
    "tags": []
   },
   "outputs": [
    {
     "name": "stdout",
     "output_type": "stream",
     "text": [
      "a111b111c\n"
     ]
    }
   ],
   "source": [
    "print('a','b', 'c', sep='111')"
   ]
  },
  {
   "cell_type": "code",
   "execution_count": 53,
   "id": "e37e8bd1-e57d-4c00-a4b9-6f11d6626c6d",
   "metadata": {
    "tags": []
   },
   "outputs": [
    {
     "name": "stdout",
     "output_type": "stream",
     "text": [
      "a b c\n"
     ]
    }
   ],
   "source": [
    "print(*'abc')"
   ]
  },
  {
   "cell_type": "code",
   "execution_count": 54,
   "id": "42d2209d-2e7a-413a-8297-9c97778772db",
   "metadata": {
    "tags": []
   },
   "outputs": [
    {
     "name": "stdout",
     "output_type": "stream",
     "text": [
      "a,b,c***next line\n"
     ]
    }
   ],
   "source": [
    "print(*'abc',sep=',',end = '***')\n",
    "print('next line')"
   ]
  },
  {
   "cell_type": "code",
   "execution_count": 11,
   "id": "f999ca82-c9ad-4343-b9b6-a1b7d917b08a",
   "metadata": {
    "tags": []
   },
   "outputs": [],
   "source": [
    "data  = [[10,20,30],[200,300,400],[3000,4000,5000]]"
   ]
  },
  {
   "cell_type": "code",
   "execution_count": 56,
   "id": "12324572-9e26-4b26-854d-06b1ba40e2c2",
   "metadata": {
    "tags": []
   },
   "outputs": [],
   "source": [
    "def process_data(data, item_sep = ',', line_sep = '\\n'):\n",
    "    output = ''\n",
    "    for row in data :\n",
    "        for el in row:\n",
    "            output = output + str(el)+ item_sep\n",
    "        output = output + line_sep\n",
    "    return output"
   ]
  },
  {
   "cell_type": "code",
   "execution_count": 57,
   "id": "7fb2307b-9a9c-4233-a57c-47a6f58c75d0",
   "metadata": {
    "tags": []
   },
   "outputs": [
    {
     "name": "stdout",
     "output_type": "stream",
     "text": [
      "10,20,30,\n",
      "200,300,400,\n",
      "3000,4000,5000,\n",
      "\n"
     ]
    }
   ],
   "source": [
    "print(process_data(data))"
   ]
  },
  {
   "cell_type": "code",
   "execution_count": 58,
   "id": "7581a5c7-bb51-4a70-80b3-3da4767d8d9e",
   "metadata": {
    "tags": []
   },
   "outputs": [],
   "source": [
    "def process_data(data, item_sep = ',', line_sep = '\\n'):\n",
    "    output = ''\n",
    "    for row in data :\n",
    "        row_str = item_sep.join([str(i) for i in row])\n",
    "        output = output + row_str + line_sep\n",
    "    return output"
   ]
  },
  {
   "cell_type": "code",
   "execution_count": 59,
   "id": "d97cfc21-ef60-47c2-965f-13db6cb79885",
   "metadata": {
    "tags": []
   },
   "outputs": [
    {
     "name": "stdout",
     "output_type": "stream",
     "text": [
      "10,20,30\n",
      "200,300,400\n",
      "3000,4000,5000\n",
      "\n"
     ]
    }
   ],
   "source": [
    "print(process_data(data))"
   ]
  },
  {
   "cell_type": "code",
   "execution_count": 60,
   "id": "842d469f-a24e-411b-b46d-1b4c14f5b57e",
   "metadata": {
    "tags": []
   },
   "outputs": [],
   "source": [
    "def process_data(data, item_sep = ',', line_sep = '\\n'):\n",
    "    output = ''\n",
    "    for row in data :\n",
    "        row_str = item_sep.join(str(i) for i in row)\n",
    "        output = output + row_str + line_sep\n",
    "    return output"
   ]
  },
  {
   "cell_type": "code",
   "execution_count": 61,
   "id": "fc4c010d-8ab3-4547-beb0-eda621b04342",
   "metadata": {
    "tags": []
   },
   "outputs": [
    {
     "name": "stdout",
     "output_type": "stream",
     "text": [
      "10,20,30\n",
      "200,300,400\n",
      "3000,4000,5000\n",
      "\n"
     ]
    }
   ],
   "source": [
    "print(process_data(data))"
   ]
  },
  {
   "cell_type": "code",
   "execution_count": 62,
   "id": "a5b309cf-b910-4f55-ab55-860ede44d859",
   "metadata": {},
   "outputs": [],
   "source": [
    "def process_data(data, item_sep = ',', line_sep = '\\n'):\n",
    "    output = ''\n",
    "    for row in data :\n",
    "        row_str = item_sep.join(str(i) for i in row)\n",
    "        output = output + row_str + line_sep\n",
    "    return output"
   ]
  },
  {
   "cell_type": "markdown",
   "id": "06311518-df7f-4f1e-a5ee-3514ce2590cf",
   "metadata": {
    "tags": []
   },
   "source": [
    "## keyword arguments"
   ]
  },
  {
   "cell_type": "code",
   "execution_count": 66,
   "id": "f407be5b-0fb0-4784-96a9-86ece6c99d52",
   "metadata": {
    "tags": []
   },
   "outputs": [],
   "source": [
    "def func(a,b,*args,c): # c is keyword only argument\n",
    "    return a,b,c,args"
   ]
  },
  {
   "cell_type": "code",
   "execution_count": 67,
   "id": "c0a3b78a-ead3-4776-8d2c-a73c91cb07d7",
   "metadata": {
    "tags": []
   },
   "outputs": [
    {
     "ename": "TypeError",
     "evalue": "func() missing 1 required keyword-only argument: 'c'",
     "output_type": "error",
     "traceback": [
      "\u001b[0;31m---------------------------------------------------------------------------\u001b[0m",
      "\u001b[0;31mTypeError\u001b[0m                                 Traceback (most recent call last)",
      "Cell \u001b[0;32mIn[67], line 1\u001b[0m\n\u001b[0;32m----> 1\u001b[0m \u001b[43mfunc\u001b[49m\u001b[43m(\u001b[49m\u001b[38;5;241;43m10\u001b[39;49m\u001b[43m,\u001b[49m\u001b[38;5;241;43m25\u001b[39;49m\u001b[43m,\u001b[49m\u001b[38;5;241;43m34\u001b[39;49m\u001b[43m,\u001b[49m\u001b[38;5;241;43m56\u001b[39;49m\u001b[43m)\u001b[49m\n",
      "\u001b[0;31mTypeError\u001b[0m: func() missing 1 required keyword-only argument: 'c'"
     ]
    }
   ],
   "source": [
    "func(10,25,34,56)"
   ]
  },
  {
   "cell_type": "code",
   "execution_count": 68,
   "id": "d57b8a35-e163-4686-b9ef-7e85831f1e71",
   "metadata": {
    "tags": []
   },
   "outputs": [
    {
     "ename": "SyntaxError",
     "evalue": "positional argument follows keyword argument (840320567.py, line 1)",
     "output_type": "error",
     "traceback": [
      "\u001b[0;36m  Cell \u001b[0;32mIn[68], line 1\u001b[0;36m\u001b[0m\n\u001b[0;31m    func(10,20,c=22,34,45)\u001b[0m\n\u001b[0m                         ^\u001b[0m\n\u001b[0;31mSyntaxError\u001b[0m\u001b[0;31m:\u001b[0m positional argument follows keyword argument\n"
     ]
    }
   ],
   "source": [
    "func(10,20,c=22,34,45)"
   ]
  },
  {
   "cell_type": "code",
   "execution_count": 69,
   "id": "d9641597-ddc6-4137-ba85-da8734d60894",
   "metadata": {
    "tags": []
   },
   "outputs": [
    {
     "data": {
      "text/plain": [
       "(10, 20, 22, (34, 45, 66))"
      ]
     },
     "execution_count": 69,
     "metadata": {},
     "output_type": "execute_result"
    }
   ],
   "source": [
    "func(10,20,34,45,66,c=22)"
   ]
  },
  {
   "cell_type": "code",
   "execution_count": 1,
   "id": "b81b51ff-43f3-4ac7-b0e6-3a5862e26f20",
   "metadata": {
    "tags": []
   },
   "outputs": [],
   "source": [
    "def func(a,b,*,c): #two positional + one keyword only argument, only will work with calling spcifically c\n",
    "    return a,b,c"
   ]
  },
  {
   "cell_type": "code",
   "execution_count": 72,
   "id": "fda3eed0-5f8b-4972-ab05-3e3b430aabe7",
   "metadata": {
    "tags": []
   },
   "outputs": [
    {
     "ename": "TypeError",
     "evalue": "func() takes 2 positional arguments but 3 were given",
     "output_type": "error",
     "traceback": [
      "\u001b[0;31m---------------------------------------------------------------------------\u001b[0m",
      "\u001b[0;31mTypeError\u001b[0m                                 Traceback (most recent call last)",
      "Cell \u001b[0;32mIn[72], line 1\u001b[0m\n\u001b[0;32m----> 1\u001b[0m \u001b[43mfunc\u001b[49m\u001b[43m(\u001b[49m\u001b[38;5;241;43m23\u001b[39;49m\u001b[43m,\u001b[49m\u001b[38;5;241;43m45\u001b[39;49m\u001b[43m,\u001b[49m\u001b[38;5;241;43m36\u001b[39;49m\u001b[43m)\u001b[49m\n",
      "\u001b[0;31mTypeError\u001b[0m: func() takes 2 positional arguments but 3 were given"
     ]
    }
   ],
   "source": [
    "func(23,45,36)"
   ]
  },
  {
   "cell_type": "code",
   "execution_count": 74,
   "id": "e0419f70-f062-4d2a-bfc0-c48a55db5561",
   "metadata": {
    "tags": []
   },
   "outputs": [
    {
     "data": {
      "text/plain": [
       "(3, 4, 'abc')"
      ]
     },
     "execution_count": 74,
     "metadata": {},
     "output_type": "execute_result"
    }
   ],
   "source": [
    "func(3,4,c='abc')"
   ]
  },
  {
   "cell_type": "code",
   "execution_count": 2,
   "id": "af8dc95a-416c-433c-9b13-efc6175c47b8",
   "metadata": {},
   "outputs": [],
   "source": [
    "# we can pass default vlaues to keyword only arguments"
   ]
  },
  {
   "cell_type": "code",
   "execution_count": 4,
   "id": "3f3e5a08-48d7-4d4f-98df-3d10a43eef57",
   "metadata": {
    "tags": []
   },
   "outputs": [],
   "source": [
    "def func(a,b,*args,c,d,**kwargs):\n",
    "    print(locals())\n",
    "    return a,b,c,d,args,kwargs"
   ]
  },
  {
   "cell_type": "code",
   "execution_count": 6,
   "id": "23dc7b92-4ff8-408c-bf53-96b234b840b1",
   "metadata": {
    "tags": []
   },
   "outputs": [
    {
     "name": "stdout",
     "output_type": "stream",
     "text": [
      "{'a': 10, 'b': 11, 'c': 'abc', 'd': 87, 'args': (34, 67), 'kwargs': {'z': 22, 'y': 'xyz'}}\n"
     ]
    },
    {
     "data": {
      "text/plain": [
       "(10, 11, 'abc', 87, (34, 67), {'z': 22, 'y': 'xyz'})"
      ]
     },
     "execution_count": 6,
     "metadata": {},
     "output_type": "execute_result"
    }
   ],
   "source": [
    "func(10,11,34,67,c='abc',d=87,z=22,y='xyz')"
   ]
  },
  {
   "cell_type": "markdown",
   "id": "34393f92-e0f2-4b73-aee1-f2a7d45540ed",
   "metadata": {},
   "source": [
    "## lambda functions"
   ]
  },
  {
   "cell_type": "code",
   "execution_count": 7,
   "id": "3c7d1cae-b2a0-4632-8acc-6e0e127cf5d6",
   "metadata": {
    "tags": []
   },
   "outputs": [],
   "source": [
    "# expresion that returns a function object\n",
    "# can assign to a variable or can be passed into another object\n",
    "# lambda a,b :a+b\n",
    "# its has all properties that a normal function will have\n",
    "# we can use *,** etc this as well"
   ]
  },
  {
   "cell_type": "code",
   "execution_count": 4,
   "id": "785556ce-d825-4ffb-9eab-ec04b4cc33c2",
   "metadata": {
    "tags": []
   },
   "outputs": [],
   "source": [
    "f = lambda *,a,b : a+b"
   ]
  },
  {
   "cell_type": "code",
   "execution_count": 6,
   "id": "63d434c8-23ef-4f24-b65d-809018a098a3",
   "metadata": {
    "tags": []
   },
   "outputs": [
    {
     "data": {
      "text/plain": [
       "68"
      ]
     },
     "execution_count": 6,
     "metadata": {},
     "output_type": "execute_result"
    }
   ],
   "source": [
    "f(a=23,b=45)"
   ]
  },
  {
   "cell_type": "code",
   "execution_count": 30,
   "id": "fc58c170-7469-47fe-9f93-d89a852d8eaa",
   "metadata": {
    "tags": []
   },
   "outputs": [],
   "source": [
    "return_max = lambda **x : max(x)"
   ]
  },
  {
   "cell_type": "code",
   "execution_count": 31,
   "id": "aa7d00ac-7a9e-484c-9af3-1feb21f45906",
   "metadata": {
    "tags": []
   },
   "outputs": [
    {
     "data": {
      "text/plain": [
       "'x'"
      ]
     },
     "execution_count": 31,
     "metadata": {},
     "output_type": "execute_result"
    }
   ],
   "source": [
    "return_max(x=data)"
   ]
  },
  {
   "cell_type": "markdown",
   "id": "c27a4bb5-a413-4f1e-8193-b5fe6b59e342",
   "metadata": {},
   "source": [
    "## higher order functions"
   ]
  },
  {
   "cell_type": "code",
   "execution_count": 32,
   "id": "d892c944-a12e-4335-a8bf-bc279a1e1a05",
   "metadata": {
    "tags": []
   },
   "outputs": [],
   "source": [
    "# a function that can recieve or return a function"
   ]
  },
  {
   "cell_type": "raw",
   "id": "7fb5a957-7e58-44bc-94ac-d8b9579e7292",
   "metadata": {
    "tags": []
   },
   "source": [
    "# passing functions as arguments\n",
    "    the object is passed not called\n",
    "        so dont use the () to pass function, that would pass the result of the function"
   ]
  },
  {
   "cell_type": "code",
   "execution_count": 34,
   "id": "e0255bc0-e927-4a79-aaa5-37f442d633ce",
   "metadata": {
    "tags": []
   },
   "outputs": [],
   "source": [
    "def add(a,b):\n",
    "    return a+b\n",
    "def greet(name):\n",
    "    return f'Hello {name}!!'"
   ]
  },
  {
   "cell_type": "code",
   "execution_count": 35,
   "id": "54c365e1-1fcb-4731-969a-95afa602a09b",
   "metadata": {
    "tags": []
   },
   "outputs": [],
   "source": [
    "def apply (func,*args):\n",
    "    return func(*args) # * here is used to unpack the values coming from the tuple, its not indicating the *args as in a function definition"
   ]
  },
  {
   "cell_type": "code",
   "execution_count": 36,
   "id": "25ada92a-24af-4db3-9ce3-f28236c58bb7",
   "metadata": {
    "tags": []
   },
   "outputs": [
    {
     "data": {
      "text/plain": [
       "9"
      ]
     },
     "execution_count": 36,
     "metadata": {},
     "output_type": "execute_result"
    }
   ],
   "source": [
    "apply(add,5,4)"
   ]
  },
  {
   "cell_type": "code",
   "execution_count": 37,
   "id": "faa8df38-1b63-4d04-b148-8820e98ad03b",
   "metadata": {
    "tags": []
   },
   "outputs": [
    {
     "data": {
      "text/plain": [
       "60"
      ]
     },
     "execution_count": 37,
     "metadata": {},
     "output_type": "execute_result"
    }
   ],
   "source": [
    "apply(lambda a,b,c : a+b+c, 1data 0,20,30)"
   ]
  },
  {
   "cell_type": "code",
   "execution_count": 38,
   "id": "f6a2cdf8-b709-4ae1-80b1-ae8d37e9f798",
   "metadata": {
    "tags": []
   },
   "outputs": [],
   "source": [
    "def mult(a,b):\n",
    "    return a*b\n",
    "def pow(a,n):\n",
    "    return a**n"
   ]
  },
  {
   "cell_type": "code",
   "execution_count": 39,
   "id": "224052a2-686e-4b91-92fc-411fe2fe0048",
   "metadata": {
    "tags": []
   },
   "outputs": [],
   "source": [
    "def choose_operator(name):\n",
    "    if name == 'add':\n",
    "        return add\n",
    "    if name == 'mult':\n",
    "        return mult\n",
    "    if name == 'pow':\n",
    "        return pow\n",
    "    "
   ]
  },
  {
   "cell_type": "markdown",
   "id": "0405b50f-697c-4c9a-994e-e0df5fd75e4b",
   "metadata": {},
   "source": [
    "### map"
   ]
  },
  {
   "cell_type": "code",
   "execution_count": 40,
   "id": "54f684c2-9cce-4800-b4b7-d57ac1c3de05",
   "metadata": {
    "tags": []
   },
   "outputs": [],
   "source": [
    "data  = ['a','ab','abc','abcd']"
   ]
  },
  {
   "cell_type": "code",
   "execution_count": 43,
   "id": "75e263e7-298b-4ec5-a1cb-5b9d436ecca7",
   "metadata": {
    "tags": []
   },
   "outputs": [
    {
     "data": {
      "text/plain": [
       "[1, 2, 3, 4]"
      ]
     },
     "execution_count": 43,
     "metadata": {},
     "output_type": "execute_result"
    }
   ],
   "source": [
    "lengths = [len(el) for el in data]\n",
    "lengths "
   ]
  },
  {
   "cell_type": "code",
   "execution_count": 49,
   "id": "af0ce731-e899-4fff-b5f7-1b9e8143aaf9",
   "metadata": {
    "tags": []
   },
   "outputs": [
    {
     "data": {
      "text/plain": [
       "<generator object <genexpr> at 0xffff5b5a7b50>"
      ]
     },
     "execution_count": 49,
     "metadata": {},
     "output_type": "execute_result"
    }
   ],
   "source": [
    "len_it = (len(el) for el in data)\n",
    "len_it"
   ]
  },
  {
   "cell_type": "code",
   "execution_count": 50,
   "id": "3e09d4a3-4410-42f8-bd59-fb6b0215e631",
   "metadata": {
    "tags": []
   },
   "outputs": [
    {
     "data": {
      "text/plain": [
       "True"
      ]
     },
     "execution_count": 50,
     "metadata": {},
     "output_type": "execute_result"
    }
   ],
   "source": [
    " 3 in len_it"
   ]
  },
  {
   "cell_type": "code",
   "execution_count": 52,
   "id": "7ea31c77-954c-42d4-ba58-6bba18062f7b",
   "metadata": {
    "tags": []
   },
   "outputs": [
    {
     "data": {
      "text/plain": [
       "<map at 0xffff742e24a0>"
      ]
     },
     "execution_count": 52,
     "metadata": {},
     "output_type": "execute_result"
    }
   ],
   "source": [
    "len_it2 = map(len,data)\n",
    "len_it2"
   ]
  },
  {
   "cell_type": "markdown",
   "id": "b9cad6ac-9361-421e-aefd-792fbd80d1ff",
   "metadata": {},
   "source": [
    "### closures\n",
    "\n",
    "closure only happens when the inner functions has to capture values fro the outer function"
   ]
  },
  {
   "cell_type": "code",
   "execution_count": 53,
   "id": "e4e70de0-4c9b-41ba-83a3-b6753c4eedcf",
   "metadata": {
    "tags": []
   },
   "outputs": [],
   "source": [
    "def outer(a,b):\n",
    "    sum_ = a+b\n",
    "    def inner():\n",
    "        prod = a*b\n",
    "        print(a,b,sum_,prod)\n",
    "        return \"You just called closure\"\n",
    "    return inner"
   ]
  },
  {
   "cell_type": "code",
   "execution_count": 54,
   "id": "ff8c4b7d-dd41-4ac5-905f-0fe1b5930b08",
   "metadata": {
    "tags": []
   },
   "outputs": [],
   "source": [
    "func = outer(2,3)"
   ]
  },
  {
   "cell_type": "code",
   "execution_count": 55,
   "id": "e298e9a4-1354-4f5e-a627-4d440d7a13f7",
   "metadata": {
    "tags": []
   },
   "outputs": [
    {
     "data": {
      "text/plain": [
       "<function __main__.outer.<locals>.inner()>"
      ]
     },
     "execution_count": 55,
     "metadata": {},
     "output_type": "execute_result"
    }
   ],
   "source": [
    "func"
   ]
  },
  {
   "cell_type": "code",
   "execution_count": 57,
   "id": "625b7a0a-94ef-4072-8011-40feb22205c2",
   "metadata": {
    "tags": []
   },
   "outputs": [
    {
     "data": {
      "text/plain": [
       "(<cell at 0xffff742e1930: int object at 0xffff8095c110>,\n",
       " <cell at 0xffff742e1960: int object at 0xffff8095c130>,\n",
       " <cell at 0xffff742e18a0: int object at 0xffff8095c170>)"
      ]
     },
     "execution_count": 57,
     "metadata": {},
     "output_type": "execute_result"
    }
   ],
   "source": [
    "func.__closure__"
   ]
  },
  {
   "cell_type": "code",
   "execution_count": 58,
   "id": "48c8b6ae-695e-4360-b8d9-97f4ed28b50a",
   "metadata": {
    "tags": []
   },
   "outputs": [
    {
     "name": "stdout",
     "output_type": "stream",
     "text": [
      "2 3 5 6\n"
     ]
    },
    {
     "data": {
      "text/plain": [
       "'You just called closure'"
      ]
     },
     "execution_count": 58,
     "metadata": {},
     "output_type": "execute_result"
    }
   ],
   "source": [
    "func()"
   ]
  },
  {
   "cell_type": "code",
   "execution_count": 59,
   "id": "db13d76a-b9f3-4c7f-aa3b-715cac146566",
   "metadata": {
    "tags": []
   },
   "outputs": [],
   "source": [
    "def power(n):\n",
    "    def inner(x):\n",
    "        return x**n\n",
    "    return inner"
   ]
  },
  {
   "cell_type": "code",
   "execution_count": 60,
   "id": "c183d47a-f9b8-4dfa-a224-241b3571c05f",
   "metadata": {
    "tags": []
   },
   "outputs": [],
   "source": [
    "square = power(2)"
   ]
  },
  {
   "cell_type": "code",
   "execution_count": 61,
   "id": "d01dbe1a-d0d4-4ff1-9b05-3a5d84d38eb3",
   "metadata": {
    "tags": []
   },
   "outputs": [
    {
     "data": {
      "text/plain": [
       "100"
      ]
     },
     "execution_count": 61,
     "metadata": {},
     "output_type": "execute_result"
    }
   ],
   "source": [
    "square(10)"
   ]
  },
  {
   "cell_type": "code",
   "execution_count": 62,
   "id": "fc6ea07c-59c0-4db6-ab25-74ef7ac79591",
   "metadata": {
    "tags": []
   },
   "outputs": [
    {
     "data": {
      "text/plain": [
       "1000"
      ]
     },
     "execution_count": 62,
     "metadata": {},
     "output_type": "execute_result"
    }
   ],
   "source": [
    "cubes = power(3)\n",
    "cubes(10)"
   ]
  },
  {
   "cell_type": "code",
   "execution_count": 63,
   "id": "81107b24-4b08-4532-8349-f397c1a3000d",
   "metadata": {
    "tags": []
   },
   "outputs": [],
   "source": [
    "def execute(func):\n",
    "    def inner(a,b):\n",
    "        return func(a,b)\n",
    "    return inner"
   ]
  },
  {
   "cell_type": "code",
   "execution_count": 64,
   "id": "a62fcf87-9344-4b16-8fa8-e448dc1a9686",
   "metadata": {
    "tags": []
   },
   "outputs": [],
   "source": [
    "add_exe = execute(add)"
   ]
  },
  {
   "cell_type": "code",
   "execution_count": 65,
   "id": "d93c3f82-0324-42c6-931d-fadf578c6a96",
   "metadata": {
    "tags": []
   },
   "outputs": [
    {
     "data": {
      "text/plain": [
       "9"
      ]
     },
     "execution_count": 65,
     "metadata": {},
     "output_type": "execute_result"
    }
   ],
   "source": [
    "add_exe(4,5)"
   ]
  },
  {
   "cell_type": "code",
   "execution_count": 2,
   "id": "31577729-e85d-4bc5-86ac-56f2aed29f31",
   "metadata": {
    "tags": []
   },
   "outputs": [],
   "source": [
    "def factorial(n):\n",
    "    prod = 1\n",
    "    for el in range(2,n+1):\n",
    "        prod *=el\n",
    "    return prod"
   ]
  },
  {
   "cell_type": "code",
   "execution_count": 68,
   "id": "d9be3914-bbf6-4570-b6a6-b74edc4d0247",
   "metadata": {
    "tags": []
   },
   "outputs": [],
   "source": [
    "def diag_matrix(row,cols, *, diagonal=1):\n",
    "    return "
   ]
  },
  {
   "cell_type": "code",
   "execution_count": 3,
   "id": "2c3b058a-8899-4e40-9dcd-ec80caa41b23",
   "metadata": {
    "tags": []
   },
   "outputs": [
    {
     "data": {
      "text/plain": [
       "3628800"
      ]
     },
     "execution_count": 3,
     "metadata": {},
     "output_type": "execute_result"
    }
   ],
   "source": [
    "factorial(10)"
   ]
  },
  {
   "cell_type": "code",
   "execution_count": 4,
   "id": "b8dd6bac-1286-4594-81f7-a40e9735e60a",
   "metadata": {},
   "outputs": [],
   "source": [
    "# wrapper for time_it\n",
    "from time import perf_counter\n",
    "def time_it(func, *args, **kwargs):\n",
    "    start = perf_counter()\n",
    "    result = func(*args,**kwargs)\n",
    "    end = perf_counter()\n",
    "    print(f'time elapsed: {end - start}')\n",
    "    return result\n",
    "    "
   ]
  },
  {
   "cell_type": "code",
   "execution_count": 7,
   "id": "e05b1877-f9c4-4ebe-876b-a485e201208d",
   "metadata": {
    "tags": []
   },
   "outputs": [
    {
     "name": "stdout",
     "output_type": "stream",
     "text": [
      "time elapsed: 4.7980999966057425e-05\n"
     ]
    },
    {
     "data": {
      "text/plain": [
       "57133839564458545904789328652610540031895535786011264182548375833179829124845398393126574488675311145377107878746854204162666250198684504466355949195922066574942592095735778929325357290444962472405416790722118445437122269675520000000000000000000000000000000000000"
      ]
     },
     "execution_count": 7,
     "metadata": {},
     "output_type": "execute_result"
    }
   ],
   "source": [
    "time_it(factorial, 150)"
   ]
  },
  {
   "cell_type": "code",
   "execution_count": null,
   "id": "e3cbe901-2906-4610-a335-bb11d958102c",
   "metadata": {},
   "outputs": [],
   "source": []
  }
 ],
 "metadata": {
  "kernelspec": {
   "display_name": "Python 3 (ipykernel)",
   "language": "python",
   "name": "python3"
  },
  "language_info": {
   "codemirror_mode": {
    "name": "ipython",
    "version": 3
   },
   "file_extension": ".py",
   "mimetype": "text/x-python",
   "name": "python",
   "nbconvert_exporter": "python",
   "pygments_lexer": "ipython3",
   "version": "3.10.6"
  }
 },
 "nbformat": 4,
 "nbformat_minor": 5
}
