{
 "cells": [
  {
   "cell_type": "markdown",
   "id": "aa3ec01c-388d-4e0f-94fe-c5eca5bae6a0",
   "metadata": {},
   "source": [
    "# everything in python is a class\n",
    "    * has a type  (aka class)\n",
    "    * has a state\n",
    "    * has functinality\n",
    "    eg: \n",
    "        * list is a n object\n",
    "        * its state are elemnts in the list\n",
    "        * functinalit sucgh as .append\n",
    "    \n",
    "    lly : custom classes willl also have the same properties"
   ]
  },
  {
   "cell_type": "markdown",
   "id": "6abc3df3-8668-4a13-993b-e59ae7f58f21",
   "metadata": {
    "tags": []
   },
   "source": [
    "classes as blue print:\n",
    "    * a single classes can be used for creating multiple instances\n",
    "    * ecah instance will have its own state\n",
    "    * functionalites are bound to instance\n",
    "        * they cannot access the state of the instance\n",
    "        "
   ]
  },
  {
   "cell_type": "markdown",
   "id": "deaef21a-2cb8-45ba-a891-22f4b5c47596",
   "metadata": {},
   "source": [
    "use class keyowrd\n",
    "```python\n",
    "class Person:\n",
    "    ''' A simple Person Calss'''\n",
    "```\n",
    "    * the code above is as simple as class can be\n",
    "        * but python ijects a lot of functionality into that class for us\n",
    "            * it is callable\n",
    "```python\n",
    "p = Person()\n",
    "```\n",
    "            * Person and p have some state Python defined for us\n",
    "```python\n",
    "Person.__doc__ -> 'A simple Person Calss'\n",
    "Person.__name__ -> 'Person'\n",
    "type(p) -> Person\n",
    "```"
   ]
  },
  {
   "cell_type": "markdown",
   "id": "518222c2-1913-4066-b4d2-ba1c3b83dd6d",
   "metadata": {},
   "source": [
    "# object\n",
    "* a container \n",
    "    * contains data -> state -> attribute\n",
    "    * contains functionality -> behaviour -> methodes\n",
    "    "
   ]
  },
  {
   "cell_type": "code",
   "execution_count": 1,
   "id": "16fba880-3733-40b7-b084-b3fb18398916",
   "metadata": {
    "tags": []
   },
   "outputs": [],
   "source": [
    "## objetcs and classes\n",
    "class Person:\n",
    "    pass"
   ]
  },
  {
   "cell_type": "code",
   "execution_count": 2,
   "id": "3bda5e7b-8f60-4ae8-bfdd-bd8ca8a8c8cd",
   "metadata": {
    "tags": []
   },
   "outputs": [
    {
     "data": {
      "text/plain": [
       "type"
      ]
     },
     "execution_count": 2,
     "metadata": {},
     "output_type": "execute_result"
    }
   ],
   "source": [
    "type(Person)"
   ]
  },
  {
   "cell_type": "code",
   "execution_count": 3,
   "id": "1f1fc09a-44c6-4469-a4aa-ad85cdaf3d48",
   "metadata": {
    "tags": []
   },
   "outputs": [
    {
     "data": {
      "text/plain": [
       "'Person'"
      ]
     },
     "execution_count": 3,
     "metadata": {},
     "output_type": "execute_result"
    }
   ],
   "source": [
    "Person.__name__"
   ]
  },
  {
   "cell_type": "code",
   "execution_count": 4,
   "id": "86e7238d-ad77-4f97-99c9-06b3a899482a",
   "metadata": {
    "tags": []
   },
   "outputs": [],
   "source": [
    "p = Person()"
   ]
  },
  {
   "cell_type": "code",
   "execution_count": 5,
   "id": "c7ba5bfa-6670-495b-87ff-5de9b8cff087",
   "metadata": {
    "tags": []
   },
   "outputs": [
    {
     "data": {
      "text/plain": [
       "__main__.Person"
      ]
     },
     "execution_count": 5,
     "metadata": {},
     "output_type": "execute_result"
    }
   ],
   "source": [
    "type(p)"
   ]
  },
  {
   "cell_type": "code",
   "execution_count": 6,
   "id": "28518498-2606-4636-9069-a8cf5ca1bd21",
   "metadata": {
    "tags": []
   },
   "outputs": [
    {
     "data": {
      "text/plain": [
       "True"
      ]
     },
     "execution_count": 6,
     "metadata": {},
     "output_type": "execute_result"
    }
   ],
   "source": [
    "isinstance(p,Person)"
   ]
  },
  {
   "cell_type": "code",
   "execution_count": 7,
   "id": "7b2d8961-fa68-4774-8746-386926d3368b",
   "metadata": {
    "tags": []
   },
   "outputs": [],
   "source": [
    "#Class attributes\n",
    "class MyClass():\n",
    "    language = 'Python'\n",
    "    version = '3.10'"
   ]
  },
  {
   "cell_type": "code",
   "execution_count": 8,
   "id": "87f41830-bd47-4967-968a-7264b8450032",
   "metadata": {
    "tags": []
   },
   "outputs": [
    {
     "data": {
      "text/plain": [
       "'Python'"
      ]
     },
     "execution_count": 8,
     "metadata": {},
     "output_type": "execute_result"
    }
   ],
   "source": [
    "mc = MyClass()\n",
    "mc.language"
   ]
  },
  {
   "cell_type": "code",
   "execution_count": 9,
   "id": "1c6dc888-a44c-4b8b-878f-6ee7f82ebd10",
   "metadata": {
    "tags": []
   },
   "outputs": [
    {
     "data": {
      "text/plain": [
       "'3.10'"
      ]
     },
     "execution_count": 9,
     "metadata": {},
     "output_type": "execute_result"
    }
   ],
   "source": [
    "getattr(MyClass,'version')"
   ]
  },
  {
   "cell_type": "code",
   "execution_count": 10,
   "id": "dc4a7e82-5081-4359-ad40-b6f84f969267",
   "metadata": {
    "tags": []
   },
   "outputs": [
    {
     "data": {
      "text/plain": [
       "'NA'"
      ]
     },
     "execution_count": 10,
     "metadata": {},
     "output_type": "execute_result"
    }
   ],
   "source": [
    "getattr(MyClass,'x','NA')"
   ]
  },
  {
   "cell_type": "code",
   "execution_count": 14,
   "id": "ba1b4b12-3910-49fb-b8c1-6114500c9595",
   "metadata": {
    "tags": []
   },
   "outputs": [],
   "source": [
    "setattr(MyClass,'author','Abhijith')\n",
    "setattr(MyClass,'x','y')"
   ]
  },
  {
   "cell_type": "code",
   "execution_count": 15,
   "id": "f4884d50-eb56-48a2-8934-dae4e1e2f93d",
   "metadata": {
    "tags": []
   },
   "outputs": [
    {
     "data": {
      "text/plain": [
       "'Abhijith'"
      ]
     },
     "execution_count": 15,
     "metadata": {},
     "output_type": "execute_result"
    }
   ],
   "source": [
    "mc.author"
   ]
  },
  {
   "cell_type": "code",
   "execution_count": 16,
   "id": "a9a32149-827f-4ea5-b8e1-2a3029c6361c",
   "metadata": {},
   "outputs": [
    {
     "data": {
      "text/plain": [
       "mappingproxy({'__module__': '__main__',\n",
       "              'language': 'Python',\n",
       "              'version': '3.10',\n",
       "              '__dict__': <attribute '__dict__' of 'MyClass' objects>,\n",
       "              '__weakref__': <attribute '__weakref__' of 'MyClass' objects>,\n",
       "              '__doc__': None,\n",
       "              'author': 'Abhijith',\n",
       "              'x': 'y'})"
      ]
     },
     "execution_count": 16,
     "metadata": {},
     "output_type": "execute_result"
    }
   ],
   "source": [
    "MyClass.__dict__"
   ]
  },
  {
   "cell_type": "code",
   "execution_count": 17,
   "id": "6b1e307a-2670-400d-9a6b-c1c2691804d5",
   "metadata": {
    "tags": []
   },
   "outputs": [],
   "source": [
    "delattr(MyClass,'x') # or del Myclass.x"
   ]
  },
  {
   "cell_type": "code",
   "execution_count": 18,
   "id": "b4f2791b-0f81-4a45-ab69-c00e21fb919e",
   "metadata": {
    "tags": []
   },
   "outputs": [],
   "source": [
    "from time import perf_counter"
   ]
  },
  {
   "cell_type": "code",
   "execution_count": 20,
   "id": "8f9d387a-ea81-48d1-81f5-e934d5e72a05",
   "metadata": {
    "tags": []
   },
   "outputs": [
    {
     "ename": "AttributeError",
     "evalue": "'builtin_function_or_method' object has no attribute '__dict__'",
     "output_type": "error",
     "traceback": [
      "\u001b[0;31m---------------------------------------------------------------------------\u001b[0m",
      "\u001b[0;31mAttributeError\u001b[0m                            Traceback (most recent call last)",
      "Cell \u001b[0;32mIn[20], line 1\u001b[0m\n\u001b[0;32m----> 1\u001b[0m \u001b[43mperf_counter\u001b[49m\u001b[38;5;241;43m.\u001b[39;49m\u001b[38;5;18;43m__dict__\u001b[39;49m\n",
      "\u001b[0;31mAttributeError\u001b[0m: 'builtin_function_or_method' object has no attribute '__dict__'"
     ]
    }
   ],
   "source": [
    "perf_counter.__dict__"
   ]
  },
  {
   "cell_type": "code",
   "execution_count": 21,
   "id": "dec9bb5e-b722-4535-9c6e-2f732b4c2cf6",
   "metadata": {
    "tags": []
   },
   "outputs": [
    {
     "ename": "AttributeError",
     "evalue": "type object 'str' has no attribute '___dict__'",
     "output_type": "error",
     "traceback": [
      "\u001b[0;31m---------------------------------------------------------------------------\u001b[0m",
      "\u001b[0;31mAttributeError\u001b[0m                            Traceback (most recent call last)",
      "Cell \u001b[0;32mIn[21], line 1\u001b[0m\n\u001b[0;32m----> 1\u001b[0m \u001b[38;5;28;43mstr\u001b[39;49m\u001b[38;5;241;43m.\u001b[39;49m\u001b[43m___dict__\u001b[49m\n",
      "\u001b[0;31mAttributeError\u001b[0m: type object 'str' has no attribute '___dict__'"
     ]
    }
   ],
   "source": []
  },
  {
   "cell_type": "code",
   "execution_count": 22,
   "id": "f6be6e34-5dc2-4dcd-a617-3c0f2bca55dd",
   "metadata": {
    "tags": []
   },
   "outputs": [],
   "source": [
    "## callable class attribute\n",
    "class MyClass:\n",
    "    language = 'Python'\n",
    "    def hello():\n",
    "        print('Hello world')"
   ]
  },
  {
   "cell_type": "code",
   "execution_count": 24,
   "id": "da215a96-fca7-4f65-ad36-ea1d7952c5c3",
   "metadata": {
    "tags": []
   },
   "outputs": [
    {
     "name": "stdout",
     "output_type": "stream",
     "text": [
      "Hello world\n"
     ]
    }
   ],
   "source": [
    "MyClass.hello()"
   ]
  },
  {
   "cell_type": "code",
   "execution_count": 27,
   "id": "fad775bb-63d3-458b-860d-67eb47acbb4e",
   "metadata": {
    "tags": []
   },
   "outputs": [
    {
     "name": "stdout",
     "output_type": "stream",
     "text": [
      "Hello world\n"
     ]
    }
   ],
   "source": [
    "my_func = MyClass.__dict__['hello']\n",
    "my_func()"
   ]
  },
  {
   "cell_type": "code",
   "execution_count": 28,
   "id": "2ee6e247-bb67-49a3-ae77-705fe4a4f8ef",
   "metadata": {
    "tags": []
   },
   "outputs": [],
   "source": [
    "# data attributes\n",
    "class BankAccount:\n",
    "    apr = 1.2\n",
    "    \n"
   ]
  },
  {
   "cell_type": "code",
   "execution_count": 30,
   "id": "7dd95765-1d8b-49f5-b5f6-db91dc0056d1",
   "metadata": {
    "tags": []
   },
   "outputs": [],
   "source": [
    "acc1 = BankAccount()\n",
    "acc2 = BankAccount()"
   ]
  },
  {
   "cell_type": "code",
   "execution_count": 31,
   "id": "44097b6a-ed34-40e0-a745-261a2811080e",
   "metadata": {
    "tags": []
   },
   "outputs": [
    {
     "data": {
      "text/plain": [
       "({}, {})"
      ]
     },
     "execution_count": 31,
     "metadata": {},
     "output_type": "execute_result"
    }
   ],
   "source": [
    "acc1.__dict__,acc2.__dict__"
   ]
  },
  {
   "cell_type": "code",
   "execution_count": 32,
   "id": "1baf848c-4eb8-4903-8313-7790050e2947",
   "metadata": {
    "tags": []
   },
   "outputs": [
    {
     "data": {
      "text/plain": [
       "(1.2, 1.2)"
      ]
     },
     "execution_count": 32,
     "metadata": {},
     "output_type": "execute_result"
    }
   ],
   "source": [
    "acc1.apr,acc2.apr # class attribute\n"
   ]
  },
  {
   "cell_type": "code",
   "execution_count": 33,
   "id": "9f1e8be8-5c85-449f-9777-c1d38f1b1e7c",
   "metadata": {
    "tags": []
   },
   "outputs": [],
   "source": [
    "acc1.apr = 0"
   ]
  },
  {
   "cell_type": "code",
   "execution_count": 34,
   "id": "b366ae5b-0198-462d-b19e-d13a8bdd4763",
   "metadata": {
    "tags": []
   },
   "outputs": [
    {
     "data": {
      "text/plain": [
       "({'apr': 0}, {})"
      ]
     },
     "execution_count": 34,
     "metadata": {},
     "output_type": "execute_result"
    }
   ],
   "source": [
    "acc1.__dict__,acc2.__dict__  #instance attribite"
   ]
  },
  {
   "cell_type": "code",
   "execution_count": 36,
   "id": "7ef0a0ca-a586-4570-a9ba-6a69e4024364",
   "metadata": {
    "tags": []
   },
   "outputs": [
    {
     "data": {
      "text/plain": [
       "(0, 1.2)"
      ]
     },
     "execution_count": 36,
     "metadata": {},
     "output_type": "execute_result"
    }
   ],
   "source": [
    "acc1.apr,acc2.apr # class attribute only if intance attribute is not present"
   ]
  },
  {
   "cell_type": "code",
   "execution_count": 39,
   "id": "a82f2bf9-20d0-4ddf-8e2e-ff1641961a33",
   "metadata": {
    "tags": []
   },
   "outputs": [
    {
     "data": {
      "text/plain": [
       "'acc1.apr,acc2.apr # class attribute only if intance attribute is not present'"
      ]
     },
     "execution_count": 39,
     "metadata": {},
     "output_type": "execute_result"
    }
   ],
   "source": [
    "_i36"
   ]
  },
  {
   "cell_type": "code",
   "execution_count": 40,
   "id": "46af2152-216a-494f-a535-9180bd72b38e",
   "metadata": {
    "tags": []
   },
   "outputs": [
    {
     "data": {
      "text/plain": [
       "str"
      ]
     },
     "execution_count": 40,
     "metadata": {},
     "output_type": "execute_result"
    }
   ],
   "source": [
    "type(_i36)"
   ]
  },
  {
   "cell_type": "markdown",
   "id": "51226240-6d29-4869-9627-21985d280400",
   "metadata": {
    "tags": []
   },
   "source": [
    "## function attributes\n",
    "\n",
    "* Methodes\n",
    "    * Methodes are objects that combine :\n",
    "        * instnaces (of some class)\n",
    "        * function\n",
    "    * like nay object it has attributes\n",
    "        * __self__ -> the instnace the methode is bound to\n",
    "        * __func__ -> the original function (defined in the class)\n",
    "        \n",
    "    * instance methodes:\n",
    "        > this means that we have to account for that \"extra\" argument that when we define functions in our classes - ottherwise we cannot us ethem as methods bound to our instances. \n",
    "```python \n",
    "class MyClass:\n",
    "    def say_hello(obj):\n",
    "        print('Hello World!')\n",
    "```\n",
    "        \n",
    "        * first parm (obj here) will receive the instance object"
   ]
  },
  {
   "cell_type": "code",
   "execution_count": 42,
   "id": "b359fe92-1afc-4cd4-8f7e-e10f0b02b1cd",
   "metadata": {
    "tags": []
   },
   "outputs": [],
   "source": [
    "class Person:\n",
    "    def say_hello():\n",
    "        print('Hello World!')"
   ]
  },
  {
   "cell_type": "code",
   "execution_count": 43,
   "id": "387ebe73-e83b-4cbd-8c59-1306cab9918c",
   "metadata": {
    "tags": []
   },
   "outputs": [
    {
     "name": "stdout",
     "output_type": "stream",
     "text": [
      "Hello World!\n"
     ]
    }
   ],
   "source": [
    "Person.say_hello()"
   ]
  },
  {
   "cell_type": "code",
   "execution_count": 44,
   "id": "2b0e1b78-0e6d-4702-b3f3-d20a9c2406c1",
   "metadata": {
    "tags": []
   },
   "outputs": [
    {
     "data": {
      "text/plain": [
       "function"
      ]
     },
     "execution_count": 44,
     "metadata": {},
     "output_type": "execute_result"
    }
   ],
   "source": [
    "type(Person.say_hello)"
   ]
  },
  {
   "cell_type": "code",
   "execution_count": 45,
   "id": "f6741c1e-513e-4bdb-ad0f-52e1bb288a33",
   "metadata": {
    "tags": []
   },
   "outputs": [],
   "source": [
    "p = Person()"
   ]
  },
  {
   "cell_type": "code",
   "execution_count": 46,
   "id": "6f24873f-33c8-4a16-8e7c-3674886e8de6",
   "metadata": {
    "tags": []
   },
   "outputs": [
    {
     "data": {
      "text/plain": [
       "'0xffff64f00340'"
      ]
     },
     "execution_count": 46,
     "metadata": {},
     "output_type": "execute_result"
    }
   ],
   "source": [
    "hex(id(p))"
   ]
  },
  {
   "cell_type": "code",
   "execution_count": 48,
   "id": "328a8cb0-136a-4075-bd65-a6d0aae77678",
   "metadata": {
    "tags": []
   },
   "outputs": [
    {
     "data": {
      "text/plain": [
       "<bound method Person.say_hello of <__main__.Person object at 0xffff64f00340>>"
      ]
     },
     "execution_count": 48,
     "metadata": {},
     "output_type": "execute_result"
    }
   ],
   "source": [
    "p.say_hello # this is a bounded object"
   ]
  },
  {
   "cell_type": "code",
   "execution_count": 49,
   "id": "893b66ff-2181-4c3e-acc8-a91e169c9046",
   "metadata": {
    "tags": []
   },
   "outputs": [
    {
     "data": {
      "text/plain": [
       "method"
      ]
     },
     "execution_count": 49,
     "metadata": {},
     "output_type": "execute_result"
    }
   ],
   "source": [
    "type(p.say_hello)"
   ]
  },
  {
   "cell_type": "code",
   "execution_count": 50,
   "id": "41644923-e538-453b-b93f-00171b74a394",
   "metadata": {
    "tags": []
   },
   "outputs": [
    {
     "data": {
      "text/plain": [
       "False"
      ]
     },
     "execution_count": 50,
     "metadata": {},
     "output_type": "execute_result"
    }
   ],
   "source": [
    "type(p.say_hello) is type(Person.say_hello) "
   ]
  },
  {
   "cell_type": "markdown",
   "id": "d6738ebe-7e69-490c-9867-a7046c122081",
   "metadata": {},
   "source": [
    "they are not the same "
   ]
  },
  {
   "cell_type": "code",
   "execution_count": 52,
   "id": "0a919ab5-8816-41f6-a64f-82fce4e80cb5",
   "metadata": {
    "tags": []
   },
   "outputs": [
    {
     "ename": "TypeError",
     "evalue": "Person.say_hello() takes 0 positional arguments but 1 was given",
     "output_type": "error",
     "traceback": [
      "\u001b[0;31m---------------------------------------------------------------------------\u001b[0m",
      "\u001b[0;31mTypeError\u001b[0m                                 Traceback (most recent call last)",
      "Cell \u001b[0;32mIn[52], line 1\u001b[0m\n\u001b[0;32m----> 1\u001b[0m \u001b[43mp\u001b[49m\u001b[38;5;241;43m.\u001b[39;49m\u001b[43msay_hello\u001b[49m\u001b[43m(\u001b[49m\u001b[43m)\u001b[49m\n",
      "\u001b[0;31mTypeError\u001b[0m: Person.say_hello() takes 0 positional arguments but 1 was given"
     ]
    }
   ],
   "source": [
    "p.say_hello()"
   ]
  },
  {
   "cell_type": "markdown",
   "id": "3782c22e-2134-4a3e-8448-051148832b33",
   "metadata": {},
   "source": [
    "the error is beacuse the instance object is injected into the method by python"
   ]
  },
  {
   "cell_type": "code",
   "execution_count": 54,
   "id": "1f70d187-bc74-4b59-83e3-057894851917",
   "metadata": {
    "tags": []
   },
   "outputs": [],
   "source": [
    "class Person:\n",
    "    def say_hello(*args):\n",
    "        print('Hello World!',args)"
   ]
  },
  {
   "cell_type": "code",
   "execution_count": 55,
   "id": "6d254c1c-4d55-4238-a10e-2179e5b9f07a",
   "metadata": {
    "tags": []
   },
   "outputs": [
    {
     "name": "stdout",
     "output_type": "stream",
     "text": [
      "Hello World! ()\n"
     ]
    }
   ],
   "source": [
    "Person.say_hello()"
   ]
  },
  {
   "cell_type": "code",
   "execution_count": 56,
   "id": "b8695614-e41a-4d5d-9f8d-35cde745a689",
   "metadata": {
    "tags": []
   },
   "outputs": [],
   "source": [
    "p = Person()"
   ]
  },
  {
   "cell_type": "code",
   "execution_count": 57,
   "id": "714e940d-15bc-427f-a7f8-8a7965a49835",
   "metadata": {
    "tags": []
   },
   "outputs": [
    {
     "data": {
      "text/plain": [
       "'0xffff64f56e60'"
      ]
     },
     "execution_count": 57,
     "metadata": {},
     "output_type": "execute_result"
    }
   ],
   "source": [
    "hex(id(p))"
   ]
  },
  {
   "cell_type": "code",
   "execution_count": 58,
   "id": "927b9091-79c0-49cd-85fe-7e3ffe82bda6",
   "metadata": {
    "tags": []
   },
   "outputs": [
    {
     "name": "stdout",
     "output_type": "stream",
     "text": [
      "Hello World! (<__main__.Person object at 0xffff64f56e60>,)\n"
     ]
    }
   ],
   "source": [
    "p.say_hello()"
   ]
  },
  {
   "cell_type": "code",
   "execution_count": 59,
   "id": "760e5932-9ed7-4e31-9f91-e84c86e49cce",
   "metadata": {
    "tags": []
   },
   "outputs": [],
   "source": [
    "class Person:\n",
    "    def set_name(instance_obj, new_name):\n",
    "        instance_obj.name = new_name\n",
    "    def say_hello():\n",
    "        print('Hello World!')"
   ]
  },
  {
   "cell_type": "code",
   "execution_count": 60,
   "id": "9e4e66cf-5b76-4bee-8e4f-42abd56060f6",
   "metadata": {
    "tags": []
   },
   "outputs": [],
   "source": [
    "p = Person()"
   ]
  },
  {
   "cell_type": "code",
   "execution_count": 61,
   "id": "f74a6c3a-95a5-4353-942f-eb9dfdd6b721",
   "metadata": {
    "tags": []
   },
   "outputs": [],
   "source": [
    "p.set_name = 'Abhi'"
   ]
  },
  {
   "cell_type": "code",
   "execution_count": 62,
   "id": "a1b1c5a0-4430-4e6c-a7ab-cdaffd826c26",
   "metadata": {
    "tags": []
   },
   "outputs": [
    {
     "data": {
      "text/plain": [
       "{'set_name': 'Abhi'}"
      ]
     },
     "execution_count": 62,
     "metadata": {},
     "output_type": "execute_result"
    }
   ],
   "source": [
    "p.__dict__"
   ]
  },
  {
   "cell_type": "markdown",
   "id": "1afb84b4-d14b-42be-a83c-280cbb5b3fd9",
   "metadata": {},
   "source": [
    "conventionally in python programming we donot use the param instance_obj, instard we use 'self'"
   ]
  },
  {
   "cell_type": "code",
   "execution_count": 63,
   "id": "8c9e5925-ab41-47d8-91de-42da8cc6b75a",
   "metadata": {
    "tags": []
   },
   "outputs": [],
   "source": [
    "class Person:\n",
    "    def say_hello(self):\n",
    "        print('Hello World!')"
   ]
  },
  {
   "cell_type": "code",
   "execution_count": 64,
   "id": "a566a0ce-16a5-4033-b4e9-5f2967216369",
   "metadata": {
    "tags": []
   },
   "outputs": [],
   "source": [
    "p = Person()"
   ]
  },
  {
   "cell_type": "code",
   "execution_count": 65,
   "id": "ab1f7c8c-13d2-4f84-a1d4-4bff7c41e50a",
   "metadata": {
    "tags": []
   },
   "outputs": [
    {
     "data": {
      "text/plain": [
       "<bound method Person.say_hello of <__main__.Person object at 0xffff6597b8b0>>"
      ]
     },
     "execution_count": 65,
     "metadata": {},
     "output_type": "execute_result"
    }
   ],
   "source": [
    "p.say_hello"
   ]
  },
  {
   "cell_type": "code",
   "execution_count": 66,
   "id": "8036440a-5ec0-4e05-9cdf-2026942a9380",
   "metadata": {
    "tags": []
   },
   "outputs": [],
   "source": [
    "m_hello = p.say_hello"
   ]
  },
  {
   "cell_type": "code",
   "execution_count": 67,
   "id": "ff3b9420-8a81-4ae9-be86-33a926b6e02b",
   "metadata": {
    "tags": []
   },
   "outputs": [
    {
     "data": {
      "text/plain": [
       "<bound method Person.say_hello of <__main__.Person object at 0xffff6597b8b0>>"
      ]
     },
     "execution_count": 67,
     "metadata": {},
     "output_type": "execute_result"
    }
   ],
   "source": [
    "m_hello"
   ]
  },
  {
   "cell_type": "code",
   "execution_count": 68,
   "id": "67174bdc-5382-4836-8393-a7063a302ebb",
   "metadata": {
    "tags": []
   },
   "outputs": [
    {
     "data": {
      "text/plain": [
       "<function __main__.Person.say_hello(self)>"
      ]
     },
     "execution_count": 68,
     "metadata": {},
     "output_type": "execute_result"
    }
   ],
   "source": [
    "m_hello.__func__"
   ]
  },
  {
   "cell_type": "code",
   "execution_count": 69,
   "id": "d35e389d-f83f-4d42-9cf5-fb9c8ae11c7c",
   "metadata": {
    "tags": []
   },
   "outputs": [
    {
     "data": {
      "text/plain": [
       "'0xffff6597b8b0'"
      ]
     },
     "execution_count": 69,
     "metadata": {},
     "output_type": "execute_result"
    }
   ],
   "source": [
    "hex(id(p))"
   ]
  },
  {
   "cell_type": "code",
   "execution_count": 70,
   "id": "82aca80d-3bdb-4b0e-9464-1d8f1fbd4c5f",
   "metadata": {
    "tags": []
   },
   "outputs": [
    {
     "data": {
      "text/plain": [
       "<__main__.Person at 0xffff6597b8b0>"
      ]
     },
     "execution_count": 70,
     "metadata": {},
     "output_type": "execute_result"
    }
   ],
   "source": [
    "m_hello.__self__"
   ]
  },
  {
   "cell_type": "code",
   "execution_count": 71,
   "id": "1428d510-da9a-4d99-80de-c2b441f3e6d7",
   "metadata": {
    "tags": []
   },
   "outputs": [],
   "source": [
    "# monkey patching  - it means to modify the attributes of a class during run time"
   ]
  },
  {
   "cell_type": "code",
   "execution_count": 72,
   "id": "f647e85f-b121-4364-84e9-d964d812b435",
   "metadata": {
    "tags": []
   },
   "outputs": [],
   "source": [
    "class Person:\n",
    "    def say_hello(self):\n",
    "        print(f'instance method called from {self}')"
   ]
  },
  {
   "cell_type": "code",
   "execution_count": 73,
   "id": "9f760ef2-4e19-4e42-b26c-8f9b8b7e2d6a",
   "metadata": {
    "tags": []
   },
   "outputs": [],
   "source": [
    "p = Person()"
   ]
  },
  {
   "cell_type": "code",
   "execution_count": 74,
   "id": "0e8a3aa1-4782-401b-8920-3d91108e5ed1",
   "metadata": {
    "tags": []
   },
   "outputs": [
    {
     "data": {
      "text/plain": [
       "'0xffff651c3bb0'"
      ]
     },
     "execution_count": 74,
     "metadata": {},
     "output_type": "execute_result"
    }
   ],
   "source": [
    "hex(id(p))"
   ]
  },
  {
   "cell_type": "code",
   "execution_count": 75,
   "id": "a2fd9641-22ca-4ba7-9e98-a7da4788339d",
   "metadata": {
    "tags": []
   },
   "outputs": [
    {
     "name": "stdout",
     "output_type": "stream",
     "text": [
      "instance method called from <__main__.Person object at 0xffff651c3bb0>\n"
     ]
    }
   ],
   "source": [
    "p.say_hello()"
   ]
  },
  {
   "cell_type": "code",
   "execution_count": 79,
   "id": "c66739c1-874f-4b9a-a405-4337cda5a7ee",
   "metadata": {
    "tags": []
   },
   "outputs": [],
   "source": [
    "Person.do_work = lambda self : f'do_wok called from {self}' "
   ]
  },
  {
   "cell_type": "code",
   "execution_count": 80,
   "id": "4979448d-9be4-483f-ad09-587a2b0016e7",
   "metadata": {
    "tags": []
   },
   "outputs": [
    {
     "data": {
      "text/plain": [
       "<bound method Person.say_hello of <__main__.Person object at 0xffff651c3bb0>>"
      ]
     },
     "execution_count": 80,
     "metadata": {},
     "output_type": "execute_result"
    }
   ],
   "source": [
    "p.say_hello"
   ]
  },
  {
   "cell_type": "code",
   "execution_count": 81,
   "id": "93ab18d4-ef52-4070-ae4e-d604766e0334",
   "metadata": {
    "tags": []
   },
   "outputs": [
    {
     "data": {
      "text/plain": [
       "<bound method <lambda> of <__main__.Person object at 0xffff651c3bb0>>"
      ]
     },
     "execution_count": 81,
     "metadata": {},
     "output_type": "execute_result"
    }
   ],
   "source": [
    "p.do_work"
   ]
  },
  {
   "cell_type": "code",
   "execution_count": 84,
   "id": "fc46ad38-34ed-42df-b4ca-993afa97e2ee",
   "metadata": {
    "tags": []
   },
   "outputs": [],
   "source": [
    "p.other_work = lambda *args : f'other func called with {args}'"
   ]
  },
  {
   "cell_type": "code",
   "execution_count": 85,
   "id": "263f2d09-1012-4e13-bc29-6a991d671d5a",
   "metadata": {
    "tags": []
   },
   "outputs": [
    {
     "data": {
      "text/plain": [
       "<function __main__.<lambda>(*args)>"
      ]
     },
     "execution_count": 85,
     "metadata": {},
     "output_type": "execute_result"
    }
   ],
   "source": [
    "p.other_work"
   ]
  },
  {
   "cell_type": "code",
   "execution_count": 86,
   "id": "1ac69a09-b81e-410b-bedb-4f56926bf257",
   "metadata": {
    "tags": []
   },
   "outputs": [
    {
     "data": {
      "text/plain": [
       "{'other_work': <function __main__.<lambda>(*args)>}"
      ]
     },
     "execution_count": 86,
     "metadata": {},
     "output_type": "execute_result"
    }
   ],
   "source": [
    "p.__dict__"
   ]
  },
  {
   "cell_type": "code",
   "execution_count": 88,
   "id": "3a5c8470-c1e9-4db5-a043-674b07a54e73",
   "metadata": {
    "tags": []
   },
   "outputs": [
    {
     "data": {
      "text/plain": [
       "'other func called with ()'"
      ]
     },
     "execution_count": 88,
     "metadata": {},
     "output_type": "execute_result"
    }
   ],
   "source": [
    "p.other_work()"
   ]
  },
  {
   "cell_type": "code",
   "execution_count": 5,
   "id": "ec874b41-8937-4365-9ae4-b11a3b883f07",
   "metadata": {
    "tags": []
   },
   "outputs": [
    {
     "data": {
      "application/vnd.jupyter.widget-view+json": {
       "model_id": "342c16f4b22145b899a06cca862fe06e",
       "version_major": 2,
       "version_minor": 0
      },
      "text/plain": [
       "Canvas(height=20, width=20)"
      ]
     },
     "execution_count": 5,
     "metadata": {},
     "output_type": "execute_result"
    }
   ],
   "source": [
    "from ipycanvas import Canvas\n",
    "\n",
    "canvas = Canvas(width=20, height=20)\n",
    "canvas"
   ]
  },
  {
   "cell_type": "markdown",
   "id": "4b6693ce-dc6d-4c43-b59c-d6b75e8ef4c8",
   "metadata": {},
   "source": [
    "## initializing Class instance\n",
    "\n",
    "when we insatntiate a class, by default python do two things   \n",
    "* create a new instance of the class\n",
    "* initilizes the namespace (\\__dict__)\n",
    "\n",
    "```python\n",
    "class MyClass:\n",
    "    language  = 'Python'        #language is class attribute -> in class namespace \n",
    "    def __init__(obj, version): # __init__ is class attribute -> in class name space (as function)\n",
    "        obj.version = version\n",
    "```\n",
    "\n",
    "> when we call `MyClass('3.7')`  \n",
    "> * Python creates anew instance of the object with an empty names space \n",
    "> * if we have defined an \\__init__ function in the class\n",
    "    * it calls `obj.__init__('3.7')` -> bounded method -> `MyClass.__init__(obj,'3.7')`\n",
    "    * our function runs and adds `version` to `obj`'s name space \n",
    "    * version is an instance attrbute \n",
    "        `obj.__dict__` -> `{'version':'3.7'}`"
   ]
  },
  {
   "cell_type": "code",
   "execution_count": 6,
   "id": "37623fc5-8b20-4882-9f81-d62cdec973ee",
   "metadata": {
    "tags": []
   },
   "outputs": [],
   "source": [
    "class Person:\n",
    "    def __init__(self):\n",
    "        print(f'Initializing a new Person Object: {self}')"
   ]
  },
  {
   "cell_type": "code",
   "execution_count": 7,
   "id": "41490758-aaac-4fd8-9940-e5f8e0ce9eef",
   "metadata": {
    "tags": []
   },
   "outputs": [
    {
     "name": "stdout",
     "output_type": "stream",
     "text": [
      "Initializing a new Person Object: <__main__.Person object at 0xffff54e2b490>\n"
     ]
    }
   ],
   "source": [
    "p = Person()"
   ]
  },
  {
   "cell_type": "code",
   "execution_count": 8,
   "id": "cf7691aa-83c7-4a0d-8c30-5baacb28e62c",
   "metadata": {
    "tags": []
   },
   "outputs": [],
   "source": [
    "class Person:\n",
    "    def __init__(self,name):\n",
    "        self.name = name"
   ]
  },
  {
   "cell_type": "code",
   "execution_count": 9,
   "id": "be2f9f37-cf0e-4747-86a9-3c3bbf10d994",
   "metadata": {
    "tags": []
   },
   "outputs": [],
   "source": [
    "p = Person('Abhi')"
   ]
  },
  {
   "cell_type": "code",
   "execution_count": 10,
   "id": "304aedff-63f3-48bb-a9e8-f6a831f5e2fe",
   "metadata": {
    "tags": []
   },
   "outputs": [
    {
     "data": {
      "text/plain": [
       "'Abhi'"
      ]
     },
     "execution_count": 10,
     "metadata": {},
     "output_type": "execute_result"
    }
   ],
   "source": [
    "p.name"
   ]
  },
  {
   "cell_type": "code",
   "execution_count": 12,
   "id": "2f657f27-828d-4057-b7dc-afcd403bf947",
   "metadata": {
    "tags": []
   },
   "outputs": [
    {
     "data": {
      "text/plain": [
       "{'name': 'Abhi'}"
      ]
     },
     "execution_count": 12,
     "metadata": {},
     "output_type": "execute_result"
    }
   ],
   "source": [
    "p.__dict__"
   ]
  },
  {
   "cell_type": "code",
   "execution_count": 13,
   "id": "e820cf55-160d-4507-a26f-ef68ab8f5da9",
   "metadata": {
    "tags": []
   },
   "outputs": [],
   "source": [
    "class Person:\n",
    "    def init(self,name):\n",
    "        self.name = name"
   ]
  },
  {
   "cell_type": "code",
   "execution_count": 14,
   "id": "5ce7b662-baf5-46af-9f8d-56f040bf3f60",
   "metadata": {
    "tags": []
   },
   "outputs": [],
   "source": [
    "p = Person()"
   ]
  },
  {
   "cell_type": "code",
   "execution_count": 15,
   "id": "790e76ec-f615-4d52-afe1-006f5cb41ab6",
   "metadata": {
    "tags": []
   },
   "outputs": [
    {
     "data": {
      "text/plain": [
       "{}"
      ]
     },
     "execution_count": 15,
     "metadata": {},
     "output_type": "execute_result"
    }
   ],
   "source": [
    "p.__dict__"
   ]
  },
  {
   "cell_type": "code",
   "execution_count": 16,
   "id": "256c98b1-10af-4f99-9124-c0e8ac3227b7",
   "metadata": {
    "tags": []
   },
   "outputs": [],
   "source": [
    "p.init('Abhi')"
   ]
  },
  {
   "cell_type": "code",
   "execution_count": 17,
   "id": "9d577e45-cf8d-49e6-a9e9-5cb0f3a48238",
   "metadata": {
    "tags": []
   },
   "outputs": [
    {
     "data": {
      "text/plain": [
       "{'name': 'Abhi'}"
      ]
     },
     "execution_count": 17,
     "metadata": {},
     "output_type": "execute_result"
    }
   ],
   "source": [
    "p.__dict__"
   ]
  },
  {
   "cell_type": "markdown",
   "id": "f81b39c5-7067-4af8-a05f-30698882b473",
   "metadata": {},
   "source": [
    "here both appproches above are same, but `__init__` does the two activitioes done when `init` used together at one step"
   ]
  },
  {
   "cell_type": "code",
   "execution_count": 19,
   "id": "400b754c-c7d9-478f-9cda-50fc31d4266e",
   "metadata": {
    "tags": []
   },
   "outputs": [],
   "source": [
    "## creating attributes at runtime"
   ]
  },
  {
   "cell_type": "code",
   "execution_count": 20,
   "id": "58b83204-1a77-448a-862d-3796c9892a4e",
   "metadata": {
    "tags": []
   },
   "outputs": [],
   "source": [
    "class Person:\n",
    "    pass"
   ]
  },
  {
   "cell_type": "code",
   "execution_count": 21,
   "id": "48ac5c76-e67f-4e23-ab6f-79633fe7d25d",
   "metadata": {
    "tags": []
   },
   "outputs": [],
   "source": [
    "p = Person()"
   ]
  },
  {
   "cell_type": "code",
   "execution_count": 22,
   "id": "acb09cc4-201b-4293-9a3a-cea475375a6f",
   "metadata": {
    "tags": []
   },
   "outputs": [],
   "source": [
    "p1 = Person()"
   ]
  },
  {
   "cell_type": "code",
   "execution_count": 23,
   "id": "fd5c8984-edd9-42d7-a8da-50cc2b768e00",
   "metadata": {
    "tags": []
   },
   "outputs": [],
   "source": [
    "p1.say_hello = lambda : 'Say hello'"
   ]
  },
  {
   "cell_type": "code",
   "execution_count": 24,
   "id": "4b3057da-1201-45af-86aa-9d68cf6f7115",
   "metadata": {
    "tags": []
   },
   "outputs": [
    {
     "data": {
      "text/plain": [
       "{'say_hello': <function __main__.<lambda>()>}"
      ]
     },
     "execution_count": 24,
     "metadata": {},
     "output_type": "execute_result"
    }
   ],
   "source": [
    "p1.__dict__"
   ]
  },
  {
   "cell_type": "markdown",
   "id": "f5f4319f-598e-4c51-b0c3-d1fc2f6e5661",
   "metadata": {},
   "source": [
    "## properties\n",
    "python doesnot have public or private attributes\n",
    "* instread the convention is to make the attribute private, and create public getter and setter methodes\n",
    "```python\n",
    "class MyClass:\n",
    "    def __init__(self, language):\n",
    "        self._language = language\n",
    "    def get_language(self):\n",
    "        return self._language\n",
    "    def set_language(self, value):\n",
    "        self._language = value\n",
    "```\n",
    "\n",
    "but this is not a very safe approach in programming and not very easy to use as well   \n",
    "but python has a solution if we ever have to do this\n",
    "\n",
    "we can use the `property` class to define properties in a class\n",
    "\n",
    "```python\n",
    "class MyClass:\n",
    "    def __init__(self, language):\n",
    "        self._language = language\n",
    "    def get_language(self):\n",
    "        return self._language\n",
    "    def set_language(self, value):\n",
    "        self._language = value\n",
    "    language = property(fget = get_language, fset = set_language)\n",
    "```"
   ]
  },
  {
   "cell_type": "code",
   "execution_count": 25,
   "id": "46d1689c-9649-4e37-bc26-b069655d69d3",
   "metadata": {
    "tags": []
   },
   "outputs": [],
   "source": [
    "class Person():\n",
    "    def __init__(self, name):\n",
    "        self.name = name"
   ]
  },
  {
   "cell_type": "code",
   "execution_count": 27,
   "id": "e16abbce-0b7c-4941-aa20-dccf934baa18",
   "metadata": {
    "tags": []
   },
   "outputs": [],
   "source": [
    "p = Person('Abhi') # but we can change this using p.name= value"
   ]
  },
  {
   "cell_type": "code",
   "execution_count": 31,
   "id": "d458ebb2-2909-43cc-ad88-ba4c732ab7c1",
   "metadata": {
    "tags": []
   },
   "outputs": [],
   "source": [
    "class Person():\n",
    "    def __init__(self, name):\n",
    "        self._name = name\n",
    "    def get_lname(self):\n",
    "        return self._name\n",
    "    def set_name(self, value):\n",
    "        self._name = value.strip()\n",
    "    # name = property(fget = get_lname, fset = set_name)"
   ]
  },
  {
   "cell_type": "code",
   "execution_count": 32,
   "id": "b0b81b60-437a-467b-97f3-b69c9fea4ce2",
   "metadata": {
    "tags": []
   },
   "outputs": [],
   "source": [
    "p = Person(' Abhi')"
   ]
  },
  {
   "cell_type": "code",
   "execution_count": 33,
   "id": "aaa15837-3ed8-4e4c-9482-c13804c04f55",
   "metadata": {
    "tags": []
   },
   "outputs": [
    {
     "data": {
      "text/plain": [
       "' Abhi'"
      ]
     },
     "execution_count": 33,
     "metadata": {},
     "output_type": "execute_result"
    }
   ],
   "source": [
    "p.get_lname()"
   ]
  },
  {
   "cell_type": "code",
   "execution_count": 34,
   "id": "72734368-c648-48c7-a797-c8958a5cd9eb",
   "metadata": {
    "tags": []
   },
   "outputs": [],
   "source": [
    "p.set_name('Vishnu')"
   ]
  },
  {
   "cell_type": "code",
   "execution_count": 35,
   "id": "345117ff-7f7e-49db-b5a0-459b59454524",
   "metadata": {
    "tags": []
   },
   "outputs": [
    {
     "data": {
      "text/plain": [
       "'Vishnu'"
      ]
     },
     "execution_count": 35,
     "metadata": {},
     "output_type": "execute_result"
    }
   ],
   "source": [
    "p.get_lname()"
   ]
  },
  {
   "cell_type": "code",
   "execution_count": 36,
   "id": "b1904506-3902-4e57-a55c-c17a12d1bd90",
   "metadata": {
    "tags": []
   },
   "outputs": [
    {
     "data": {
      "text/plain": [
       "property"
      ]
     },
     "execution_count": 36,
     "metadata": {},
     "output_type": "execute_result"
    }
   ],
   "source": [
    "type(property())"
   ]
  },
  {
   "cell_type": "code",
   "execution_count": 40,
   "id": "3d0788df-2754-4b5f-bea3-d10701dd6618",
   "metadata": {
    "tags": []
   },
   "outputs": [],
   "source": [
    "class Person():\n",
    "    def __init__(self, name):\n",
    "        self._name = name\n",
    "    def get_lname(self):\n",
    "        return self._name\n",
    "    def set_name(self, value):\n",
    "        self._name = value.strip()\n",
    "    name = property(fget = get_lname, fset = set_name)"
   ]
  },
  {
   "cell_type": "code",
   "execution_count": 41,
   "id": "2acc5148-9c39-4cdb-ad2c-cbcf15b2be30",
   "metadata": {
    "tags": []
   },
   "outputs": [],
   "source": [
    "p = Person('Abhi')"
   ]
  },
  {
   "cell_type": "code",
   "execution_count": 42,
   "id": "a128eaac-e8cf-4c83-9073-87093cb514b6",
   "metadata": {
    "tags": []
   },
   "outputs": [
    {
     "data": {
      "text/plain": [
       "'Abhi'"
      ]
     },
     "execution_count": 42,
     "metadata": {},
     "output_type": "execute_result"
    }
   ],
   "source": [
    "p.name"
   ]
  },
  {
   "cell_type": "code",
   "execution_count": 43,
   "id": "f3c6b4c3-a23a-4951-bcdf-463446766669",
   "metadata": {
    "tags": []
   },
   "outputs": [],
   "source": [
    "p.name = 'Vishnu'"
   ]
  },
  {
   "cell_type": "code",
   "execution_count": 44,
   "id": "04a98bff-cad9-45f4-b318-1312a46293af",
   "metadata": {
    "tags": []
   },
   "outputs": [
    {
     "data": {
      "text/plain": [
       "{'_name': 'Vishnu'}"
      ]
     },
     "execution_count": 44,
     "metadata": {},
     "output_type": "execute_result"
    }
   ],
   "source": [
    "p.__dict__"
   ]
  },
  {
   "cell_type": "code",
   "execution_count": 45,
   "id": "cbd9c1dd-b1ab-4704-87cc-7635544e2877",
   "metadata": {
    "tags": []
   },
   "outputs": [
    {
     "data": {
      "text/plain": [
       "mappingproxy({'__module__': '__main__',\n",
       "              '__init__': <function __main__.Person.__init__(self, name)>,\n",
       "              'get_lname': <function __main__.Person.get_lname(self)>,\n",
       "              'set_name': <function __main__.Person.set_name(self, value)>,\n",
       "              'name': <property at 0xffff54bcd440>,\n",
       "              '__dict__': <attribute '__dict__' of 'Person' objects>,\n",
       "              '__weakref__': <attribute '__weakref__' of 'Person' objects>,\n",
       "              '__doc__': None})"
      ]
     },
     "execution_count": 45,
     "metadata": {},
     "output_type": "execute_result"
    }
   ],
   "source": [
    "Person.__dict__"
   ]
  },
  {
   "cell_type": "code",
   "execution_count": 48,
   "id": "c170aa36-3b8a-49a5-830f-c3d9b93617b9",
   "metadata": {
    "tags": []
   },
   "outputs": [
    {
     "ename": "AttributeError",
     "evalue": "can't delete attribute 'name'",
     "output_type": "error",
     "traceback": [
      "\u001b[0;31m---------------------------------------------------------------------------\u001b[0m",
      "\u001b[0;31mAttributeError\u001b[0m                            Traceback (most recent call last)",
      "Cell \u001b[0;32mIn[48], line 1\u001b[0m\n\u001b[0;32m----> 1\u001b[0m \u001b[38;5;28;01mdel\u001b[39;00m p\u001b[38;5;241m.\u001b[39mname\n",
      "\u001b[0;31mAttributeError\u001b[0m: can't delete attribute 'name'"
     ]
    }
   ],
   "source": [
    "del p.name"
   ]
  },
  {
   "cell_type": "markdown",
   "id": "8e8442b7-fad5-4c23-a98e-1fd36beed514",
   "metadata": {
    "tags": []
   },
   "source": [
    "## property decorators\n",
    "\n",
    "```python\n",
    "class MyClass:\n",
    "    def __init__(self, language):\n",
    "        self._language = language\n",
    "        \n",
    "    @property\n",
    "    def langauage(self):\n",
    "        return self._language\n",
    "    @language.setter\n",
    "    def langauge(self, value):\n",
    "        self._language = value\n",
    "        \n",
    "```"
   ]
  },
  {
   "cell_type": "code",
   "execution_count": 63,
   "id": "695a3ecb-c976-4b09-ac12-672d5bc86459",
   "metadata": {
    "tags": []
   },
   "outputs": [],
   "source": [
    "class MyClass:\n",
    "    def __init__(self, language):\n",
    "        self._language = language\n",
    "        \n",
    "    @property\n",
    "    def language(self):\n",
    "        return self._language\n",
    "    @language.setter\n",
    "    def language(self, value):\n",
    "        self._language = value\n",
    "        \n",
    "    @language.deleter\n",
    "    def del_language(self):\n",
    "        del self._language"
   ]
  },
  {
   "cell_type": "code",
   "execution_count": 64,
   "id": "57b06c08-f6a6-4eee-9e47-d7d707864f63",
   "metadata": {
    "tags": []
   },
   "outputs": [],
   "source": [
    " p = MyClass('Python')"
   ]
  },
  {
   "cell_type": "code",
   "execution_count": 65,
   "id": "117b49ee-8868-4da8-88b1-2a151cb2a4fa",
   "metadata": {
    "tags": []
   },
   "outputs": [
    {
     "data": {
      "text/plain": [
       "'Python'"
      ]
     },
     "execution_count": 65,
     "metadata": {},
     "output_type": "execute_result"
    }
   ],
   "source": [
    "p.language"
   ]
  },
  {
   "cell_type": "code",
   "execution_count": 66,
   "id": "d299e9b0-eb0e-45d4-8997-17d586dd043c",
   "metadata": {
    "tags": []
   },
   "outputs": [],
   "source": [
    "p.language = 'java'"
   ]
  },
  {
   "cell_type": "code",
   "execution_count": 67,
   "id": "f0d591d2-5bcd-4f55-927c-276b43dcbb84",
   "metadata": {
    "tags": []
   },
   "outputs": [
    {
     "data": {
      "text/plain": [
       "{'_language': 'java'}"
      ]
     },
     "execution_count": 67,
     "metadata": {},
     "output_type": "execute_result"
    }
   ],
   "source": [
    "p.__dict__"
   ]
  },
  {
   "cell_type": "code",
   "execution_count": 69,
   "id": "1923731d-240a-4a69-ba92-10496a907c40",
   "metadata": {
    "tags": []
   },
   "outputs": [],
   "source": [
    "del p._language"
   ]
  },
  {
   "cell_type": "code",
   "execution_count": 70,
   "id": "e837842e-cba5-4810-a60a-9eccfdb44e0b",
   "metadata": {
    "tags": []
   },
   "outputs": [
    {
     "data": {
      "text/plain": [
       "{}"
      ]
     },
     "execution_count": 70,
     "metadata": {},
     "output_type": "execute_result"
    }
   ],
   "source": [
    "p.__dict__"
   ]
  },
  {
   "cell_type": "code",
   "execution_count": 71,
   "id": "7941428c-3d86-471f-8693-cd4e2a8d8e32",
   "metadata": {
    "tags": []
   },
   "outputs": [
    {
     "data": {
      "text/plain": [
       "mappingproxy({'__new__': <function property.__new__(*args, **kwargs)>,\n",
       "              '__getattribute__': <slot wrapper '__getattribute__' of 'property' objects>,\n",
       "              '__get__': <slot wrapper '__get__' of 'property' objects>,\n",
       "              '__set__': <slot wrapper '__set__' of 'property' objects>,\n",
       "              '__delete__': <slot wrapper '__delete__' of 'property' objects>,\n",
       "              '__init__': <slot wrapper '__init__' of 'property' objects>,\n",
       "              'getter': <method 'getter' of 'property' objects>,\n",
       "              'setter': <method 'setter' of 'property' objects>,\n",
       "              'deleter': <method 'deleter' of 'property' objects>,\n",
       "              '__set_name__': <method '__set_name__' of 'property' objects>,\n",
       "              'fget': <member 'fget' of 'property' objects>,\n",
       "              'fset': <member 'fset' of 'property' objects>,\n",
       "              'fdel': <member 'fdel' of 'property' objects>,\n",
       "              '__doc__': <member '__doc__' of 'property' objects>,\n",
       "              '__isabstractmethod__': <attribute '__isabstractmethod__' of 'property' objects>})"
      ]
     },
     "execution_count": 71,
     "metadata": {},
     "output_type": "execute_result"
    }
   ],
   "source": [
    "property.__dict__"
   ]
  },
  {
   "cell_type": "code",
   "execution_count": null,
   "id": "0c5da3e3-ce14-4310-888d-39120c435a9b",
   "metadata": {},
   "outputs": [],
   "source": []
  }
 ],
 "metadata": {
  "kernelspec": {
   "display_name": "Python 3 (ipykernel)",
   "language": "python",
   "name": "python3"
  },
  "language_info": {
   "codemirror_mode": {
    "name": "ipython",
    "version": 3
   },
   "file_extension": ".py",
   "mimetype": "text/x-python",
   "name": "python",
   "nbconvert_exporter": "python",
   "pygments_lexer": "ipython3",
   "version": "3.10.6"
  }
 },
 "nbformat": 4,
 "nbformat_minor": 5
}
