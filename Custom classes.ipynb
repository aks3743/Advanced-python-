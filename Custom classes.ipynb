{
 "cells": [
  {
   "cell_type": "markdown",
   "id": "aa3ec01c-388d-4e0f-94fe-c5eca5bae6a0",
   "metadata": {},
   "source": [
    "# everything in python is a class\n",
    "    * has a type  (aka class)\n",
    "    * has a state\n",
    "    * has functinality\n",
    "    eg: \n",
    "        * list is a n object\n",
    "        * its state are elemnts in the list\n",
    "        * functinalit sucgh as .append\n",
    "    \n",
    "    lly : custom classes willl also have the same properties"
   ]
  },
  {
   "cell_type": "markdown",
   "id": "6abc3df3-8668-4a13-993b-e59ae7f58f21",
   "metadata": {
    "tags": []
   },
   "source": [
    "classes as blue print:\n",
    "    * a single classes can be used for creating multiple instances\n",
    "    * ecah instance will have its own state\n",
    "    * functionalites are bound to instance\n",
    "        * they cannot access the state of the instance\n",
    "        "
   ]
  },
  {
   "cell_type": "markdown",
   "id": "deaef21a-2cb8-45ba-a891-22f4b5c47596",
   "metadata": {},
   "source": [
    "use class keyowrd\n",
    "```python\n",
    "class Person:\n",
    "    ''' A simple Person Calss'''\n",
    "```\n",
    "    * the code above is as simple as class can be\n",
    "        * but python ijects a lot of functionality into that class for us\n",
    "            * it is callable\n",
    "```python\n",
    "p = Person()\n",
    "```\n",
    "            * Person and p have some state Python defined for us\n",
    "```python\n",
    "Person.__doc__ -> 'A simple Person Calss'\n",
    "Person.__name__ -> 'Person'\n",
    "type(p) -> Person\n",
    "```"
   ]
  },
  {
   "cell_type": "markdown",
   "id": "518222c2-1913-4066-b4d2-ba1c3b83dd6d",
   "metadata": {},
   "source": [
    "# object\n",
    "* a container \n",
    "    * contains data -> state -> attribute\n",
    "    * contains functionality -> behaviour -> methodes\n",
    "    "
   ]
  },
  {
   "cell_type": "code",
   "execution_count": 2,
   "id": "16fba880-3733-40b7-b084-b3fb18398916",
   "metadata": {
    "tags": []
   },
   "outputs": [],
   "source": [
    "## objetcs and classes\n",
    "class Person:\n",
    "    pass"
   ]
  },
  {
   "cell_type": "code",
   "execution_count": 3,
   "id": "3bda5e7b-8f60-4ae8-bfdd-bd8ca8a8c8cd",
   "metadata": {
    "tags": []
   },
   "outputs": [
    {
     "data": {
      "text/plain": [
       "type"
      ]
     },
     "execution_count": 3,
     "metadata": {},
     "output_type": "execute_result"
    }
   ],
   "source": [
    "type(Person)"
   ]
  },
  {
   "cell_type": "code",
   "execution_count": 4,
   "id": "1f1fc09a-44c6-4469-a4aa-ad85cdaf3d48",
   "metadata": {
    "tags": []
   },
   "outputs": [
    {
     "data": {
      "text/plain": [
       "'Person'"
      ]
     },
     "execution_count": 4,
     "metadata": {},
     "output_type": "execute_result"
    }
   ],
   "source": [
    "Person.__name__"
   ]
  },
  {
   "cell_type": "code",
   "execution_count": 5,
   "id": "86e7238d-ad77-4f97-99c9-06b3a899482a",
   "metadata": {
    "tags": []
   },
   "outputs": [],
   "source": [
    "p = Person()"
   ]
  },
  {
   "cell_type": "code",
   "execution_count": 6,
   "id": "c7ba5bfa-6670-495b-87ff-5de9b8cff087",
   "metadata": {
    "tags": []
   },
   "outputs": [
    {
     "data": {
      "text/plain": [
       "__main__.Person"
      ]
     },
     "execution_count": 6,
     "metadata": {},
     "output_type": "execute_result"
    }
   ],
   "source": [
    "type(p)"
   ]
  },
  {
   "cell_type": "code",
   "execution_count": 7,
   "id": "28518498-2606-4636-9069-a8cf5ca1bd21",
   "metadata": {
    "tags": []
   },
   "outputs": [
    {
     "data": {
      "text/plain": [
       "True"
      ]
     },
     "execution_count": 7,
     "metadata": {},
     "output_type": "execute_result"
    }
   ],
   "source": [
    "isinstance(p,Person)"
   ]
  },
  {
   "cell_type": "code",
   "execution_count": 8,
   "id": "7b2d8961-fa68-4774-8746-386926d3368b",
   "metadata": {
    "tags": []
   },
   "outputs": [],
   "source": [
    "#Class attributes\n",
    "class MyClass():\n",
    "    language = 'Python'\n",
    "    version = '3.10'"
   ]
  },
  {
   "cell_type": "code",
   "execution_count": 9,
   "id": "87f41830-bd47-4967-968a-7264b8450032",
   "metadata": {
    "tags": []
   },
   "outputs": [
    {
     "data": {
      "text/plain": [
       "'Python'"
      ]
     },
     "execution_count": 9,
     "metadata": {},
     "output_type": "execute_result"
    }
   ],
   "source": [
    "mc = MyClass()\n",
    "mc.language"
   ]
  },
  {
   "cell_type": "code",
   "execution_count": 10,
   "id": "1c6dc888-a44c-4b8b-878f-6ee7f82ebd10",
   "metadata": {
    "tags": []
   },
   "outputs": [
    {
     "data": {
      "text/plain": [
       "'3.10'"
      ]
     },
     "execution_count": 10,
     "metadata": {},
     "output_type": "execute_result"
    }
   ],
   "source": [
    "getattr(MyClass,'version')"
   ]
  },
  {
   "cell_type": "code",
   "execution_count": 11,
   "id": "dc4a7e82-5081-4359-ad40-b6f84f969267",
   "metadata": {
    "tags": []
   },
   "outputs": [
    {
     "data": {
      "text/plain": [
       "'NA'"
      ]
     },
     "execution_count": 11,
     "metadata": {},
     "output_type": "execute_result"
    }
   ],
   "source": [
    "getattr(MyClass,'x','NA')"
   ]
  },
  {
   "cell_type": "code",
   "execution_count": 12,
   "id": "ba1b4b12-3910-49fb-b8c1-6114500c9595",
   "metadata": {
    "tags": []
   },
   "outputs": [],
   "source": [
    "setattr(MyClass,'author','Abhijith')"
   ]
  },
  {
   "cell_type": "code",
   "execution_count": 13,
   "id": "f4884d50-eb56-48a2-8934-dae4e1e2f93d",
   "metadata": {
    "tags": []
   },
   "outputs": [
    {
     "data": {
      "text/plain": [
       "'Abhijith'"
      ]
     },
     "execution_count": 13,
     "metadata": {},
     "output_type": "execute_result"
    }
   ],
   "source": [
    "mc.author"
   ]
  },
  {
   "cell_type": "code",
   "execution_count": null,
   "id": "a9a32149-827f-4ea5-b8e1-2a3029c6361c",
   "metadata": {},
   "outputs": [],
   "source": []
  }
 ],
 "metadata": {
  "kernelspec": {
   "display_name": "Python 3 (ipykernel)",
   "language": "python",
   "name": "python3"
  },
  "language_info": {
   "codemirror_mode": {
    "name": "ipython",
    "version": 3
   },
   "file_extension": ".py",
   "mimetype": "text/x-python",
   "name": "python",
   "nbconvert_exporter": "python",
   "pygments_lexer": "ipython3",
   "version": "3.10.6"
  }
 },
 "nbformat": 4,
 "nbformat_minor": 5
}
