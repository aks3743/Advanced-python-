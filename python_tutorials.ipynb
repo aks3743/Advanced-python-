{
 "cells": [
  {
   "cell_type": "markdown",
   "metadata": {
    "tags": []
   },
   "source": [
    "# Python tutorials for interview prep"
   ]
  },
  {
   "cell_type": "markdown",
   "metadata": {
    "id": "M45nCZVleUSf"
   },
   "source": [
    "## Break, continue and pass in python loops"
   ]
  },
  {
   "cell_type": "code",
   "execution_count": null,
   "metadata": {
    "id": "Q9Hvq67TeOiP"
   },
   "outputs": [],
   "source": [
    " while 0:\n",
    "    name=input(\"Enter name: \")\n",
    "    if name !=\"\":\n",
    "        break\n",
    "    print(name)"
   ]
  },
  {
   "cell_type": "code",
   "execution_count": null,
   "metadata": {
    "colab": {
     "base_uri": "https://localhost:8080/"
    },
    "id": "E9TzdG_De4nL",
    "outputId": "15f7d17e-d08c-40ca-df40-bd38030ea799"
   },
   "outputs": [
    {
     "name": "stdout",
     "output_type": "stream",
     "text": [
      "123-456-7890"
     ]
    }
   ],
   "source": [
    "phone_number='123-456-7890ahbdgfgf'\n",
    "\n",
    "for i in phone_number:\n",
    "    if i.isalpha():\n",
    "        continue\n",
    "    print(i,end=\"\")"
   ]
  },
  {
   "cell_type": "code",
   "execution_count": null,
   "metadata": {
    "colab": {
     "base_uri": "https://localhost:8080/"
    },
    "id": "Ba9s4Du-f2BB",
    "outputId": "bf6dd94b-370f-4c53-cfbe-ae0bc6d8ee3a"
   },
   "outputs": [
    {
     "name": "stdout",
     "output_type": "stream",
     "text": [
      "1,2,3,4,5,6,7,8,9,10,11,12,14,15,16,17,18,19,20,21,"
     ]
    }
   ],
   "source": [
    "for i in range(1,22):\n",
    "    if i==13:\n",
    "        pass\n",
    "    else:\n",
    "        print(i,end=\",\")"
   ]
  },
  {
   "cell_type": "code",
   "execution_count": null,
   "metadata": {
    "colab": {
     "base_uri": "https://localhost:8080/"
    },
    "id": "SMlM8CAvgxAp",
    "outputId": "20e5c106-34a9-4d5c-9ac6-7ee8cff0b777"
   },
   "outputs": [
    {
     "name": "stdout",
     "output_type": "stream",
     "text": [
      "hello\n"
     ]
    }
   ],
   "source": [
    "#functions:\n",
    "def hello():\n",
    "    print(\"hello\")\n",
    "\n",
    "\n",
    "hello()"
   ]
  },
  {
   "cell_type": "code",
   "execution_count": null,
   "metadata": {
    "id": "u9zSb9eenA4e"
   },
   "outputs": [],
   "source": [
    "import random\n",
    "cards=[1,2,3,4,5,6,7,8,9,\"A\",\"K\",\"Q\",\"J\"]\n",
    "random.shuffle(cards)\n"
   ]
  },
  {
   "cell_type": "code",
   "execution_count": null,
   "metadata": {
    "colab": {
     "base_uri": "https://localhost:8080/"
    },
    "id": "4j-OxZ42ydpt",
    "outputId": "4073492a-1f1b-425f-c051-1dd5bdf05b03"
   },
   "outputs": [
    {
     "data": {
      "text/plain": [
       "[3, 'Q', 9, 7, 'J', 4, 1, 8, 5, 6, 2, 'A', 'K']"
      ]
     },
     "execution_count": 6,
     "metadata": {},
     "output_type": "execute_result"
    }
   ],
   "source": [
    "cards"
   ]
  },
  {
   "cell_type": "code",
   "execution_count": null,
   "metadata": {
    "colab": {
     "base_uri": "https://localhost:8080/"
    },
    "id": "hQ8KoEgtyfiC",
    "outputId": "4598b05b-9246-4bcc-afd2-73accc5c1ed6"
   },
   "outputs": [
    {
     "data": {
      "text/plain": [
       "0.6427534030890538"
      ]
     },
     "execution_count": 7,
     "metadata": {},
     "output_type": "execute_result"
    }
   ],
   "source": [
    "random.random()"
   ]
  },
  {
   "cell_type": "code",
   "execution_count": null,
   "metadata": {
    "id": "aFvkEG0yymGG"
   },
   "outputs": [],
   "source": [
    "suites=[\"S\",\" \"]"
   ]
  },
  {
   "cell_type": "code",
   "execution_count": null,
   "metadata": {
    "colab": {
     "base_uri": "https://localhost:8080/"
    },
    "id": "dYFcToPjYJ80",
    "outputId": "7849c7cc-a44b-4bc3-85f2-71c88ed77bbf"
   },
   "outputs": [
    {
     "name": "stdout",
     "output_type": "stream",
     "text": [
      "divident: 1\n",
      "devisor: 2\n",
      "0.5\n",
      "0.5\n",
      "snippet ran\n"
     ]
    }
   ],
   "source": [
    "#try and except\n",
    "try:\n",
    "    x=int(input('divident: '))\n",
    "    y=int(input('devisor: '))\n",
    "    print(x/y)\n",
    "except ZeroDivisionError as e:\n",
    "    print(e)\n",
    "except ValueError:\n",
    "    print(\"Only numbers please \")\n",
    "except Exception:\n",
    "    print('wrong :-(')\n",
    "\n",
    "else:\n",
    "    print(x/y)\n",
    "finally:\n",
    "    print('snippet ran')"
   ]
  },
  {
   "cell_type": "code",
   "execution_count": null,
   "metadata": {
    "colab": {
     "base_uri": "https://localhost:8080/"
    },
    "id": "GnWfQj8RYmfm",
    "outputId": "44fb8aba-ef27-493f-f05e-d236cf830190"
   },
   "outputs": [
    {
     "name": "stdout",
     "output_type": "stream",
     "text": [
      "all ok\n"
     ]
    }
   ],
   "source": [
    "import os\n",
    "path='/content/sample_data/anscombe.json'\n",
    "\n",
    "if os.path.exists(path):\n",
    "    print('all ok')\n",
    "else:\n",
    "    print('not ok')"
   ]
  },
  {
   "cell_type": "code",
   "execution_count": null,
   "metadata": {
    "colab": {
     "base_uri": "https://localhost:8080/"
    },
    "id": "9YMG7lN_peAS",
    "outputId": "52a9f9dc-e833-4c5f-c02f-3277fc33155d"
   },
   "outputs": [
    {
     "name": "stdout",
     "output_type": "stream",
     "text": [
      "[\n",
      "  {\"Series\":\"I\", \"X\":10.0, \"Y\":8.04},\n",
      "  {\"Series\":\"I\", \"X\":8.0, \"Y\":6.95},\n",
      "  {\"Series\":\"I\", \"X\":13.0, \"Y\":7.58},\n",
      "  {\"Series\":\"I\", \"X\":9.0, \"Y\":8.81},\n",
      "  {\"Series\":\"I\", \"X\":11.0, \"Y\":8.33},\n",
      "  {\"Series\":\"I\", \"X\":14.0, \"Y\":9.96},\n",
      "  {\"Series\":\"I\", \"X\":6.0, \"Y\":7.24},\n",
      "  {\"Series\":\"I\", \"X\":4.0, \"Y\":4.26},\n",
      "  {\"Series\":\"I\", \"X\":12.0, \"Y\":10.84},\n",
      "  {\"Series\":\"I\", \"X\":7.0, \"Y\":4.81},\n",
      "  {\"Series\":\"I\", \"X\":5.0, \"Y\":5.68},\n",
      "\n",
      "  {\"Series\":\"II\", \"X\":10.0, \"Y\":9.14},\n",
      "  {\"Series\":\"II\", \"X\":8.0, \"Y\":8.14},\n",
      "  {\"Series\":\"II\", \"X\":13.0, \"Y\":8.74},\n",
      "  {\"Series\":\"II\", \"X\":9.0, \"Y\":8.77},\n",
      "  {\"Series\":\"II\", \"X\":11.0, \"Y\":9.26},\n",
      "  {\"Series\":\"II\", \"X\":14.0, \"Y\":8.10},\n",
      "  {\"Series\":\"II\", \"X\":6.0, \"Y\":6.13},\n",
      "  {\"Series\":\"II\", \"X\":4.0, \"Y\":3.10},\n",
      "  {\"Series\":\"II\", \"X\":12.0, \"Y\":9.13},\n",
      "  {\"Series\":\"II\", \"X\":7.0, \"Y\":7.26},\n",
      "  {\"Series\":\"II\", \"X\":5.0, \"Y\":4.74},\n",
      "\n",
      "  {\"Series\":\"III\", \"X\":10.0, \"Y\":7.46},\n",
      "  {\"Series\":\"III\", \"X\":8.0, \"Y\":6.77},\n",
      "  {\"Series\":\"III\", \"X\":13.0, \"Y\":12.74},\n",
      "  {\"Series\":\"III\", \"X\":9.0, \"Y\":7.11},\n",
      "  {\"Series\":\"III\", \"X\":11.0, \"Y\":7.81},\n",
      "  {\"Series\":\"III\", \"X\":14.0, \"Y\":8.84},\n",
      "  {\"Series\":\"III\", \"X\":6.0, \"Y\":6.08},\n",
      "  {\"Series\":\"III\", \"X\":4.0, \"Y\":5.39},\n",
      "  {\"Series\":\"III\", \"X\":12.0, \"Y\":8.15},\n",
      "  {\"Series\":\"III\", \"X\":7.0, \"Y\":6.42},\n",
      "  {\"Series\":\"III\", \"X\":5.0, \"Y\":5.73},\n",
      "\n",
      "  {\"Series\":\"IV\", \"X\":8.0, \"Y\":6.58},\n",
      "  {\"Series\":\"IV\", \"X\":8.0, \"Y\":5.76},\n",
      "  {\"Series\":\"IV\", \"X\":8.0, \"Y\":7.71},\n",
      "  {\"Series\":\"IV\", \"X\":8.0, \"Y\":8.84},\n",
      "  {\"Series\":\"IV\", \"X\":8.0, \"Y\":8.47},\n",
      "  {\"Series\":\"IV\", \"X\":8.0, \"Y\":7.04},\n",
      "  {\"Series\":\"IV\", \"X\":8.0, \"Y\":5.25},\n",
      "  {\"Series\":\"IV\", \"X\":19.0, \"Y\":12.50},\n",
      "  {\"Series\":\"IV\", \"X\":8.0, \"Y\":5.56},\n",
      "  {\"Series\":\"IV\", \"X\":8.0, \"Y\":7.91},\n",
      "  {\"Series\":\"IV\", \"X\":8.0, \"Y\":6.89}\n",
      "]\n",
      "\n"
     ]
    }
   ],
   "source": [
    "try:\n",
    "    with open(path) as file:\n",
    "        print(file.read())\n",
    "except FileNotFoundError as e:\n",
    "    print(e)\n"
   ]
  },
  {
   "cell_type": "code",
   "execution_count": null,
   "metadata": {
    "id": "yrEVJyBSqxFX"
   },
   "outputs": [],
   "source": [
    "\n",
    "\n",
    " try:\n",
    "    for i in range(0,5):\n",
    "        with open('aks.txt','a') as file:\n",
    "            file.write(str(i)+'\\n')\n",
    "except Exception as e:\n",
    "    print(e)\n",
    "\n"
   ]
  },
  {
   "cell_type": "code",
   "execution_count": null,
   "metadata": {
    "colab": {
     "base_uri": "https://localhost:8080/",
     "height": 36
    },
    "id": "tUAlD1M400OV",
    "outputId": "97140de0-8763-4753-a522-46694598ff85"
   },
   "outputs": [
    {
     "data": {
      "application/vnd.google.colaboratory.intrinsic+json": {
       "type": "string"
      },
      "text/plain": [
       "'aks_copy.txt'"
      ]
     },
     "execution_count": 13,
     "metadata": {},
     "output_type": "execute_result"
    }
   ],
   "source": [
    "import shutil\n",
    "shutil.copyfile('aks.txt','aks_copy.txt')\n",
    "#copy()\n",
    "#copy2()"
   ]
  },
  {
   "cell_type": "code",
   "execution_count": null,
   "metadata": {
    "colab": {
     "base_uri": "https://localhost:8080/"
    },
    "id": "J49qduiu3fna",
    "outputId": "e7c4d9d8-cb04-44f9-f1e9-c42fd66f3a88"
   },
   "outputs": [
    {
     "name": "stdout",
     "output_type": "stream",
     "text": [
      "Success 2\n"
     ]
    }
   ],
   "source": [
    "dest='/content/aks/aks.txt'\n",
    "source='/content/aks.txt'\n",
    "try:\n",
    "    if os.path.exists(dest):\n",
    "        print('filename present')\n",
    "        user_ip=input('Do you want to replace ? Y/N -> ')\n",
    "        if user_ip.lower()=='y':\n",
    "            os.replace(source,dest)\n",
    "            print('Success 1')\n",
    "        else:\n",
    "\n",
    "            print('Operation aborted')\n",
    "    else:\n",
    "        try:\n",
    "            os.mkdir(dest[0:len(dest)-7])\n",
    "            os.replace(source,dest)\n",
    "            print('Success 2')\n",
    "        except FileExistsError as e:\n",
    "            print(e)\n",
    "            os.replace(source,dest)\n",
    "            print('Success 3')\n",
    "except FileNotFoundError as e:\n",
    "    print(e, '\\n please chose correct file')"
   ]
  },
  {
   "cell_type": "code",
   "execution_count": null,
   "metadata": {
    "id": "rr9XvP5a58l8"
   },
   "outputs": [],
   "source": [
    "!rm -rf 'content/aks'"
   ]
  },
  {
   "cell_type": "code",
   "execution_count": null,
   "metadata": {
    "id": "LJVwHJf48HRI"
   },
   "outputs": [],
   "source": [
    "shutil.rmtree('/content/aks')"
   ]
  },
  {
   "cell_type": "markdown",
   "metadata": {
    "id": "ZWrNUYWzCQbC"
   },
   "source": [
    "object oriented programming\n"
   ]
  },
  {
   "cell_type": "code",
   "execution_count": null,
   "metadata": {
    "id": "kpYn7AROCHWU"
   },
   "outputs": [],
   "source": [
    "class Car:\n",
    "    pass"
   ]
  },
  {
   "cell_type": "code",
   "execution_count": null,
   "metadata": {
    "colab": {
     "base_uri": "https://localhost:8080/"
    },
    "id": "rIL_WNR4JWuP",
    "outputId": "5afabc86-4f25-45d1-ad72-1efcc541b9db"
   },
   "outputs": [
    {
     "name": "stdout",
     "output_type": "stream",
     "text": [
      "True\n"
     ]
    }
   ],
   "source": [
    "#walrus operator\n",
    "print(happy:=True)"
   ]
  },
  {
   "cell_type": "code",
   "execution_count": null,
   "metadata": {
    "colab": {
     "base_uri": "https://localhost:8080/"
    },
    "id": "axPhLUYv_65m",
    "outputId": "5837009f-cd44-4116-86aa-474cbe9d55c5"
   },
   "outputs": [
    {
     "data": {
      "text/plain": [
       "True"
      ]
     },
     "execution_count": 17,
     "metadata": {},
     "output_type": "execute_result"
    }
   ],
   "source": [
    "happy"
   ]
  },
  {
   "cell_type": "code",
   "execution_count": null,
   "metadata": {
    "colab": {
     "base_uri": "https://localhost:8080/"
    },
    "id": "bVyWsYcbJhW0",
    "outputId": "a7f6f5d6-2975-4ae1-9eb1-a65fbecc2300"
   },
   "outputs": [
    {
     "name": "stdout",
     "output_type": "stream",
     "text": [
      "3.10.11 (main, Apr  5 2023, 14:15:10) [GCC 9.4.0]\n"
     ]
    }
   ],
   "source": [
    "import sys\n",
    "print(sys.version)"
   ]
  },
  {
   "cell_type": "code",
   "execution_count": null,
   "metadata": {
    "colab": {
     "base_uri": "https://localhost:8080/"
    },
    "id": "oS8Ylk4CKx6R",
    "outputId": "0624a370-bc93-48ae-c2e6-8fc2fc63977c"
   },
   "outputs": [
    {
     "name": "stdout",
     "output_type": "stream",
     "text": [
      "Python 3.10.11\n"
     ]
    }
   ],
   "source": [
    "!python3 --version"
   ]
  },
  {
   "cell_type": "code",
   "execution_count": null,
   "metadata": {
    "colab": {
     "base_uri": "https://localhost:8080/",
     "height": 36
    },
    "id": "G93-NP2ooeO4",
    "outputId": "62ed667a-3c0f-49f8-a805-1df4331382db"
   },
   "outputs": [
    {
     "data": {
      "application/vnd.google.colaboratory.intrinsic+json": {
       "type": "string"
      },
      "text/plain": [
       "'OK'"
      ]
     },
     "execution_count": 20,
     "metadata": {},
     "output_type": "execute_result"
    }
   ],
   "source": [
    "#lambda function\n",
    "age_check = lambda x : \"OK\" if x> 18 else \"Not OK\"\n",
    "age_check(5)\n",
    "age_check(55)"
   ]
  },
  {
   "cell_type": "code",
   "execution_count": null,
   "metadata": {
    "colab": {
     "base_uri": "https://localhost:8080/"
    },
    "id": "MT0qwZWRpPwJ",
    "outputId": "69aae702-8e7e-4768-bfb1-086ac28b30bf"
   },
   "outputs": [
    {
     "data": {
      "text/plain": [
       "[('Appu', 'F', 45), ('Bippu', 'B', 65), ('Nippu', 'C', 80), ('Shippu', 'A', 9)]"
      ]
     },
     "execution_count": 21,
     "metadata": {},
     "output_type": "execute_result"
    }
   ],
   "source": [
    "#sort itrables in python\n",
    "# how to sort a list\n",
    "students = [('Appu','F',45),\n",
    "            ('Bippu','B',65),\n",
    "            ('Shippu','A',9),\n",
    "            ('Nippu','C',80)]\n",
    "\n",
    "students.sort()\n",
    "grades = lambda grades: grades[1] # to mention the second colums as key in sorting\n",
    "students.sort(key=lambda x :x[0])\n",
    "students"
   ]
  },
  {
   "cell_type": "code",
   "execution_count": null,
   "metadata": {
    "colab": {
     "base_uri": "https://localhost:8080/"
    },
    "id": "gTTvXDF9r-Dj",
    "outputId": "eb3637cb-126a-486c-c2b5-2facef50b7b4"
   },
   "outputs": [
    {
     "data": {
      "text/plain": [
       "[('Shippu', 'A', 9), ('Bippu', 'B', 65), ('Nippu', 'C', 80), ('Appu', 'F', 45)]"
      ]
     },
     "execution_count": 22,
     "metadata": {},
     "output_type": "execute_result"
    }
   ],
   "source": [
    "# sort other iterables\n",
    "students = (('Appu','F',45),\n",
    "            ('Bippu','B',65),\n",
    "            ('Shippu','A',9),\n",
    "            ('Nippu','C',80))\n",
    "sorted_students = sorted(students,key=grades)\n",
    "sorted_students"
   ]
  },
  {
   "cell_type": "code",
   "execution_count": null,
   "metadata": {
    "colab": {
     "base_uri": "https://localhost:8080/"
    },
    "id": "3mz5Gg7JtfMF",
    "outputId": "9b246e48-cbd2-43e8-a7cc-3d35e83a779c"
   },
   "outputs": [
    {
     "data": {
      "text/plain": [
       "[('pants', 20.5, 'L'),\n",
       " ('shirt', 16.4, 'M'),\n",
       " ('socks', 8.2, 'S'),\n",
       " ('jackets', 41.0, 'XL')]"
      ]
     },
     "execution_count": 23,
     "metadata": {},
     "output_type": "execute_result"
    }
   ],
   "source": [
    "#map function :\n",
    "\n",
    "store = [('shirt',20.00,'M'),\n",
    "         ('pants',25.00,'L'),\n",
    "         ('jackets',50.00,'XL'),\n",
    "        ('socks',10.00,'S')]\n",
    "to_euros = lambda data : (data[0],data[1]*0.82,data[2])\n",
    "price=lambda price:price[2]\n",
    "store_euro = sorted(list(map(to_euros,store)),key=price)\n",
    "store_euro"
   ]
  },
  {
   "cell_type": "code",
   "execution_count": null,
   "metadata": {
    "colab": {
     "base_uri": "https://localhost:8080/"
    },
    "id": "A2_2Fkutdkwz",
    "outputId": "cd0f1bd5-38c6-4714-f209-d5b8b807f665"
   },
   "outputs": [
    {
     "name": "stdout",
     "output_type": "stream",
     "text": [
      "['h', 'e', 'l', 'l', 'o', 'i'] helloi\n"
     ]
    }
   ],
   "source": [
    "#reduce function\n",
    "letters = ['h','e','l','l','o','i']\n",
    "import functools\n",
    "word= functools.reduce(lambda x,y:x+y,letters)\n",
    "print(letters,word)"
   ]
  },
  {
   "cell_type": "code",
   "execution_count": null,
   "metadata": {
    "colab": {
     "base_uri": "https://localhost:8080/",
     "height": 36
    },
    "id": "6umAqpg4gryT",
    "outputId": "9756e66b-8e3a-4b55-e8c9-4c9627a7b99d"
   },
   "outputs": [
    {
     "data": {
      "application/vnd.google.colaboratory.intrinsic+json": {
       "type": "string"
      },
      "text/plain": [
       "'ooii'"
      ]
     },
     "execution_count": 28,
     "metadata": {},
     "output_type": "execute_result"
    }
   ],
   "source": [
    "''.join(x*2 for x in letters if x in ['i','o'] )"
   ]
  },
  {
   "cell_type": "code",
   "execution_count": null,
   "metadata": {
    "colab": {
     "base_uri": "https://localhost:8080/"
    },
    "id": "vU9jLIWCePlA",
    "outputId": "89ded427-97b8-4d4d-ef97-4393b9a5fac3"
   },
   "outputs": [
    {
     "data": {
      "text/plain": [
       "120"
      ]
     },
     "execution_count": 35,
     "metadata": {},
     "output_type": "execute_result"
    }
   ],
   "source": [
    "fact=range(1,6)\n",
    "factorial = functools.reduce(lambda x,y:x*y,fact)\n",
    "factorial"
   ]
  },
  {
   "cell_type": "code",
   "execution_count": null,
   "metadata": {
    "colab": {
     "base_uri": "https://localhost:8080/"
    },
    "id": "jRulrZUWfvsE",
    "outputId": "f59c1e3a-e4af-43b1-e315-36097eb23834"
   },
   "outputs": [
    {
     "name": "stdout",
     "output_type": "stream",
     "text": [
      "enter the integer to find factorial of : 12\n",
      "12!  = 1*2*3*4*5*6*7*8*9*10*11*12 =  479001600\n"
     ]
    }
   ],
   "source": [
    "n=input(\"enter the integer to find factorial of : \")\n",
    "fact=1\n",
    "if int(n)<0:\n",
    "        print('factoral of negative numbers is not valid')\n",
    "# print(int(n))\n",
    "\n",
    "else:\n",
    "    for num in range(1,int(n)+1):\n",
    "\n",
    "        if (num==0):\n",
    "            print(f'{n}! = 1')\n",
    "            break\n",
    "        else:\n",
    "            fact*=num\n",
    "    f='*'.join([str(x) for x in (range(1,int(n)+1))])\n",
    "    print(f'{n}!  = {f} = ',fact)\n"
   ]
  },
  {
   "cell_type": "code",
   "execution_count": null,
   "metadata": {
    "colab": {
     "base_uri": "https://localhost:8080/"
    },
    "id": "3DZsM7PjizI_",
    "outputId": "6e46f577-e3c0-45bd-a720-1fc5cd388958"
   },
   "outputs": [
    {
     "data": {
      "text/plain": [
       "['o', 'l', 'l', 'e', 'h']"
      ]
     },
     "execution_count": 40,
     "metadata": {},
     "output_type": "execute_result"
    }
   ],
   "source": [
    "l=list('hello')\n",
    "l.reverse()\n",
    "l"
   ]
  },
  {
   "cell_type": "code",
   "execution_count": null,
   "metadata": {
    "colab": {
     "base_uri": "https://localhost:8080/",
     "height": 36
    },
    "id": "xw3d2ONKh2Ov",
    "outputId": "eec9fb2c-64eb-4c33-bc89-63a9a45a1c5e"
   },
   "outputs": [
    {
     "data": {
      "application/vnd.google.colaboratory.intrinsic+json": {
       "type": "string"
      },
      "text/plain": [
       "'1*2*3*4*5*6*7*8*9*10*11*12'"
      ]
     },
     "execution_count": 32,
     "metadata": {},
     "output_type": "execute_result"
    }
   ],
   "source": [
    "'*'.join((str(x) for x in range(1,int(n)+1)))"
   ]
  },
  {
   "cell_type": "code",
   "execution_count": null,
   "metadata": {
    "colab": {
     "base_uri": "https://localhost:8080/"
    },
    "id": "3SCL9VCRxMhk",
    "outputId": "f80a70d6-a817-4966-a72d-c755b089318d"
   },
   "outputs": [
    {
     "data": {
      "text/plain": [
       "[('shirt', 20.0, 'M'), ('pants', 25.0, 'L'), ('jackets', 50.0, 'XL')]"
      ]
     },
     "execution_count": 33,
     "metadata": {},
     "output_type": "execute_result"
    }
   ],
   "source": [
    "#filter function\n",
    "\n",
    "high_price = lambda data:data[1]>10\n",
    "filter_store = list(filter(high_price,store))\n",
    "filter_store"
   ]
  },
  {
   "cell_type": "code",
   "execution_count": null,
   "metadata": {
    "id": "1CMKxWkJ0d4t"
   },
   "outputs": [],
   "source": [
    "#dictionaries for temp\n",
    "\n",
    "cities={'Newyork':32,'Boston':75,'Losangeles':100,'Chicago':50}"
   ]
  },
  {
   "cell_type": "code",
   "execution_count": null,
   "metadata": {
    "colab": {
     "base_uri": "https://localhost:8080/"
    },
    "id": "85Ay4rWQmolK",
    "outputId": "ac1478d1-31c3-4d4f-b68d-a5364e350a2a"
   },
   "outputs": [
    {
     "data": {
      "text/plain": [
       "['Pass',\n",
       " 'Pass',\n",
       " 'Pass',\n",
       " 'Pass',\n",
       " 'Pass',\n",
       " 'try next time',\n",
       " 'try next time',\n",
       " 'try next time',\n",
       " 'try next time',\n",
       " 'try next time']"
      ]
     },
     "execution_count": 36,
     "metadata": {},
     "output_type": "execute_result"
    }
   ],
   "source": [
    "#list compreshension:\n",
    "students = [100,90,80,70,60,50,40,30,20,10]\n",
    "passed_students = ('Pass' if i>=60  else \"try next time\" for i in students)\n",
    "list(passed_students)"
   ]
  },
  {
   "cell_type": "code",
   "execution_count": null,
   "metadata": {
    "colab": {
     "base_uri": "https://localhost:8080/"
    },
    "id": "nJw0cAxWDU-k",
    "outputId": "a6b3db0e-79ad-42f1-86d5-1dec56efe3a5"
   },
   "outputs": [
    {
     "data": {
      "text/plain": [
       "{100: 'Pass',\n",
       " 90: 'Pass',\n",
       " 80: 'Pass',\n",
       " 70: 'Pass',\n",
       " 60: 'Pass',\n",
       " 50: 'Try next time',\n",
       " 40: 'Try next time',\n",
       " 30: 'Try next time',\n",
       " 20: 'Try next time',\n",
       " 10: 'Try next time'}"
      ]
     },
     "execution_count": 37,
     "metadata": {},
     "output_type": "execute_result"
    }
   ],
   "source": [
    "db={}\n",
    "for grade in students:\n",
    "    if grade>=60:\n",
    "        db[grade]='Pass'\n",
    "    else:\n",
    "        db[grade]='Try next time'\n",
    "db\n"
   ]
  },
  {
   "cell_type": "code",
   "execution_count": null,
   "metadata": {
    "colab": {
     "base_uri": "https://localhost:8080/"
    },
    "id": "2ImPHl9osLm8",
    "outputId": "0804bc39-2052-45b6-a32e-f1f4107ade19"
   },
   "outputs": [
    {
     "data": {
      "text/plain": [
       "['Aced it',\n",
       " 'Aced it',\n",
       " 'Aced it',\n",
       " 'Passed it',\n",
       " 'Passed it',\n",
       " 'Passed it',\n",
       " 'Passed it',\n",
       " 'Try next time',\n",
       " 'Try next time',\n",
       " 'Try next time']"
      ]
     },
     "execution_count": 38,
     "metadata": {},
     "output_type": "execute_result"
    }
   ],
   "source": [
    "def check_score(score):\n",
    "    if score>=80:\n",
    "        return 'Aced it'\n",
    "    elif 79>= score >=40:\n",
    "        return 'Passed it'\n",
    "    else:\n",
    "        return 'Try next time'\n",
    "passed_students = [check_score(i) for i in students]\n",
    "passed_students"
   ]
  },
  {
   "cell_type": "code",
   "execution_count": null,
   "metadata": {
    "colab": {
     "base_uri": "https://localhost:8080/"
    },
    "id": "idB_ShyOHDVC",
    "outputId": "c7261968-9803-4d06-c4d9-99284ac7548b"
   },
   "outputs": [
    {
     "data": {
      "text/plain": [
       "{100: 'Aced it',\n",
       " 90: 'Aced it',\n",
       " 80: 'Aced it',\n",
       " 70: 'Passed it',\n",
       " 60: 'Passed it',\n",
       " 50: 'Passed it',\n",
       " 40: 'Passed it',\n",
       " 30: 'Try next time',\n",
       " 20: 'Try next time',\n",
       " 10: 'Try next time'}"
      ]
     },
     "execution_count": 39,
     "metadata": {},
     "output_type": "execute_result"
    }
   ],
   "source": [
    "stud = {key : check_score(key) for key in students}\n",
    "stud"
   ]
  },
  {
   "cell_type": "code",
   "execution_count": null,
   "metadata": {
    "colab": {
     "base_uri": "https://localhost:8080/"
    },
    "id": "BNgm_pPvoKmc",
    "outputId": "7e57bd32-8302-456e-f5c6-661d765583d4"
   },
   "outputs": [
    {
     "data": {
      "text/plain": [
       "{'New York': 0.0, 'Boston': 23.9, 'Los Angeles': 37.8, 'Chicago': 10.0}"
      ]
     },
     "execution_count": 40,
     "metadata": {},
     "output_type": "execute_result"
    }
   ],
   "source": [
    "#dictionary compreshension:\n",
    "cities_in_f = {\"New York\":32,\n",
    "               'Boston':75,\n",
    "               'Los Angeles':100,\n",
    "               'Chicago':50}\n",
    "\n",
    "cities_in_C = {key: round((value-32)*5/9,1) for (key,value) in cities_in_f.items()}\n",
    "cities_in_C"
   ]
  },
  {
   "cell_type": "code",
   "execution_count": null,
   "metadata": {
    "colab": {
     "base_uri": "https://localhost:8080/"
    },
    "id": "XGTi5NjjqQ9_",
    "outputId": "8747682b-ebe8-438f-96de-dbab9e0ad681"
   },
   "outputs": [
    {
     "data": {
      "text/plain": [
       "{'New York': 'Cold',\n",
       " 'Boston': 'Warm',\n",
       " 'Los Angeles': 'Warm',\n",
       " 'Chicago': 'Warm'}"
      ]
     },
     "execution_count": 41,
     "metadata": {},
     "output_type": "execute_result"
    }
   ],
   "source": [
    "weather  = {key: ('Warm' if value >=40 else 'Cold')  for (key,value) in cities_in_f.items()}\n",
    "weather"
   ]
  },
  {
   "cell_type": "code",
   "execution_count": null,
   "metadata": {
    "colab": {
     "base_uri": "https://localhost:8080/"
    },
    "id": "Bpx21L26rfDS",
    "outputId": "0605e01e-bede-4505-ffe1-c4ab7c31391d"
   },
   "outputs": [
    {
     "data": {
      "text/plain": [
       "{'New York': 'Cold', 'Boston': 'Hot', 'Los Angeles': 'Hot', 'Chicago': 'Warm'}"
      ]
     },
     "execution_count": 42,
     "metadata": {},
     "output_type": "execute_result"
    }
   ],
   "source": [
    "def check_temp(temp):\n",
    "    if temp>=70:\n",
    "        return 'Hot'\n",
    "    elif 69 >= temp >= 40:\n",
    "        return 'Warm'\n",
    "    else:\n",
    "        return 'Cold'\n",
    "\n",
    "weather  = {key: check_temp(value)  for key,value in cities_in_f.items()}\n",
    "weather"
   ]
  },
  {
   "cell_type": "code",
   "execution_count": null,
   "metadata": {
    "colab": {
     "base_uri": "https://localhost:8080/"
    },
    "id": "wttV3Cdqt7Fc",
    "outputId": "0d2a4f91-263a-4ff2-b5fc-2e0c52d450ac"
   },
   "outputs": [
    {
     "name": "stdout",
     "output_type": "stream",
     "text": [
      "('New York', 0.0, 32, 'Cold')\n",
      "('Boston', 23.9, 75, 'Hot')\n",
      "('Los Angeles', 37.8, 100, 'Hot')\n",
      "('Chicago', 10.0, 50, 'Warm')\n"
     ]
    }
   ],
   "source": [
    "#zip object:\n",
    "tot=zip(cities_in_C.keys(),\n",
    "        cities_in_C.values(),\n",
    "        cities_in_f.values(),\n",
    "        weather.values())\n",
    "for i in tot:\n",
    "    print(i)"
   ]
  },
  {
   "cell_type": "code",
   "execution_count": null,
   "metadata": {
    "id": "ivubhvtcxcIc"
   },
   "outputs": [],
   "source": [
    "# *******************************\n",
    "# if __name__ == '__main__'\n",
    "# *******************************\n",
    "\n",
    "\n",
    "\n"
   ]
  },
  {
   "cell_type": "code",
   "execution_count": null,
   "metadata": {
    "colab": {
     "base_uri": "https://localhost:8080/"
    },
    "id": "doWpStMcXsIx",
    "outputId": "357dbbb8-d1b7-47c9-e5e3-476df16e236e"
   },
   "outputs": [
    {
     "name": "stdout",
     "output_type": "stream",
     "text": [
      "['fizzbuzz', 22, 14, 'buzz', 97, 'fizz']\n"
     ]
    }
   ],
   "source": [
    "#workday interview preparartion:\n",
    "\n",
    "# fizz buzz\n",
    "'''\n",
    "Replace all integers that are evenly divisible by 3 with \"fizz\"\n",
    "Replace all integers divisible by 5 with \"buzz\"\n",
    "Replace all integers divisible by both 3 and 5 with \"fizzbuzz\"\n",
    "'''\n",
    "\n",
    "numbers = [45, 22, 14, 65, 97, 72]\n",
    "for pos,num in enumerate(numbers):\n",
    "    if num % 3 == 0 and num % 5 == 0 :\n",
    "        numbers[pos]=\"fizzbuzz\"\n",
    "    elif num % 3 == 0:\n",
    "        numbers[pos]=\"fizz\"\n",
    "    elif num % 5 == 0:\n",
    "        numbers[pos]=\"buzz\"\n",
    "print(numbers)"
   ]
  },
  {
   "cell_type": "code",
   "execution_count": null,
   "metadata": {
    "id": "GqwUVhwAe2az"
   },
   "outputs": [],
   "source": [
    "def fizzbuzz(num):\n",
    "    if num % 3 == 0 and num % 5 == 0 :\n",
    "        return \"fizzbuzz\"\n",
    "    elif num % 3 == 0:\n",
    "        return \"fizz\"\n",
    "    elif num % 5 == 0:\n",
    "        return \"buzz\"\n",
    "    else:\n",
    "        return num\n",
    "\n",
    "numbers = [45, 22, 14, 65, 97, 72]\n"
   ]
  },
  {
   "cell_type": "code",
   "execution_count": null,
   "metadata": {
    "colab": {
     "base_uri": "https://localhost:8080/"
    },
    "id": "BFCZMwCifmaX",
    "outputId": "c5e23931-8aea-4058-8685-2a96ea981c40"
   },
   "outputs": [
    {
     "data": {
      "text/plain": [
       "['fizzbuzz', 22, 14, 'buzz', 97, 'fizz']"
      ]
     },
     "execution_count": 59,
     "metadata": {},
     "output_type": "execute_result"
    }
   ],
   "source": [
    "list(map(fizzbuzz,numbers))"
   ]
  },
  {
   "cell_type": "code",
   "execution_count": null,
   "metadata": {
    "colab": {
     "base_uri": "https://localhost:8080/"
    },
    "id": "_8Uinrm7f4ek",
    "outputId": "898c065e-a963-4ceb-8818-a7c19d78de70"
   },
   "outputs": [
    {
     "data": {
      "text/plain": [
       "True"
      ]
     },
     "execution_count": 60,
     "metadata": {},
     "output_type": "execute_result"
    }
   ],
   "source": [
    "bool(5%2)"
   ]
  },
  {
   "cell_type": "code",
   "execution_count": null,
   "metadata": {
    "colab": {
     "base_uri": "https://localhost:8080/"
    },
    "id": "angadI19gzTQ",
    "outputId": "f97cf882-7169-4386-cecf-9e348fdc8619"
   },
   "outputs": [
    {
     "data": {
      "text/plain": [
       "[45, 22, 65, 97, 72]"
      ]
     },
     "execution_count": 61,
     "metadata": {},
     "output_type": "execute_result"
    }
   ],
   "source": [
    "# filter\n",
    "def greater_than_15(n):\n",
    "    if n >15:\n",
    "        return n\n",
    "list(filter(greater_than_15,numbers) )"
   ]
  },
  {
   "cell_type": "code",
   "execution_count": null,
   "metadata": {
    "colab": {
     "base_uri": "https://localhost:8080/"
    },
    "id": "ZhI5YK-PhXum",
    "outputId": "39c3640a-b2d2-471a-fa29-a54356bc85b1"
   },
   "outputs": [
    {
     "data": {
      "text/plain": [
       "[97, 72, 65, 45, 22, 14]"
      ]
     },
     "execution_count": 63,
     "metadata": {},
     "output_type": "execute_result"
    }
   ],
   "source": [
    "# sorted list\n",
    "sorted(numbers,reverse=True)"
   ]
  },
  {
   "cell_type": "code",
   "execution_count": null,
   "metadata": {
    "id": "m28D1bIZh2lC"
   },
   "outputs": [],
   "source": [
    "animals = [\n",
    "     {'type': 'penguin', 'name': 'Stephanie', 'age': 8},\n",
    "     {'type': 'elephant', 'name': 'Devon', 'age': 3},\n",
    "     {'type': 'puma', 'name': 'Moe', 'age': 5},\n",
    " ]"
   ]
  },
  {
   "cell_type": "code",
   "execution_count": null,
   "metadata": {
    "colab": {
     "base_uri": "https://localhost:8080/"
    },
    "id": "dK7UaJMViNDX",
    "outputId": "4aecfeea-f3b1-49c8-fcf7-b74308d5b578"
   },
   "outputs": [
    {
     "data": {
      "text/plain": [
       "[{'type': 'puma', 'name': 'Moe', 'age': 5},\n",
       " {'type': 'penguin', 'name': 'Stephanie', 'age': 8},\n",
       " {'type': 'elephant', 'name': 'Devon', 'age': 3}]"
      ]
     },
     "execution_count": 66,
     "metadata": {},
     "output_type": "execute_result"
    }
   ],
   "source": [
    "sorted(animals,key=lambda x:x['type'],reverse=1)"
   ]
  },
  {
   "cell_type": "code",
   "execution_count": null,
   "metadata": {
    "id": "suxlYAdviWsJ"
   },
   "outputs": [],
   "source": [
    "import random\n",
    "sent = \"This approach isn’t terrible, but it unnecessarily creates a list and then converts it to a set. Interviewers almost always notice (and ask about) this type of design choice\".split()\n",
    "def random_word():\n",
    "    return random.choice(sent)"
   ]
  },
  {
   "cell_type": "code",
   "execution_count": null,
   "metadata": {
    "colab": {
     "base_uri": "https://localhost:8080/",
     "height": 36
    },
    "id": "tZYNN1Pyi59o",
    "outputId": "78543043-7e02-45dc-f2b6-f752e89f4aaa"
   },
   "outputs": [
    {
     "data": {
      "application/vnd.google.colaboratory.intrinsic+json": {
       "type": "string"
      },
      "text/plain": [
       "'Interviewers'"
      ]
     },
     "execution_count": 73,
     "metadata": {},
     "output_type": "execute_result"
    }
   ],
   "source": [
    "random_word()"
   ]
  },
  {
   "cell_type": "code",
   "execution_count": null,
   "metadata": {
    "id": "6qlDES5ijerI"
   },
   "outputs": [],
   "source": [
    "def get_unq_word():\n",
    "    uw=[]\n",
    "    for _ in range(1000):\n",
    "        uw.append(random_word())\n",
    "    return set(uw)\n"
   ]
  },
  {
   "cell_type": "code",
   "execution_count": null,
   "metadata": {
    "colab": {
     "base_uri": "https://localhost:8080/"
    },
    "id": "F1PFRDMLkOxS",
    "outputId": "d6c5ab8b-66a8-4172-91de-9a65bf393b8e"
   },
   "outputs": [
    {
     "data": {
      "text/plain": [
       "{'(and',\n",
       " 'Interviewers',\n",
       " 'This',\n",
       " 'a',\n",
       " 'about)',\n",
       " 'almost',\n",
       " 'always',\n",
       " 'and',\n",
       " 'approach',\n",
       " 'ask',\n",
       " 'but',\n",
       " 'choice',\n",
       " 'converts',\n",
       " 'creates',\n",
       " 'design',\n",
       " 'isn’t',\n",
       " 'it',\n",
       " 'list',\n",
       " 'notice',\n",
       " 'of',\n",
       " 'set.',\n",
       " 'terrible,',\n",
       " 'then',\n",
       " 'this',\n",
       " 'to',\n",
       " 'type',\n",
       " 'unnecessarily'}"
      ]
     },
     "execution_count": 76,
     "metadata": {},
     "output_type": "execute_result"
    }
   ],
   "source": [
    "get_unq_word()"
   ]
  },
  {
   "cell_type": "code",
   "execution_count": null,
   "metadata": {
    "id": "Ji7Q1scIkQa7"
   },
   "outputs": [],
   "source": [
    "def get_unq_word_1():\n",
    "    uw=[]\n",
    "    for _ in range(1000):\n",
    "        word = random_word().lower()\n",
    "        if word not in uw:\n",
    "            uw.append(word)\n",
    "    return (uw)"
   ]
  },
  {
   "cell_type": "code",
   "execution_count": null,
   "metadata": {
    "colab": {
     "base_uri": "https://localhost:8080/"
    },
    "id": "Y4ij7eVMlX4X",
    "outputId": "533cf6db-b6d8-4776-d43d-a9df4493439a"
   },
   "outputs": [
    {
     "data": {
      "text/plain": [
       "['(and',\n",
       " 'a',\n",
       " 'about)',\n",
       " 'almost',\n",
       " 'always',\n",
       " 'and',\n",
       " 'approach',\n",
       " 'ask',\n",
       " 'but',\n",
       " 'choice',\n",
       " 'converts',\n",
       " 'creates',\n",
       " 'design',\n",
       " 'interviewers',\n",
       " 'isn’t',\n",
       " 'it',\n",
       " 'list',\n",
       " 'notice',\n",
       " 'of',\n",
       " 'set.',\n",
       " 'terrible,',\n",
       " 'then',\n",
       " 'this',\n",
       " 'to',\n",
       " 'type',\n",
       " 'unnecessarily']"
      ]
     },
     "execution_count": 78,
     "metadata": {},
     "output_type": "execute_result"
    }
   ],
   "source": [
    "sorted(get_unq_word_1())"
   ]
  },
  {
   "cell_type": "code",
   "execution_count": null,
   "metadata": {
    "id": "kgPkL6TLlbsF"
   },
   "outputs": [],
   "source": [
    "#generators\n"
   ]
  },
  {
   "cell_type": "code",
   "execution_count": null,
   "metadata": {
    "id": "T9PGdoW0nMnb"
   },
   "outputs": [],
   "source": [
    "#collections\n",
    "\n",
    "from collections import Counter\n",
    "\n",
    "counts = Counter(sent)"
   ]
  },
  {
   "cell_type": "code",
   "execution_count": null,
   "metadata": {
    "colab": {
     "base_uri": "https://localhost:8080/"
    },
    "id": "HK7qUyF1nZPF",
    "outputId": "1371aeb2-e1c0-4186-b816-9e3ba2f6503f"
   },
   "outputs": [
    {
     "data": {
      "text/plain": [
       "Counter({'This': 1,\n",
       "         'approach': 1,\n",
       "         'isn’t': 1,\n",
       "         'terrible,': 1,\n",
       "         'but': 1,\n",
       "         'it': 2,\n",
       "         'unnecessarily': 1,\n",
       "         'creates': 1,\n",
       "         'a': 2,\n",
       "         'list': 1,\n",
       "         'and': 1,\n",
       "         'then': 1,\n",
       "         'converts': 1,\n",
       "         'to': 1,\n",
       "         'set.': 1,\n",
       "         'Interviewers': 1,\n",
       "         'almost': 1,\n",
       "         'always': 1,\n",
       "         'notice': 1,\n",
       "         '(and': 1,\n",
       "         'ask': 1,\n",
       "         'about)': 1,\n",
       "         'this': 1,\n",
       "         'type': 1,\n",
       "         'of': 1,\n",
       "         'design': 1,\n",
       "         'choice': 1})"
      ]
     },
     "execution_count": 80,
     "metadata": {},
     "output_type": "execute_result"
    }
   ],
   "source": [
    "counts"
   ]
  },
  {
   "cell_type": "code",
   "execution_count": null,
   "metadata": {
    "colab": {
     "base_uri": "https://localhost:8080/"
    },
    "id": "ctZ1EU0Dndg_",
    "outputId": "06f78e14-b877-4b15-d9f4-210a391de114"
   },
   "outputs": [
    {
     "data": {
      "text/plain": [
       "dict_keys(['This', 'approach', 'isn’t', 'terrible,', 'but', 'it', 'unnecessarily', 'creates', 'a', 'list', 'and', 'then', 'converts', 'to', 'set.', 'Interviewers', 'almost', 'always', 'notice', '(and', 'ask', 'about)', 'this', 'type', 'of', 'design', 'choice'])"
      ]
     },
     "execution_count": 81,
     "metadata": {},
     "output_type": "execute_result"
    }
   ],
   "source": [
    "counts.keys()"
   ]
  },
  {
   "cell_type": "code",
   "execution_count": null,
   "metadata": {
    "colab": {
     "base_uri": "https://localhost:8080/",
     "height": 263
    },
    "id": "wRvS9JEonova",
    "outputId": "ad0f55bb-b82d-4357-d0ed-d7fa0cf88c7d"
   },
   "outputs": [
    {
     "name": "stdout",
     "output_type": "stream",
     "text": [
      "T\n"
     ]
    },
    {
     "ename": "TypeError",
     "evalue": "ignored",
     "output_type": "error",
     "traceback": [
      "\u001b[0;31m---------------------------------------------------------------------------\u001b[0m",
      "\u001b[0;31mTypeError\u001b[0m                                 Traceback (most recent call last)",
      "\u001b[0;32m<ipython-input-82-209667bad769>\u001b[0m in \u001b[0;36m<module>\u001b[0;34m\u001b[0m\n\u001b[1;32m      4\u001b[0m     \u001b[0mcw\u001b[0m\u001b[0;34m=\u001b[0m\u001b[0;34m\"\"\u001b[0m\u001b[0;34m\u001b[0m\u001b[0;34m\u001b[0m\u001b[0m\n\u001b[1;32m      5\u001b[0m     \u001b[0;32mfor\u001b[0m \u001b[0mletters\u001b[0m \u001b[0;32min\u001b[0m \u001b[0mw\u001b[0m \u001b[0;34m:\u001b[0m\u001b[0;34m\u001b[0m\u001b[0;34m\u001b[0m\u001b[0m\n\u001b[0;32m----> 6\u001b[0;31m         \u001b[0mprint\u001b[0m\u001b[0;34m(\u001b[0m\u001b[0mletters\u001b[0m\u001b[0;34m)\u001b[0m\u001b[0;34m\u001b[0m\u001b[0;34m\u001b[0m\u001b[0m\n\u001b[0m\u001b[1;32m      7\u001b[0m         \u001b[0;32mif\u001b[0m \u001b[0mletters\u001b[0m \u001b[0;32min\u001b[0m \u001b[0mstring\u001b[0m\u001b[0;34m.\u001b[0m\u001b[0mpunctuation\u001b[0m\u001b[0;34m(\u001b[0m\u001b[0;34m)\u001b[0m\u001b[0;34m:\u001b[0m\u001b[0;34m\u001b[0m\u001b[0;34m\u001b[0m\u001b[0m\n\u001b[1;32m      8\u001b[0m             \u001b[0;32mpass\u001b[0m\u001b[0;34m\u001b[0m\u001b[0;34m\u001b[0m\u001b[0m\n",
      "\u001b[0;31mTypeError\u001b[0m: 'str' object is not callable"
     ]
    }
   ],
   "source": [
    "import string\n",
    "\n",
    "for w in sent:\n",
    "    cw=\"\"\n",
    "    for letters in w :\n",
    "        print(letters)\n",
    "        if letters in string.punctuation():\n",
    "            pass\n",
    "        else:\n",
    "            print(letters.join())"
   ]
  },
  {
   "cell_type": "code",
   "execution_count": null,
   "metadata": {
    "colab": {
     "base_uri": "https://localhost:8080/"
    },
    "id": "1sGv76VvoOsy",
    "outputId": "03ddcef7-da69-4ef5-b6e3-8bbcbb90fd81"
   },
   "outputs": [
    {
     "data": {
      "text/plain": [
       "[('Monique', 'Ashish', 'Devon'),\n",
       " ('Monique', 'Ashish', 'Bernie'),\n",
       " ('Monique', 'Devon', 'Ashish'),\n",
       " ('Monique', 'Devon', 'Bernie'),\n",
       " ('Monique', 'Bernie', 'Ashish'),\n",
       " ('Monique', 'Bernie', 'Devon'),\n",
       " ('Ashish', 'Monique', 'Devon'),\n",
       " ('Ashish', 'Monique', 'Bernie'),\n",
       " ('Ashish', 'Devon', 'Monique'),\n",
       " ('Ashish', 'Devon', 'Bernie'),\n",
       " ('Ashish', 'Bernie', 'Monique'),\n",
       " ('Ashish', 'Bernie', 'Devon'),\n",
       " ('Devon', 'Monique', 'Ashish'),\n",
       " ('Devon', 'Monique', 'Bernie'),\n",
       " ('Devon', 'Ashish', 'Monique'),\n",
       " ('Devon', 'Ashish', 'Bernie'),\n",
       " ('Devon', 'Bernie', 'Monique'),\n",
       " ('Devon', 'Bernie', 'Ashish'),\n",
       " ('Bernie', 'Monique', 'Ashish'),\n",
       " ('Bernie', 'Monique', 'Devon'),\n",
       " ('Bernie', 'Ashish', 'Monique'),\n",
       " ('Bernie', 'Ashish', 'Devon'),\n",
       " ('Bernie', 'Devon', 'Monique'),\n",
       " ('Bernie', 'Devon', 'Ashish')]"
      ]
     },
     "execution_count": 83,
     "metadata": {},
     "output_type": "execute_result"
    }
   ],
   "source": [
    "# for permutations\n",
    "from IPython.core.completer import Iterable\n",
    "import itertools\n",
    "friends = ['Monique', 'Ashish', 'Devon', 'Bernie']\n",
    "\n",
    "list(itertools.permutations(friends,r=3))"
   ]
  },
  {
   "cell_type": "code",
   "execution_count": null,
   "metadata": {
    "colab": {
     "base_uri": "https://localhost:8080/"
    },
    "id": "ApsSWxhhp0in",
    "outputId": "b331faad-a8e5-4f18-e24a-e4c5a3725977"
   },
   "outputs": [
    {
     "data": {
      "text/plain": [
       "[('Monique', 'Ashish'),\n",
       " ('Monique', 'Devon'),\n",
       " ('Monique', 'Bernie'),\n",
       " ('Ashish', 'Devon'),\n",
       " ('Ashish', 'Bernie'),\n",
       " ('Devon', 'Bernie')]"
      ]
     },
     "execution_count": 84,
     "metadata": {},
     "output_type": "execute_result"
    }
   ],
   "source": [
    "list(itertools.combinations(friends,r= 2))"
   ]
  },
  {
   "cell_type": "code",
   "execution_count": null,
   "metadata": {
    "colab": {
     "base_uri": "https://localhost:8080/",
     "height": 36
    },
    "id": "we0EooXyqOph",
    "outputId": "6dda03ca-777f-4e4f-fe28-a795f4f47fbd"
   },
   "outputs": [
    {
     "data": {
      "application/vnd.google.colaboratory.intrinsic+json": {
       "type": "string"
      },
      "text/plain": [
       "'€'"
      ]
     },
     "execution_count": 85,
     "metadata": {},
     "output_type": "execute_result"
    }
   ],
   "source": [
    "chr(8364)"
   ]
  },
  {
   "cell_type": "code",
   "execution_count": null,
   "metadata": {
    "colab": {
     "base_uri": "https://localhost:8080/",
     "height": 36
    },
    "id": "h9da-lQ1N8Lw",
    "outputId": "1ed092d4-99ca-4706-a6ce-dee424b266d6"
   },
   "outputs": [
    {
     "data": {
      "application/vnd.google.colaboratory.intrinsic+json": {
       "type": "string"
      },
      "text/plain": [
       "'₹'"
      ]
     },
     "execution_count": 92,
     "metadata": {},
     "output_type": "execute_result"
    }
   ],
   "source": [
    "chr(8377)"
   ]
  },
  {
   "cell_type": "code",
   "execution_count": null,
   "metadata": {
    "colab": {
     "base_uri": "https://localhost:8080/"
    },
    "id": "iR88JmDANVZi",
    "outputId": "70ed95eb-035d-47c4-a047-a9f0f469ed6a"
   },
   "outputs": [
    {
     "name": "stdout",
     "output_type": "stream",
     "text": [
      "₹\n"
     ]
    }
   ],
   "source": [
    "print('\\u20B9')"
   ]
  },
  {
   "cell_type": "code",
   "execution_count": null,
   "metadata": {
    "colab": {
     "base_uri": "https://localhost:8080/"
    },
    "id": "PEObvKg_wcIr",
    "outputId": "b263fdce-2ff0-484c-e51b-4103ca39cdfd"
   },
   "outputs": [
    {
     "name": "stdout",
     "output_type": "stream",
     "text": [
      "this is the price of the letter: €850\n"
     ]
    }
   ],
   "source": [
    "print(f\"this is the price of the letter: {chr(8364)}850\")"
   ]
  },
  {
   "cell_type": "code",
   "execution_count": null,
   "metadata": {
    "colab": {
     "base_uri": "https://localhost:8080/",
     "height": 341
    },
    "id": "-znFbFCSwqlR",
    "outputId": "69370aeb-0fea-4d63-b6b1-33ac9aed5229"
   },
   "outputs": [
    {
     "ename": "ValueError",
     "evalue": "ignored",
     "output_type": "error",
     "traceback": [
      "\u001b[0;31m---------------------------------------------------------------------------\u001b[0m",
      "\u001b[0;31mValueError\u001b[0m                                Traceback (most recent call last)",
      "\u001b[0;32m<ipython-input-94-0b0064e4b9e5>\u001b[0m in \u001b[0;36m<module>\u001b[0;34m\u001b[0m\n\u001b[1;32m      1\u001b[0m \u001b[0;32mfrom\u001b[0m \u001b[0mtimeit\u001b[0m \u001b[0;32mimport\u001b[0m \u001b[0mtimeit\u001b[0m\u001b[0;34m\u001b[0m\u001b[0;34m\u001b[0m\u001b[0m\n\u001b[0;32m----> 2\u001b[0;31m \u001b[0mtimeit\u001b[0m\u001b[0;34m(\u001b[0m\u001b[0;34m[\u001b[0m\u001b[0mx\u001b[0m\u001b[0;34m**\u001b[0m\u001b[0mx\u001b[0m \u001b[0;32mfor\u001b[0m \u001b[0mx\u001b[0m \u001b[0;32min\u001b[0m \u001b[0mnumbers\u001b[0m\u001b[0;34m]\u001b[0m\u001b[0;34m)\u001b[0m\u001b[0;34m\u001b[0m\u001b[0;34m\u001b[0m\u001b[0m\n\u001b[0m",
      "\u001b[0;32m/usr/lib/python3.8/timeit.py\u001b[0m in \u001b[0;36mtimeit\u001b[0;34m(stmt, setup, timer, number, globals)\u001b[0m\n\u001b[1;32m    231\u001b[0m            number=default_number, globals=None):\n\u001b[1;32m    232\u001b[0m     \u001b[0;34m\"\"\"Convenience function to create Timer object and call timeit method.\"\"\"\u001b[0m\u001b[0;34m\u001b[0m\u001b[0;34m\u001b[0m\u001b[0m\n\u001b[0;32m--> 233\u001b[0;31m     \u001b[0;32mreturn\u001b[0m \u001b[0mTimer\u001b[0m\u001b[0;34m(\u001b[0m\u001b[0mstmt\u001b[0m\u001b[0;34m,\u001b[0m \u001b[0msetup\u001b[0m\u001b[0;34m,\u001b[0m \u001b[0mtimer\u001b[0m\u001b[0;34m,\u001b[0m \u001b[0mglobals\u001b[0m\u001b[0;34m)\u001b[0m\u001b[0;34m.\u001b[0m\u001b[0mtimeit\u001b[0m\u001b[0;34m(\u001b[0m\u001b[0mnumber\u001b[0m\u001b[0;34m)\u001b[0m\u001b[0;34m\u001b[0m\u001b[0;34m\u001b[0m\u001b[0m\n\u001b[0m\u001b[1;32m    234\u001b[0m \u001b[0;34m\u001b[0m\u001b[0m\n\u001b[1;32m    235\u001b[0m def repeat(stmt=\"pass\", setup=\"pass\", timer=default_timer,\n",
      "\u001b[0;32m/usr/lib/python3.8/timeit.py\u001b[0m in \u001b[0;36m__init__\u001b[0;34m(self, stmt, setup, timer, globals)\u001b[0m\n\u001b[1;32m    127\u001b[0m             \u001b[0mstmt\u001b[0m \u001b[0;34m=\u001b[0m \u001b[0;34m'_stmt()'\u001b[0m\u001b[0;34m\u001b[0m\u001b[0;34m\u001b[0m\u001b[0m\n\u001b[1;32m    128\u001b[0m         \u001b[0;32melse\u001b[0m\u001b[0;34m:\u001b[0m\u001b[0;34m\u001b[0m\u001b[0;34m\u001b[0m\u001b[0m\n\u001b[0;32m--> 129\u001b[0;31m             \u001b[0;32mraise\u001b[0m \u001b[0mValueError\u001b[0m\u001b[0;34m(\u001b[0m\u001b[0;34m\"stmt is neither a string nor callable\"\u001b[0m\u001b[0;34m)\u001b[0m\u001b[0;34m\u001b[0m\u001b[0;34m\u001b[0m\u001b[0m\n\u001b[0m\u001b[1;32m    130\u001b[0m         \u001b[0msrc\u001b[0m \u001b[0;34m=\u001b[0m \u001b[0mtemplate\u001b[0m\u001b[0;34m.\u001b[0m\u001b[0mformat\u001b[0m\u001b[0;34m(\u001b[0m\u001b[0mstmt\u001b[0m\u001b[0;34m=\u001b[0m\u001b[0mstmt\u001b[0m\u001b[0;34m,\u001b[0m \u001b[0msetup\u001b[0m\u001b[0;34m=\u001b[0m\u001b[0msetup\u001b[0m\u001b[0;34m,\u001b[0m \u001b[0minit\u001b[0m\u001b[0;34m=\u001b[0m\u001b[0minit\u001b[0m\u001b[0;34m)\u001b[0m\u001b[0;34m\u001b[0m\u001b[0;34m\u001b[0m\u001b[0m\n\u001b[1;32m    131\u001b[0m         \u001b[0mself\u001b[0m\u001b[0;34m.\u001b[0m\u001b[0msrc\u001b[0m \u001b[0;34m=\u001b[0m \u001b[0msrc\u001b[0m  \u001b[0;31m# Save for traceback display\u001b[0m\u001b[0;34m\u001b[0m\u001b[0;34m\u001b[0m\u001b[0m\n",
      "\u001b[0;31mValueError\u001b[0m: stmt is neither a string nor callable"
     ]
    }
   ],
   "source": [
    "from timeit import timeit\n",
    "timeit([x**x for x in numbers])"
   ]
  },
  {
   "cell_type": "code",
   "execution_count": null,
   "metadata": {
    "colab": {
     "base_uri": "https://localhost:8080/"
    },
    "id": "WXY12MNkxy9Z",
    "outputId": "f1de0a73-0d5f-4a61-cc74-16a158e5a815"
   },
   "outputs": [
    {
     "name": "stdout",
     "output_type": "stream",
     "text": [
      "174 ns ± 21 ns per loop (mean ± std. dev. of 7 runs, 10000000 loops each)\n"
     ]
    }
   ],
   "source": [
    "list_check = list(range(1000))\n",
    "%timeit list_check.pop; list_check.append(None)"
   ]
  },
  {
   "cell_type": "code",
   "execution_count": null,
   "metadata": {
    "colab": {
     "base_uri": "https://localhost:8080/"
    },
    "id": "FKeOkzqlyd0M",
    "outputId": "68e3a14e-2d56-44a5-9d7f-2e5a28360f5f"
   },
   "outputs": [
    {
     "name": "stdout",
     "output_type": "stream",
     "text": [
      "141 ns ± 2.47 ns per loop (mean ± std. dev. of 7 runs, 10000000 loops each)\n"
     ]
    }
   ],
   "source": [
    "from collections import deque\n",
    "deque_check = deque(list_check)\n",
    "%timeit deque_check.pop; deque_check.append(None)"
   ]
  },
  {
   "cell_type": "code",
   "execution_count": null,
   "metadata": {
    "colab": {
     "base_uri": "https://localhost:8080/"
    },
    "id": "LSEW74OPy8wP",
    "outputId": "218e8127-bdb7-450e-e962-de6cc9396b87"
   },
   "outputs": [
    {
     "name": "stdout",
     "output_type": "stream",
     "text": [
      "4 3\n"
     ]
    }
   ],
   "source": [
    "# Swap two variable values\n",
    "a = 3\n",
    "b = 4\n",
    "a,b = b, a\n",
    "print(a,b)"
   ]
  },
  {
   "cell_type": "code",
   "execution_count": null,
   "metadata": {
    "colab": {
     "base_uri": "https://localhost:8080/"
    },
    "id": "zYwgTrch0ztw",
    "outputId": "d8b90f15-399d-4daa-c25f-a9ef9452cc11"
   },
   "outputs": [
    {
     "data": {
      "text/plain": [
       "[10, 18, 78]"
      ]
     },
     "execution_count": 98,
     "metadata": {},
     "output_type": "execute_result"
    }
   ],
   "source": [
    "#List all even numbers that at in the even index in the list\n",
    "list1 = [ 1 , 3 , 5 , 8 , 10 , 13 , 18 , 36 , 78 ]\n",
    "[x for x in list1[::2] if x%2==0]"
   ]
  },
  {
   "cell_type": "code",
   "execution_count": null,
   "metadata": {
    "colab": {
     "base_uri": "https://localhost:8080/"
    },
    "id": "rEetHgxB1f7k",
    "outputId": "092cca33-a4d6-4a4b-ae8a-badfceeeea78"
   },
   "outputs": [
    {
     "name": "stdout",
     "output_type": "stream",
     "text": [
      "[0, 0, 0, 0, 0]\n"
     ]
    }
   ],
   "source": [
    "#create a list with value 0\n",
    "list2 = [0]*5\n",
    "print(list2)"
   ]
  },
  {
   "cell_type": "code",
   "execution_count": null,
   "metadata": {
    "colab": {
     "base_uri": "https://localhost:8080/"
    },
    "id": "zj5iCaKQ1S5q",
    "outputId": "93ae29ce-3df5-4ecf-e272-d35ac4784f7a"
   },
   "outputs": [
    {
     "name": "stdout",
     "output_type": "stream",
     "text": [
      "[[], [], [], [], []]\n",
      "[['101010'], ['101010'], ['101010'], ['101010'], ['101010']]\n",
      "[['101010'], ['101010'], ['101010'], ['101010'], ['101010'], '20']\n"
     ]
    }
   ],
   "source": [
    "list = [ [ ] ] * 5\n",
    "print(list)\n",
    "#add new value in the list item in the list\n",
    "list[0].append('10'*3)\n",
    "print(list)\n",
    "#add new value behind in the list\n",
    "list.append('20')\n",
    "print(list)"
   ]
  },
  {
   "cell_type": "code",
   "execution_count": null,
   "metadata": {
    "colab": {
     "base_uri": "https://localhost:8080/"
    },
    "id": "LgjPGRmF2IVB",
    "outputId": "06fce4bf-2f8b-4296-f055-133ca3c35a2d"
   },
   "outputs": [
    {
     "data": {
      "text/plain": [
       "6"
      ]
     },
     "execution_count": 102,
     "metadata": {},
     "output_type": "execute_result"
    }
   ],
   "source": [
    "len(list)"
   ]
  },
  {
   "cell_type": "code",
   "execution_count": null,
   "metadata": {
    "colab": {
     "base_uri": "https://localhost:8080/",
     "height": 36
    },
    "id": "elo39Hlt2P92",
    "outputId": "fc7a93fe-3af5-4c6b-833a-de5923137f99"
   },
   "outputs": [
    {
     "data": {
      "application/vnd.google.colaboratory.intrinsic+json": {
       "type": "string"
      },
      "text/plain": [
       "'Good Morning.Have A Good Day!'"
      ]
     },
     "execution_count": 103,
     "metadata": {},
     "output_type": "execute_result"
    }
   ],
   "source": [
    "#Combine two string and capitalize the first letter in each word\n",
    "\n",
    "a ='good morning.'\n",
    "b ='have a good day!'\n",
    "\n",
    "a=a+b\n",
    "a.title()"
   ]
  },
  {
   "cell_type": "code",
   "execution_count": null,
   "metadata": {
    "id": "A0k9QiR-3NMA"
   },
   "outputs": [],
   "source": [
    "class employee:\n",
    "    num_employee=0\n",
    "    raise_amount=1.04\n",
    "    def __init__(self, first, last, sal):\n",
    "        self.first=first\n",
    "        self.last=last\n",
    "        self.sal=sal\n",
    "        self.email=first + '.' + last + '@company.com'\n",
    "        employee.num_employee+=1\n",
    "    def fullname (self):\n",
    "        return '{} {}'.format(self.first, self.last)\n",
    "    def apply_raise (self):\n",
    "        self.sal=int(self.sal* raise_amount)\n",
    "class developer(employee):\n",
    "    raise_amount = 1.10\n",
    "    def __init__(self, first, last, sal, prog_lang):\n",
    "        super().__init__(first, last, sal)\n",
    "        self.prog_lang=prog_lang\n"
   ]
  },
  {
   "cell_type": "code",
   "execution_count": null,
   "metadata": {
    "id": "ogfWDqll0KnP"
   },
   "outputs": [],
   "source": [
    "emp_1=developer('aayushi', 'johari', 1000000, 'python')"
   ]
  },
  {
   "cell_type": "code",
   "execution_count": null,
   "metadata": {
    "colab": {
     "base_uri": "https://localhost:8080/"
    },
    "id": "1Z60jBBO0SUZ",
    "outputId": "a0856444-914c-4f62-f10a-88d4415bebb9"
   },
   "outputs": [
    {
     "data": {
      "text/plain": [
       "1000000"
      ]
     },
     "execution_count": 111,
     "metadata": {},
     "output_type": "execute_result"
    }
   ],
   "source": [
    "emp_1.sal"
   ]
  },
  {
   "cell_type": "code",
   "execution_count": null,
   "metadata": {
    "colab": {
     "base_uri": "https://localhost:8080/"
    },
    "id": "D6xlw0NS0Y28",
    "outputId": "e1a05989-3a10-48c3-c34a-37f60d131116"
   },
   "outputs": [
    {
     "data": {
      "text/plain": [
       "2"
      ]
     },
     "execution_count": 112,
     "metadata": {},
     "output_type": "execute_result"
    }
   ],
   "source": [
    "employee.num_employee"
   ]
  },
  {
   "cell_type": "code",
   "execution_count": null,
   "metadata": {
    "colab": {
     "base_uri": "https://localhost:8080/",
     "height": 36
    },
    "id": "j6-TMIK80yS2",
    "outputId": "4915de35-3e8a-4ce5-8d4a-66514c42291e"
   },
   "outputs": [
    {
     "data": {
      "application/vnd.google.colaboratory.intrinsic+json": {
       "type": "string"
      },
      "text/plain": [
       "'aayushi.johari@company.com'"
      ]
     },
     "execution_count": 114,
     "metadata": {},
     "output_type": "execute_result"
    }
   ],
   "source": [
    "emp_1.email\n"
   ]
  },
  {
   "cell_type": "code",
   "execution_count": null,
   "metadata": {
    "id": "yqAdhakG03yT"
   },
   "outputs": [],
   "source": [
    "fib={1:0,2:1}\n",
    "def fibonacci(n):\n",
    "    if n in fib:\n",
    "        return fib[n]\n",
    "    else:\n",
    "        for num in range(3,n+1):\n",
    "            fib[num]=fib[(num-1)]+fib[num-2]\n",
    "        return fib[n]"
   ]
  },
  {
   "cell_type": "code",
   "execution_count": null,
   "metadata": {
    "colab": {
     "base_uri": "https://localhost:8080/"
    },
    "id": "PHh-LgX3MVD-",
    "outputId": "90f5e382-2f72-4b2d-ad8c-7efd1b1866ed"
   },
   "outputs": [
    {
     "data": {
      "text/plain": [
       "233"
      ]
     },
     "execution_count": 52,
     "metadata": {},
     "output_type": "execute_result"
    }
   ],
   "source": [
    "fibonacci(14)"
   ]
  },
  {
   "cell_type": "code",
   "execution_count": null,
   "metadata": {
    "colab": {
     "base_uri": "https://localhost:8080/"
    },
    "id": "UFLvj8JVP5iQ",
    "outputId": "abb532ce-fc06-4571-dacb-de0ee4a274da"
   },
   "outputs": [
    {
     "data": {
      "text/plain": [
       "{1: 0,\n",
       " 2: 1,\n",
       " 3: 1,\n",
       " 4: 2,\n",
       " 5: 3,\n",
       " 6: 5,\n",
       " 7: 8,\n",
       " 8: 13,\n",
       " 9: 21,\n",
       " 10: 34,\n",
       " 11: 55,\n",
       " 12: 89,\n",
       " 13: 144,\n",
       " 14: 233}"
      ]
     },
     "execution_count": 53,
     "metadata": {},
     "output_type": "execute_result"
    }
   ],
   "source": [
    "fib"
   ]
  },
  {
   "cell_type": "code",
   "execution_count": null,
   "metadata": {
    "id": "L-Z4yJ0pMY0Y"
   },
   "outputs": [],
   "source": [
    "cube = lambda x:x**3"
   ]
  },
  {
   "cell_type": "code",
   "execution_count": null,
   "metadata": {
    "colab": {
     "base_uri": "https://localhost:8080/",
     "height": 171
    },
    "id": "3RYp9lq8M8Iy",
    "outputId": "6769fac5-8bfa-464a-e5dc-a8474c936773"
   },
   "outputs": [
    {
     "ename": "AttributeError",
     "evalue": "ignored",
     "output_type": "error",
     "traceback": [
      "\u001b[0;31m---------------------------------------------------------------------------\u001b[0m",
      "\u001b[0;31mAttributeError\u001b[0m                            Traceback (most recent call last)",
      "\u001b[0;32m<ipython-input-124-f76479d76d27>\u001b[0m in \u001b[0;36m<module>\u001b[0;34m\u001b[0m\n\u001b[0;32m----> 1\u001b[0;31m \u001b[0;34m(\u001b[0m\u001b[0mmap\u001b[0m\u001b[0;34m(\u001b[0m\u001b[0mcube\u001b[0m\u001b[0;34m,\u001b[0m\u001b[0mfibonacci\u001b[0m\u001b[0;34m(\u001b[0m\u001b[0;36m10\u001b[0m\u001b[0;34m)\u001b[0m\u001b[0;34m)\u001b[0m\u001b[0;34m)\u001b[0m\u001b[0;34m.\u001b[0m\u001b[0mto_list\u001b[0m\u001b[0;34m(\u001b[0m\u001b[0;34m)\u001b[0m\u001b[0;34m\u001b[0m\u001b[0;34m\u001b[0m\u001b[0m\n\u001b[0m",
      "\u001b[0;31mAttributeError\u001b[0m: 'map' object has no attribute 'to_list'"
     ]
    }
   ],
   "source": [
    "(map(cube,fibonacci(10)))"
   ]
  },
  {
   "cell_type": "code",
   "execution_count": null,
   "metadata": {
    "id": "Yx3bmkqBNBQQ"
   },
   "outputs": [],
   "source": [
    "def flippingMatrix(matrix):\n",
    "    # Write your code here\n",
    "    ll=[]\n",
    "    for lst in matrix:\n",
    "        for val in lst:\n",
    "            ll.append(val)\n",
    "    ll.sort(reverse=True)\n",
    "    return sum(ll[])\n",
    "\n",
    "\n",
    "\n",
    "if __name__ == '__main__':\n",
    "    fptr = open(os.environ['OUTPUT_PATH'], 'w')\n",
    "\n",
    "    q = int(input().strip())\n",
    "\n",
    "    for q_itr in range(q):\n",
    "        n = int(input().strip())\n",
    "\n",
    "        matrix = []\n",
    "\n",
    "        for _ in range(2 * n):\n",
    "            matrix.append(list(map(int, input().rstrip().split())))\n",
    "\n",
    "        result = flippingMatrix(matrix)\n",
    "\n",
    "        fptr.write(str(result) + '\\n')\n",
    "\n",
    "    fptr.close()"
   ]
  },
  {
   "cell_type": "code",
   "execution_count": null,
   "metadata": {
    "id": "ZVB66szrRiWb"
   },
   "outputs": [],
   "source": [
    "def flippingMatrix(matrix):\n",
    "    # Write your code here\n",
    "    ll=[]\n",
    "    for lst in matrix:\n",
    "        for val in lst:\n",
    "            ll.append(val)\n",
    "    ll.sort(reverse=True)\n",
    "    return sum(ll[])\n",
    "\n",
    "\n",
    "\n",
    "if __name__ == '__main__':\n",
    "    fptr = open(os.environ['OUTPUT_PATH'], 'w')\n",
    "\n",
    "    q = int(input().strip())\n",
    "\n",
    "    for q_itr in range(q):\n",
    "        n = int(input().strip())\n",
    "\n",
    "        matrix = []\n",
    "\n",
    "        for _ in range(2 * n):\n",
    "            matrix.append(list(map(int, input().rstrip().split())))\n",
    "\n",
    "        result = flippingMatrix(matrix)\n",
    "\n",
    "        fptr.write(str(result) + '\\n')\n",
    "\n",
    "    fptr.close()"
   ]
  },
  {
   "cell_type": "code",
   "execution_count": null,
   "metadata": {
    "colab": {
     "base_uri": "https://localhost:8080/"
    },
    "id": "JB_gYu_VcrVg",
    "outputId": "843dd700-3d3d-460f-ee8d-5c66114855ba"
   },
   "outputs": [
    {
     "name": "stdout",
     "output_type": "stream",
     "text": [
      "6\n",
      "     #\n",
      "    ##\n",
      "   ###\n",
      "  ####\n",
      " #####\n",
      "######\n"
     ]
    }
   ],
   "source": [
    "n=int(input())\n",
    "m=\" \"\n",
    "t=1\n",
    "while n>0:\n",
    "    print((n-1)*m+t*(\"#\"))\n",
    "    n=n-1\n",
    "    t=t+1"
   ]
  },
  {
   "cell_type": "code",
   "execution_count": null,
   "metadata": {
    "id": "VbHuQB1tctdm"
   },
   "outputs": [],
   "source": [
    "l=list('abcedfgh')\n",
    "\n",
    "l2=list('nice a nice')\n",
    "\n"
   ]
  },
  {
   "cell_type": "code",
   "execution_count": null,
   "metadata": {
    "id": "kk8qqN1Ccwbm"
   },
   "outputs": [],
   "source": [
    "l.reverse()"
   ]
  },
  {
   "cell_type": "code",
   "execution_count": null,
   "metadata": {
    "colab": {
     "base_uri": "https://localhost:8080/"
    },
    "id": "3oTHLuwWc4Dd",
    "outputId": "5baeed02-cd15-4959-fdd7-b98c86eb06a7"
   },
   "outputs": [
    {
     "data": {
      "text/plain": [
       "['h', 'g', 'f', 'd', 'e', 'c', 'b', 'a']"
      ]
     },
     "execution_count": 35,
     "metadata": {},
     "output_type": "execute_result"
    }
   ],
   "source": [
    "l"
   ]
  },
  {
   "cell_type": "code",
   "execution_count": null,
   "metadata": {
    "colab": {
     "base_uri": "https://localhost:8080/",
     "height": 36
    },
    "id": "Qty4ml9mc7D8",
    "outputId": "b1d610c9-6709-4fa9-ba77-b0dd3cbefa7f"
   },
   "outputs": [
    {
     "data": {
      "application/vnd.google.colaboratory.intrinsic+json": {
       "type": "string"
      },
      "text/plain": [
       "'h*g*f*d*e*c*b*a'"
      ]
     },
     "execution_count": 36,
     "metadata": {},
     "output_type": "execute_result"
    }
   ],
   "source": [
    "'*'.join(l)"
   ]
  },
  {
   "cell_type": "code",
   "execution_count": null,
   "metadata": {
    "id": "3a-p3orkT9hG"
   },
   "outputs": [],
   "source": [
    "l2.extend(l)"
   ]
  },
  {
   "cell_type": "code",
   "execution_count": null,
   "metadata": {
    "colab": {
     "base_uri": "https://localhost:8080/"
    },
    "id": "SN_EBOfHUAS8",
    "outputId": "3fb23a64-fa08-4ecb-8c3b-3f72f120bace"
   },
   "outputs": [
    {
     "data": {
      "text/plain": [
       "['n',\n",
       " 'i',\n",
       " 'c',\n",
       " 'e',\n",
       " ' ',\n",
       " 'a',\n",
       " ' ',\n",
       " 'n',\n",
       " 'i',\n",
       " 'c',\n",
       " 'e',\n",
       " 'a',\n",
       " 'b',\n",
       " 'c',\n",
       " 'e',\n",
       " 'd',\n",
       " 'f',\n",
       " 'g',\n",
       " 'h']"
      ]
     },
     "execution_count": 4,
     "metadata": {},
     "output_type": "execute_result"
    }
   ],
   "source": [
    "l2"
   ]
  },
  {
   "cell_type": "code",
   "execution_count": null,
   "metadata": {
    "colab": {
     "base_uri": "https://localhost:8080/"
    },
    "id": "V5n05B0nUBF6",
    "outputId": "5c368cdb-36cf-437d-9fd6-c9ef17e8796a"
   },
   "outputs": [
    {
     "name": "stdout",
     "output_type": "stream",
     "text": [
      "n i c e   a   n i c e a b c e d f g h\n"
     ]
    }
   ],
   "source": [
    "print(*l2)"
   ]
  },
  {
   "cell_type": "code",
   "execution_count": null,
   "metadata": {
    "colab": {
     "base_uri": "https://localhost:8080/",
     "height": 165
    },
    "id": "itD-Je6_cfDq",
    "outputId": "e076a634-f011-4478-b112-32d2633c4067"
   },
   "outputs": [
    {
     "ename": "ValueError",
     "evalue": "ignored",
     "output_type": "error",
     "traceback": [
      "\u001b[0;31m---------------------------------------------------------------------------\u001b[0m",
      "\u001b[0;31mValueError\u001b[0m                                Traceback (most recent call last)",
      "\u001b[0;32m<ipython-input-21-75516c62608b>\u001b[0m in \u001b[0;36m<module>\u001b[0;34m\u001b[0m\n\u001b[0;32m----> 1\u001b[0;31m \u001b[0ml2\u001b[0m\u001b[0;34m.\u001b[0m\u001b[0mremove\u001b[0m\u001b[0;34m(\u001b[0m\u001b[0;34m'a'\u001b[0m\u001b[0;34m)\u001b[0m\u001b[0;34m\u001b[0m\u001b[0;34m\u001b[0m\u001b[0m\n\u001b[0m",
      "\u001b[0;31mValueError\u001b[0m: list.remove(x): x not in list"
     ]
    }
   ],
   "source": [
    "l2.remove('a')"
   ]
  },
  {
   "cell_type": "code",
   "execution_count": null,
   "metadata": {
    "id": "U_JRW3yP-6mn"
   },
   "outputs": [],
   "source": [
    "from functools import lru_cache\n",
    "from time import perf_counter"
   ]
  },
  {
   "cell_type": "code",
   "execution_count": null,
   "metadata": {
    "id": "y9Rc00JQ_fZx"
   },
   "outputs": [],
   "source": [
    "def time_it(func):\n",
    "    start = perf_counter()\n",
    "    def inner(*args,**kwrags):\n",
    "\n",
    "        result = func(*args,**kwrags)\n",
    "\n",
    "        return result\n",
    "    end = perf_counter()\n",
    "    print(f\"Time elapsed: {end - start}\")\n",
    "    return inner"
   ]
  },
  {
   "cell_type": "code",
   "execution_count": null,
   "metadata": {
    "colab": {
     "base_uri": "https://localhost:8080/"
    },
    "id": "JF64renxcrEf",
    "outputId": "69f66681-79a4-44fe-c314-12ac681b6c1f"
   },
   "outputs": [
    {
     "name": "stdout",
     "output_type": "stream",
     "text": [
      "Time elapsed: 2.028699998390948e-05\n"
     ]
    }
   ],
   "source": [
    "@time_it\n",
    "@lru_cache\n",
    "def fib(n):\n",
    "    if n<0:\n",
    "        print('Incorrect input')\n",
    "    elif n==0:\n",
    "        return 0\n",
    "    elif n==1 or n==2 :\n",
    "        return 1\n",
    "    else:\n",
    "        return fib(n-1)+fib(n-2)\n"
   ]
  },
  {
   "cell_type": "code",
   "execution_count": null,
   "metadata": {
    "colab": {
     "base_uri": "https://localhost:8080/"
    },
    "id": "sYuSWqIIQMo1",
    "outputId": "82291c35-2991-4931-ac26-dd4dbe2447db"
   },
   "outputs": [
    {
     "data": {
      "text/plain": [
       "12586269025"
      ]
     },
     "execution_count": 30,
     "metadata": {},
     "output_type": "execute_result"
    }
   ],
   "source": [
    "fib(50)\n"
   ]
  },
  {
   "cell_type": "code",
   "execution_count": null,
   "metadata": {
    "id": "QDpo_5ObQTIM"
   },
   "outputs": [],
   "source": [
    "s='abcdef paasdfgj'"
   ]
  },
  {
   "cell_type": "code",
   "execution_count": null,
   "metadata": {
    "colab": {
     "base_uri": "https://localhost:8080/"
    },
    "id": "_dJ1WtSp-u-t",
    "outputId": "cca46232-58db-4414-99ab-cebb657b3991"
   },
   "outputs": [
    {
     "data": {
      "text/plain": [
       "9"
      ]
     },
     "execution_count": 136,
     "metadata": {},
     "output_type": "execute_result"
    }
   ],
   "source": [
    "s.rindex('a')"
   ]
  },
  {
   "cell_type": "code",
   "execution_count": null,
   "metadata": {
    "colab": {
     "base_uri": "https://localhost:8080/",
     "height": 36
    },
    "id": "sVGDcJzq-yzA",
    "outputId": "e288c5c2-a77d-4b00-aa2a-5a8423cc06fa"
   },
   "outputs": [
    {
     "data": {
      "application/vnd.google.colaboratory.intrinsic+json": {
       "type": "string"
      },
      "text/plain": [
       "'Abcdef Paasdfgj'"
      ]
     },
     "execution_count": 137,
     "metadata": {},
     "output_type": "execute_result"
    }
   ],
   "source": [
    "s.title()"
   ]
  },
  {
   "cell_type": "code",
   "execution_count": null,
   "metadata": {
    "colab": {
     "base_uri": "https://localhost:8080/",
     "height": 36
    },
    "id": "-OGQWSC6_BGO",
    "outputId": "82c0249e-a2fd-4b1b-ec35-e4be933b1303"
   },
   "outputs": [
    {
     "data": {
      "application/vnd.google.colaboratory.intrinsic+json": {
       "type": "string"
      },
      "text/plain": [
       "'000000000000000abcdef paasdfgj'"
      ]
     },
     "execution_count": 138,
     "metadata": {},
     "output_type": "execute_result"
    }
   ],
   "source": [
    "s.zfill(30)"
   ]
  },
  {
   "cell_type": "code",
   "execution_count": null,
   "metadata": {
    "colab": {
     "base_uri": "https://localhost:8080/",
     "height": 36
    },
    "id": "KYEBRFDw_gJK",
    "outputId": "5a1861f8-ca9c-4959-eeee-4d60afa30669"
   },
   "outputs": [
    {
     "data": {
      "application/vnd.google.colaboratory.intrinsic+json": {
       "type": "string"
      },
      "text/plain": [
       "'jgfdsaap fedcba'"
      ]
     },
     "execution_count": 139,
     "metadata": {},
     "output_type": "execute_result"
    }
   ],
   "source": [
    "s1=[]\n",
    "for i in s:\n",
    "    s1.insert(0,i)\n",
    "''.join(s1)"
   ]
  },
  {
   "cell_type": "code",
   "execution_count": null,
   "metadata": {
    "id": "HMKpEzMeAA1P"
   },
   "outputs": [],
   "source": [
    "class Dog:\n",
    "\n",
    "    def __init__(self, name):\n",
    "        self.name = name\n",
    "        self.tricks = []    # creates a new empty list for each dog\n",
    "\n",
    "    def add_trick(self, trick):\n",
    "        self.tricks.append(trick)"
   ]
  },
  {
   "cell_type": "code",
   "execution_count": null,
   "metadata": {
    "id": "V2xAkfM75ulc"
   },
   "outputs": [],
   "source": [
    "d= Dog('Fido')\n",
    "e= Dog('Buddy')\n",
    "d.add_trick('tt')\n",
    "d.add_trick('use me')"
   ]
  },
  {
   "cell_type": "code",
   "execution_count": null,
   "metadata": {
    "colab": {
     "base_uri": "https://localhost:8080/"
    },
    "id": "4yhIEw6558Ci",
    "outputId": "5b26edb6-a939-4cd1-93dc-660af29a1b51"
   },
   "outputs": [
    {
     "data": {
      "text/plain": [
       "['tt', 'use me']"
      ]
     },
     "execution_count": 142,
     "metadata": {},
     "output_type": "execute_result"
    }
   ],
   "source": [
    "d.tricks"
   ]
  },
  {
   "cell_type": "code",
   "execution_count": null,
   "metadata": {
    "id": "q1c7BDHx5-Wv"
   },
   "outputs": [],
   "source": [
    "from dataclasses import dataclass\n",
    "\n",
    "@dataclass\n",
    "class Employee:\n",
    "    name: str\n",
    "    dept: str\n",
    "    salary: int"
   ]
  },
  {
   "cell_type": "code",
   "execution_count": null,
   "metadata": {
    "id": "sZ3SvYHU7tHb"
   },
   "outputs": [],
   "source": [
    "john = Employee('john', 'computer lab', 1000)"
   ]
  },
  {
   "cell_type": "code",
   "execution_count": null,
   "metadata": {
    "colab": {
     "base_uri": "https://localhost:8080/",
     "height": 36
    },
    "id": "9VHGHHH-7wTT",
    "outputId": "c9786fae-06a8-4adc-dc6f-b2694b43dc1b"
   },
   "outputs": [
    {
     "data": {
      "application/vnd.google.colaboratory.intrinsic+json": {
       "type": "string"
      },
      "text/plain": [
       "'computer lab'"
      ]
     },
     "execution_count": 145,
     "metadata": {},
     "output_type": "execute_result"
    }
   ],
   "source": [
    "john.dept"
   ]
  },
  {
   "cell_type": "code",
   "execution_count": null,
   "metadata": {
    "id": "GCJs6Ozv7zOr"
   },
   "outputs": [],
   "source": [
    "s='abc'\n",
    "it=iter(s)"
   ]
  },
  {
   "cell_type": "code",
   "execution_count": null,
   "metadata": {
    "colab": {
     "base_uri": "https://localhost:8080/"
    },
    "id": "Fj1BZDUb8Ht0",
    "outputId": "5ce04075-4951-4390-f202-65481e570c8c"
   },
   "outputs": [
    {
     "data": {
      "text/plain": [
       "<str_iterator at 0x7fc49e7395b0>"
      ]
     },
     "execution_count": 147,
     "metadata": {},
     "output_type": "execute_result"
    }
   ],
   "source": [
    "it"
   ]
  },
  {
   "cell_type": "code",
   "execution_count": null,
   "metadata": {
    "colab": {
     "base_uri": "https://localhost:8080/",
     "height": 244
    },
    "id": "LErmGKu38Iax",
    "outputId": "ac34b336-55bc-4b4e-b906-d0aaeaa3afd7"
   },
   "outputs": [
    {
     "name": "stdout",
     "output_type": "stream",
     "text": [
      "a\n",
      "b\n",
      "c\n"
     ]
    },
    {
     "ename": "StopIteration",
     "evalue": "ignored",
     "output_type": "error",
     "traceback": [
      "\u001b[0;31m---------------------------------------------------------------------------\u001b[0m",
      "\u001b[0;31mStopIteration\u001b[0m                             Traceback (most recent call last)",
      "\u001b[0;32m<ipython-input-148-4ecdf35b11bd>\u001b[0m in \u001b[0;36m<module>\u001b[0;34m\u001b[0m\n\u001b[1;32m      1\u001b[0m \u001b[0;32mfor\u001b[0m \u001b[0m_\u001b[0m \u001b[0;32min\u001b[0m \u001b[0mrange\u001b[0m\u001b[0;34m(\u001b[0m\u001b[0;36m8\u001b[0m\u001b[0;34m)\u001b[0m\u001b[0;34m:\u001b[0m\u001b[0;34m\u001b[0m\u001b[0;34m\u001b[0m\u001b[0m\n\u001b[0;32m----> 2\u001b[0;31m      \u001b[0mprint\u001b[0m\u001b[0;34m(\u001b[0m\u001b[0mnext\u001b[0m\u001b[0;34m(\u001b[0m\u001b[0mit\u001b[0m\u001b[0;34m)\u001b[0m\u001b[0;34m)\u001b[0m\u001b[0;34m\u001b[0m\u001b[0;34m\u001b[0m\u001b[0m\n\u001b[0m",
      "\u001b[0;31mStopIteration\u001b[0m: "
     ]
    }
   ],
   "source": [
    "for _ in range(8):\n",
    "     print(next(it))"
   ]
  },
  {
   "cell_type": "code",
   "execution_count": null,
   "metadata": {
    "id": "09Zl4k_h8LOd"
   },
   "outputs": [],
   "source": [
    "#reverse a string\n",
    "class Reverse:\n",
    "    def __init__(self,string):\n",
    "        self.string=string\n",
    "        self.l=len(self.string)\n",
    "\n",
    "\n",
    "    def rev(self):\n",
    "        if self.l==0:\n",
    "            raise StopIteration\n",
    "        self.l=self.l-1\n",
    "        return self.string[self.l]\n",
    "\n",
    "\n",
    "\n"
   ]
  },
  {
   "cell_type": "code",
   "execution_count": null,
   "metadata": {
    "id": "jcHhOPX4_Jza"
   },
   "outputs": [],
   "source": [
    "REV=Reverse('abcd')"
   ]
  },
  {
   "cell_type": "code",
   "execution_count": null,
   "metadata": {
    "colab": {
     "base_uri": "https://localhost:8080/",
     "height": 190
    },
    "id": "CEyXDpi8_OQI",
    "outputId": "12e7e543-79cc-4cc1-cbf5-7dd1464e6ed1"
   },
   "outputs": [
    {
     "ename": "TypeError",
     "evalue": "ignored",
     "output_type": "error",
     "traceback": [
      "\u001b[0;31m---------------------------------------------------------------------------\u001b[0m",
      "\u001b[0;31mTypeError\u001b[0m                                 Traceback (most recent call last)",
      "\u001b[0;32m<ipython-input-151-faf0c9c88cd2>\u001b[0m in \u001b[0;36m<module>\u001b[0;34m\u001b[0m\n\u001b[0;32m----> 1\u001b[0;31m \u001b[0;32mfor\u001b[0m \u001b[0mval\u001b[0m \u001b[0;32min\u001b[0m \u001b[0mREV\u001b[0m\u001b[0;34m:\u001b[0m\u001b[0;34m\u001b[0m\u001b[0;34m\u001b[0m\u001b[0m\n\u001b[0m\u001b[1;32m      2\u001b[0m     \u001b[0mprint\u001b[0m\u001b[0;34m(\u001b[0m\u001b[0mval\u001b[0m\u001b[0;34m)\u001b[0m\u001b[0;34m\u001b[0m\u001b[0;34m\u001b[0m\u001b[0m\n",
      "\u001b[0;31mTypeError\u001b[0m: 'Reverse' object is not iterable"
     ]
    }
   ],
   "source": [
    "for val in REV:\n",
    "    print(val)"
   ]
  },
  {
   "cell_type": "code",
   "execution_count": null,
   "metadata": {
    "id": "9WfcGODv_hbT"
   },
   "outputs": [],
   "source": []
  }
 ],
 "metadata": {
  "colab": {
   "provenance": []
  },
  "kernelspec": {
   "display_name": "Python 3 (ipykernel)",
   "language": "python",
   "name": "python3"
  },
  "language_info": {
   "codemirror_mode": {
    "name": "ipython",
    "version": 3
   },
   "file_extension": ".py",
   "mimetype": "text/x-python",
   "name": "python",
   "nbconvert_exporter": "python",
   "pygments_lexer": "ipython3",
   "version": "3.10.12"
  }
 },
 "nbformat": 4,
 "nbformat_minor": 4
}
