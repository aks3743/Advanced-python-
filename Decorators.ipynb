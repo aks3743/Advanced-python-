{
 "cells": [
  {
   "cell_type": "markdown",
   "id": "00f75b13-ff77-4b6a-a8b8-a33477be9b11",
   "metadata": {},
   "source": [
    "# Decorators\n",
    "\n",
    "* form of meta-programming. \n",
    "* allow us to wrap functionality around already defined functions\n",
    "    * without having to modify the code of original function\n",
    "* used when we have to same code multiple times \n",
    "    * log, time elapsed etc\n",
    "    \n",
    "* check higher order functions \n",
    "    * outer -> inner type\n"
   ]
  },
  {
   "cell_type": "code",
   "execution_count": 1,
   "id": "b5b4c295-5307-4492-aecb-3d269e612db1",
   "metadata": {},
   "outputs": [],
   "source": [
    "#basic decorator pattern\n",
    "def wrapper(func):\n",
    "    def inner(*args,**kwargs):\n",
    "        #some code\n",
    "        result = func(*args,**kwargs)\n",
    "        #some code\n",
    "        return result\n",
    "    return inner"
   ]
  },
  {
   "cell_type": "markdown",
   "id": "fedf1798-196b-4924-963b-ae225706a326",
   "metadata": {},
   "source": [
    "```python\n",
    "\n",
    "def func(a,b):\n",
    "    ......\n",
    "    \n",
    "func = wrapper(func) -> wrapper is called the decorator\n",
    "\n",
    "```\n",
    "\n",
    "there is a short hand notation for this \n",
    "\n",
    "```python\n",
    "@wrapper\n",
    "def func(a,b):\n",
    "    ....\n",
    "```"
   ]
  },
  {
   "cell_type": "code",
   "execution_count": 2,
   "id": "b43751ba-5156-4f34-ae4c-dba3efbae886",
   "metadata": {
    "tags": []
   },
   "outputs": [],
   "source": [
    "def add(a,b,c):\n",
    "    return a+b+c\n",
    "\n",
    "def greet(name):\n",
    "    return f'hello {name}'\n",
    "\n",
    "def join(data, *, item_sep = ',', line_sep = '\\n'):\n",
    "    return line_sep.join(\n",
    "        [\n",
    "            item_sep.join(str(item) for item in row)\n",
    "            for row in data\n",
    "            \n",
    "        ]\n",
    "    )"
   ]
  },
  {
   "cell_type": "code",
   "execution_count": 3,
   "id": "0077ec48-9676-4fae-8386-1efefc87a558",
   "metadata": {
    "tags": []
   },
   "outputs": [
    {
     "data": {
      "text/plain": [
       "6"
      ]
     },
     "execution_count": 3,
     "metadata": {},
     "output_type": "execute_result"
    }
   ],
   "source": [
    "add(1,2,3)"
   ]
  },
  {
   "cell_type": "code",
   "execution_count": 4,
   "id": "624cd400-ba28-4ac9-8b9e-92a765db6d84",
   "metadata": {
    "tags": []
   },
   "outputs": [
    {
     "data": {
      "text/plain": [
       "'hello Abhi'"
      ]
     },
     "execution_count": 4,
     "metadata": {},
     "output_type": "execute_result"
    }
   ],
   "source": [
    "greet('Abhi')"
   ]
  },
  {
   "cell_type": "code",
   "execution_count": 5,
   "id": "b49dbd7c-96a6-484d-8084-b8455b6c584a",
   "metadata": {
    "tags": []
   },
   "outputs": [
    {
     "data": {
      "text/plain": [
       "'1,2,3\\n4,5,6\\n7,8,9'"
      ]
     },
     "execution_count": 5,
     "metadata": {},
     "output_type": "execute_result"
    }
   ],
   "source": [
    "join([[1,2,3],[4,5,6],[7,8,9]])"
   ]
  },
  {
   "cell_type": "code",
   "execution_count": 6,
   "id": "d58614cd-0ec3-4609-943c-9ecb15bb7319",
   "metadata": {
    "tags": []
   },
   "outputs": [],
   "source": [
    "add_wrapper = wrapper(add)\n",
    "greet_wrapper = wrapper(greet)\n",
    "join_wrapper = wrapper(join)"
   ]
  },
  {
   "cell_type": "code",
   "execution_count": 7,
   "id": "7d051e1d-c1b9-491f-b3e0-3bdb87f3b150",
   "metadata": {
    "tags": []
   },
   "outputs": [
    {
     "data": {
      "text/plain": [
       "6"
      ]
     },
     "execution_count": 7,
     "metadata": {},
     "output_type": "execute_result"
    }
   ],
   "source": [
    "add_wrapper(1,2,3)"
   ]
  },
  {
   "cell_type": "code",
   "execution_count": 8,
   "id": "ab6b44a8-0c66-4017-960a-de96b4109220",
   "metadata": {
    "tags": []
   },
   "outputs": [
    {
     "data": {
      "text/plain": [
       "'hello Abhi'"
      ]
     },
     "execution_count": 8,
     "metadata": {},
     "output_type": "execute_result"
    }
   ],
   "source": [
    "greet_wrapper('Abhi')"
   ]
  },
  {
   "cell_type": "code",
   "execution_count": 9,
   "id": "f55c5b29-1fd6-4ad9-9c31-fcab5fc43e53",
   "metadata": {
    "tags": []
   },
   "outputs": [
    {
     "data": {
      "text/plain": [
       "'1,2,3\\n4,5,6\\n7,8,9'"
      ]
     },
     "execution_count": 9,
     "metadata": {},
     "output_type": "execute_result"
    }
   ],
   "source": [
    "join_wrapper([[1,2,3],[4,5,6],[7,8,9]])"
   ]
  },
  {
   "cell_type": "code",
   "execution_count": 10,
   "id": "604e7e50-752e-4640-9219-a0e2ffe0dd23",
   "metadata": {
    "tags": []
   },
   "outputs": [],
   "source": [
    "#basic decorator pattern\n",
    "def log(func):\n",
    "    def inner(*args,**kwargs):\n",
    "        #some code\n",
    "        result = func(*args,**kwargs)\n",
    "        print(f'{func.__name__} called and result={result}')\n",
    "        #some code\n",
    "        return result\n",
    "    return inner"
   ]
  },
  {
   "cell_type": "code",
   "execution_count": 11,
   "id": "af9449db-35d0-443e-88f8-76be4990458d",
   "metadata": {
    "tags": []
   },
   "outputs": [],
   "source": [
    "# now we can change the prev defined functions as \n",
    "add_log = log(add)\n",
    "greet_log = log(greet)\n",
    "join_log = log(join)\n"
   ]
  },
  {
   "cell_type": "code",
   "execution_count": 12,
   "id": "2bc9b8bd-ed5e-4a67-8466-9798845f4255",
   "metadata": {
    "tags": []
   },
   "outputs": [
    {
     "name": "stdout",
     "output_type": "stream",
     "text": [
      "add called and result=6\n",
      "greet called and result=hello Abhi\n",
      "join called and result=1,2,3\n",
      "4,5,6\n",
      "7,8,9\n"
     ]
    },
    {
     "data": {
      "text/plain": [
       "'1,2,3\\n4,5,6\\n7,8,9'"
      ]
     },
     "execution_count": 12,
     "metadata": {},
     "output_type": "execute_result"
    }
   ],
   "source": [
    "add_log(1,2,3)\n",
    "greet_log('Abhi')\n",
    "join_log([[1,2,3],[4,5,6],[7,8,9]])"
   ]
  },
  {
   "cell_type": "markdown",
   "id": "442b8596-17ef-4bd9-b0d9-b766f3a2a923",
   "metadata": {},
   "source": [
    "instead of wrapping every function with the log function we can do the following whch is quite easy"
   ]
  },
  {
   "cell_type": "code",
   "execution_count": 13,
   "id": "181ac25b-b941-4739-877c-02f38960cd31",
   "metadata": {
    "tags": []
   },
   "outputs": [],
   "source": [
    "@log\n",
    "def mult(a,b):\n",
    "    return a*b"
   ]
  },
  {
   "cell_type": "code",
   "execution_count": 14,
   "id": "838ca992-37a1-4415-b4e0-a02e26a73b7f",
   "metadata": {
    "tags": []
   },
   "outputs": [
    {
     "name": "stdout",
     "output_type": "stream",
     "text": [
      "mult called and result=408\n"
     ]
    },
    {
     "data": {
      "text/plain": [
       "408"
      ]
     },
     "execution_count": 14,
     "metadata": {},
     "output_type": "execute_result"
    }
   ],
   "source": [
    "mult(12,34)"
   ]
  },
  {
   "cell_type": "code",
   "execution_count": 15,
   "id": "bd6d2627-ecb1-40da-bf8c-8e80fbc715e5",
   "metadata": {
    "tags": []
   },
   "outputs": [],
   "source": [
    "from time import perf_counter\n",
    "def time_it(func,*args,**kwargs):\n",
    "    def inner(*args,**kwargs):\n",
    "        start = perf_counter()\n",
    "        result = func(*args,**kwargs)\n",
    "        end  = perf_counter()\n",
    "        print(f'time elapsed:{end - start}')\n",
    "        return result\n",
    "    return inner"
   ]
  },
  {
   "cell_type": "code",
   "execution_count": 16,
   "id": "97747c1e-07c1-490e-8041-f6f2aa4b0602",
   "metadata": {
    "tags": []
   },
   "outputs": [],
   "source": [
    "@time_it\n",
    "def factorial(n):\n",
    "    prod = 1\n",
    "    for i in range(2,n+1):\n",
    "        prod *=i\n",
    "    return prod"
   ]
  },
  {
   "cell_type": "code",
   "execution_count": 17,
   "id": "5e7de7ff-e93e-4db5-8c27-f0dc5734f5aa",
   "metadata": {
    "tags": []
   },
   "outputs": [
    {
     "name": "stdout",
     "output_type": "stream",
     "text": [
      "time elapsed:5.601700013357913e-05\n"
     ]
    },
    {
     "data": {
      "text/plain": [
       "57133839564458545904789328652610540031895535786011264182548375833179829124845398393126574488675311145377107878746854204162666250198684504466355949195922066574942592095735778929325357290444962472405416790722118445437122269675520000000000000000000000000000000000000"
      ]
     },
     "execution_count": 17,
     "metadata": {},
     "output_type": "execute_result"
    }
   ],
   "source": [
    "factorial(150)"
   ]
  },
  {
   "cell_type": "code",
   "execution_count": 47,
   "id": "63d90812-4950-4ae4-b945-15fae677a765",
   "metadata": {
    "tags": []
   },
   "outputs": [],
   "source": [
    "import logging"
   ]
  },
  {
   "cell_type": "code",
   "execution_count": 48,
   "id": "aca9851a-7e87-4d0d-b1c7-0f8438ede840",
   "metadata": {
    "tags": []
   },
   "outputs": [],
   "source": [
    "logging.basicConfig(\n",
    "    format = '%(ascitime)s %(levelname)s: %(message)s',\n",
    "    level = logging.DEBUG\n",
    ")"
   ]
  },
  {
   "cell_type": "code",
   "execution_count": 52,
   "id": "741c3850-bd14-4add-8db6-51bc726a92be",
   "metadata": {
    "tags": []
   },
   "outputs": [],
   "source": [
    "logger = logging.getLogger()"
   ]
  },
  {
   "cell_type": "code",
   "execution_count": 53,
   "id": "e48951b6-7135-4466-b191-45972f95cbf3",
   "metadata": {
    "tags": []
   },
   "outputs": [],
   "source": [
    "# logger.debug('debug message')"
   ]
  },
  {
   "cell_type": "code",
   "execution_count": 55,
   "id": "caffff38-1e19-40f4-acd4-1062f7a89191",
   "metadata": {
    "tags": []
   },
   "outputs": [],
   "source": [
    "# logger.error('some error happened')"
   ]
  },
  {
   "cell_type": "markdown",
   "id": "29450a23-1034-46bb-99dd-c62190e40030",
   "metadata": {},
   "source": [
    "## LRU Caching"
   ]
  },
  {
   "cell_type": "markdown",
   "id": "1c3e102d-6bfa-44a2-91dd-4d7225c8913b",
   "metadata": {},
   "source": [
    "### basic idea\n",
    "```python\n",
    "\n",
    "cache = {}\n",
    "def func(a,b,c):\n",
    "    key = (a,b,c)\n",
    "    if key in cache:\n",
    "        return cache[key]\n",
    "    #calculation here\n",
    "    cache[key] = result # add results to cache\n",
    "    return result\n",
    "```"
   ]
  },
  {
   "cell_type": "code",
   "execution_count": 34,
   "id": "d81f7921-1927-49eb-97e6-7aa91e976a58",
   "metadata": {
    "tags": []
   },
   "outputs": [],
   "source": [
    "# LRU -> Least recenttly used"
   ]
  },
  {
   "cell_type": "code",
   "execution_count": 18,
   "id": "29c04191-9328-4ba5-816c-27625caea891",
   "metadata": {},
   "outputs": [],
   "source": [
    "# try from our side\n",
    "def cache(func):\n",
    "    def inner(*args, **kwargs):\n",
    "        result = func(*args)\n",
    "        return result\n",
    "    return inner"
   ]
  },
  {
   "cell_type": "code",
   "execution_count": 19,
   "id": "5114efce-0423-465b-9aec-35d9fb6f34ce",
   "metadata": {
    "tags": []
   },
   "outputs": [],
   "source": [
    "from functools import lru_cache"
   ]
  },
  {
   "cell_type": "code",
   "execution_count": 42,
   "id": "76cf8dae-6771-4301-b9e4-d929df320e2c",
   "metadata": {},
   "outputs": [],
   "source": [
    "\n",
    "@time_it\n",
    "@lru_cache\n",
    "def factorial(n):\n",
    "    prod = 1\n",
    "    for i in range(2,n+1):\n",
    "        prod *=i\n",
    "    return 'done'\n"
   ]
  },
  {
   "cell_type": "code",
   "execution_count": 43,
   "id": "7a6d3179-406d-4550-abdc-4a80b289da88",
   "metadata": {
    "tags": []
   },
   "outputs": [
    {
     "name": "stdout",
     "output_type": "stream",
     "text": [
      "time elapsed:11.439718564000032\n"
     ]
    },
    {
     "data": {
      "text/plain": [
       "'done'"
      ]
     },
     "execution_count": 43,
     "metadata": {},
     "output_type": "execute_result"
    }
   ],
   "source": [
    "factorial(150000)"
   ]
  },
  {
   "cell_type": "code",
   "execution_count": 44,
   "id": "bbd2a153-6cf0-4f6d-a147-22302b943769",
   "metadata": {
    "tags": []
   },
   "outputs": [
    {
     "name": "stdout",
     "output_type": "stream",
     "text": [
      "time elapsed:4.869999429502059e-06\n"
     ]
    },
    {
     "data": {
      "text/plain": [
       "'done'"
      ]
     },
     "execution_count": 44,
     "metadata": {},
     "output_type": "execute_result"
    }
   ],
   "source": [
    "factorial(150000)"
   ]
  },
  {
   "cell_type": "code",
   "execution_count": null,
   "id": "2fd9df69-e182-419a-a133-d03b970d294b",
   "metadata": {},
   "outputs": [],
   "source": []
  }
 ],
 "metadata": {
  "kernelspec": {
   "display_name": "Python 3 (ipykernel)",
   "language": "python",
   "name": "python3"
  },
  "language_info": {
   "codemirror_mode": {
    "name": "ipython",
    "version": 3
   },
   "file_extension": ".py",
   "mimetype": "text/x-python",
   "name": "python",
   "nbconvert_exporter": "python",
   "pygments_lexer": "ipython3",
   "version": "3.10.6"
  }
 },
 "nbformat": 4,
 "nbformat_minor": 5
}
