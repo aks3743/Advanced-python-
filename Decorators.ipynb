{
 "cells": [
  {
   "cell_type": "markdown",
   "id": "00f75b13-ff77-4b6a-a8b8-a33477be9b11",
   "metadata": {},
   "source": [
    "# Decorators\n",
    "\n",
    "* form of meta-programming. \n",
    "* allow us to wrap functionality arpound already defined functions\n",
    "    * without having to modify the code of original function\n",
    "* used when we have to same code multiple times \n",
    "    * log, time elapsed etc\n",
    "    \n",
    "* check higher order functions \n",
    "    * outer -> inner type\n"
   ]
  },
  {
   "cell_type": "code",
   "execution_count": 6,
   "id": "b5b4c295-5307-4492-aecb-3d269e612db1",
   "metadata": {},
   "outputs": [],
   "source": [
    "#basic decorator pattern\n",
    "def wrapper(func):\n",
    "    def inner(*args,**kwargs):\n",
    "        #some code\n",
    "        result = func(*args,**kwargs)\n",
    "        #some code\n",
    "        return result\n",
    "    return inner"
   ]
  },
  {
   "cell_type": "markdown",
   "id": "fedf1798-196b-4924-963b-ae225706a326",
   "metadata": {},
   "source": [
    "```python\n",
    "\n",
    "def func(a,b):\n",
    "    ......\n",
    "    \n",
    "func = wrapper(func) -> wrapper is called the decorator\n",
    "\n",
    "```\n",
    "\n",
    "there is a short hand notation for this \n",
    "\n",
    "```python\n",
    "@wrapper\n",
    "def func(a,b):\n",
    "    ....\n",
    "```"
   ]
  },
  {
   "cell_type": "code",
   "execution_count": 2,
   "id": "b43751ba-5156-4f34-ae4c-dba3efbae886",
   "metadata": {
    "tags": []
   },
   "outputs": [],
   "source": [
    "def add(a,b,c):\n",
    "    return a+b+c\n",
    "\n",
    "def greet(name):\n",
    "    return f'hello {name}'\n",
    "\n",
    "def join(data, *, item_sep = ',', line_sep = '\\n'):\n",
    "    return line_sep.join(\n",
    "        [\n",
    "            item_sep.join(str(item) for item in row)\n",
    "            for row in data\n",
    "            \n",
    "        ]\n",
    "    )"
   ]
  },
  {
   "cell_type": "code",
   "execution_count": 3,
   "id": "0077ec48-9676-4fae-8386-1efefc87a558",
   "metadata": {
    "tags": []
   },
   "outputs": [
    {
     "data": {
      "text/plain": [
       "6"
      ]
     },
     "execution_count": 3,
     "metadata": {},
     "output_type": "execute_result"
    }
   ],
   "source": [
    "add(1,2,3)"
   ]
  },
  {
   "cell_type": "code",
   "execution_count": 4,
   "id": "624cd400-ba28-4ac9-8b9e-92a765db6d84",
   "metadata": {
    "tags": []
   },
   "outputs": [
    {
     "data": {
      "text/plain": [
       "'hello Abhi'"
      ]
     },
     "execution_count": 4,
     "metadata": {},
     "output_type": "execute_result"
    }
   ],
   "source": [
    "greet('Abhi')"
   ]
  },
  {
   "cell_type": "code",
   "execution_count": 5,
   "id": "b49dbd7c-96a6-484d-8084-b8455b6c584a",
   "metadata": {
    "tags": []
   },
   "outputs": [
    {
     "data": {
      "text/plain": [
       "'1,2,3\\n4,5,6\\n7,8,9'"
      ]
     },
     "execution_count": 5,
     "metadata": {},
     "output_type": "execute_result"
    }
   ],
   "source": [
    "join([[1,2,3],[4,5,6],[7,8,9]])"
   ]
  },
  {
   "cell_type": "code",
   "execution_count": 7,
   "id": "d58614cd-0ec3-4609-943c-9ecb15bb7319",
   "metadata": {
    "tags": []
   },
   "outputs": [],
   "source": [
    "add_wrapper = wrapper(add)\n",
    "greet_wrapper = wrapper(greet)\n",
    "join_wrapper = wrapper(join)"
   ]
  },
  {
   "cell_type": "code",
   "execution_count": 8,
   "id": "7d051e1d-c1b9-491f-b3e0-3bdb87f3b150",
   "metadata": {
    "tags": []
   },
   "outputs": [
    {
     "data": {
      "text/plain": [
       "6"
      ]
     },
     "execution_count": 8,
     "metadata": {},
     "output_type": "execute_result"
    }
   ],
   "source": [
    "add_wrapper(1,2,3)"
   ]
  },
  {
   "cell_type": "code",
   "execution_count": 9,
   "id": "ab6b44a8-0c66-4017-960a-de96b4109220",
   "metadata": {
    "tags": []
   },
   "outputs": [
    {
     "data": {
      "text/plain": [
       "'hello Abhi'"
      ]
     },
     "execution_count": 9,
     "metadata": {},
     "output_type": "execute_result"
    }
   ],
   "source": [
    "greet_wrapper('Abhi')"
   ]
  },
  {
   "cell_type": "code",
   "execution_count": 10,
   "id": "f55c5b29-1fd6-4ad9-9c31-fcab5fc43e53",
   "metadata": {
    "tags": []
   },
   "outputs": [
    {
     "data": {
      "text/plain": [
       "'1,2,3\\n4,5,6\\n7,8,9'"
      ]
     },
     "execution_count": 10,
     "metadata": {},
     "output_type": "execute_result"
    }
   ],
   "source": [
    "join_wrapper([[1,2,3],[4,5,6],[7,8,9]])"
   ]
  },
  {
   "cell_type": "code",
   "execution_count": 13,
   "id": "604e7e50-752e-4640-9219-a0e2ffe0dd23",
   "metadata": {
    "tags": []
   },
   "outputs": [],
   "source": [
    "#basic decorator pattern\n",
    "def log(func):\n",
    "    def inner(*args,**kwargs):\n",
    "        #some code\n",
    "        result = func(*args,**kwargs)\n",
    "        print(f'{func.__name__} called and result={result}')\n",
    "        #some code\n",
    "        return result\n",
    "    return inner"
   ]
  },
  {
   "cell_type": "code",
   "execution_count": 14,
   "id": "af9449db-35d0-443e-88f8-76be4990458d",
   "metadata": {
    "tags": []
   },
   "outputs": [],
   "source": [
    "# now we can change the prev defined functions as \n",
    "add_log = log(add)\n",
    "greet_log = log(greet)\n",
    "join_log = log(join)\n"
   ]
  },
  {
   "cell_type": "code",
   "execution_count": 16,
   "id": "2bc9b8bd-ed5e-4a67-8466-9798845f4255",
   "metadata": {
    "tags": []
   },
   "outputs": [
    {
     "name": "stdout",
     "output_type": "stream",
     "text": [
      "add called and result=6\n",
      "greet called and result=hello Abhi\n",
      "join called and result=1,2,3\n",
      "4,5,6\n",
      "7,8,9\n"
     ]
    },
    {
     "data": {
      "text/plain": [
       "'1,2,3\\n4,5,6\\n7,8,9'"
      ]
     },
     "execution_count": 16,
     "metadata": {},
     "output_type": "execute_result"
    }
   ],
   "source": [
    "add_log(1,2,3)\n",
    "greet_log('Abhi')\n",
    "join_log([[1,2,3],[4,5,6],[7,8,9]])"
   ]
  },
  {
   "cell_type": "markdown",
   "id": "442b8596-17ef-4bd9-b0d9-b766f3a2a923",
   "metadata": {},
   "source": [
    "instead of wrapping every function with the log function we can do the following whch is quite easy"
   ]
  },
  {
   "cell_type": "code",
   "execution_count": 17,
   "id": "181ac25b-b941-4739-877c-02f38960cd31",
   "metadata": {
    "tags": []
   },
   "outputs": [],
   "source": [
    "@log\n",
    "def mult(a,b):\n",
    "    return a*b"
   ]
  },
  {
   "cell_type": "code",
   "execution_count": 18,
   "id": "838ca992-37a1-4415-b4e0-a02e26a73b7f",
   "metadata": {
    "tags": []
   },
   "outputs": [
    {
     "name": "stdout",
     "output_type": "stream",
     "text": [
      "mult called and result=408\n"
     ]
    },
    {
     "data": {
      "text/plain": [
       "408"
      ]
     },
     "execution_count": 18,
     "metadata": {},
     "output_type": "execute_result"
    }
   ],
   "source": [
    "mult(12,34)"
   ]
  },
  {
   "cell_type": "code",
   "execution_count": 20,
   "id": "bd6d2627-ecb1-40da-bf8c-8e80fbc715e5",
   "metadata": {
    "tags": []
   },
   "outputs": [],
   "source": [
    "from time import perf_counter\n",
    "def time_it(func,*args,**kwargs):\n",
    "    def inner(*args,**kwargs):\n",
    "        start = perf_counter()\n",
    "        result = func(*args,**kwargs)\n",
    "        end  = perf_counter()\n",
    "        print(f'time elapsed:{end - start}')\n",
    "        return result\n",
    "    return inner"
   ]
  },
  {
   "cell_type": "code",
   "execution_count": 21,
   "id": "97747c1e-07c1-490e-8041-f6f2aa4b0602",
   "metadata": {
    "tags": []
   },
   "outputs": [],
   "source": [
    "@time_it\n",
    "def factorial(n):\n",
    "    prod = 1\n",
    "    for i in range(2,n+1):\n",
    "        prod *=i\n",
    "    return prod"
   ]
  },
  {
   "cell_type": "code",
   "execution_count": null,
   "id": "5e7de7ff-e93e-4db5-8c27-f0dc5734f5aa",
   "metadata": {
    "tags": []
   },
   "outputs": [],
   "source": [
    "factorial(150000)"
   ]
  },
  {
   "cell_type": "code",
   "execution_count": 25,
   "id": "63d90812-4950-4ae4-b945-15fae677a765",
   "metadata": {
    "tags": []
   },
   "outputs": [],
   "source": [
    "import logging"
   ]
  },
  {
   "cell_type": "code",
   "execution_count": 30,
   "id": "aca9851a-7e87-4d0d-b1c7-0f8438ede840",
   "metadata": {
    "tags": []
   },
   "outputs": [],
   "source": [
    "logging.basicConfig(\n",
    "    format = '%(ascitime)s %(levelname)s: %(message)s',\n",
    "    level = logging.DEBUG\n",
    ")"
   ]
  },
  {
   "cell_type": "code",
   "execution_count": 31,
   "id": "741c3850-bd14-4add-8db6-51bc726a92be",
   "metadata": {
    "tags": []
   },
   "outputs": [],
   "source": [
    "logger = logging.getLogger('Custom Log')"
   ]
  },
  {
   "cell_type": "code",
   "execution_count": 32,
   "id": "e48951b6-7135-4466-b191-45972f95cbf3",
   "metadata": {
    "tags": []
   },
   "outputs": [
    {
     "name": "stderr",
     "output_type": "stream",
     "text": [
      "--- Logging error ---\n",
      "Traceback (most recent call last):\n",
      "  File \"/usr/lib/python3.10/logging/__init__.py\", line 440, in format\n",
      "    return self._format(record)\n",
      "  File \"/usr/lib/python3.10/logging/__init__.py\", line 436, in _format\n",
      "    return self._fmt % values\n",
      "KeyError: 'ascitime'\n",
      "\n",
      "During handling of the above exception, another exception occurred:\n",
      "\n",
      "Traceback (most recent call last):\n",
      "  File \"/usr/lib/python3.10/logging/__init__.py\", line 1100, in emit\n",
      "    msg = self.format(record)\n",
      "  File \"/usr/lib/python3.10/logging/__init__.py\", line 943, in format\n",
      "    return fmt.format(record)\n",
      "  File \"/usr/lib/python3.10/logging/__init__.py\", line 681, in format\n",
      "    s = self.formatMessage(record)\n",
      "  File \"/usr/lib/python3.10/logging/__init__.py\", line 650, in formatMessage\n",
      "    return self._style.format(record)\n",
      "  File \"/usr/lib/python3.10/logging/__init__.py\", line 442, in format\n",
      "    raise ValueError('Formatting field not found in record: %s' % e)\n",
      "ValueError: Formatting field not found in record: 'ascitime'\n",
      "Call stack:\n",
      "  File \"/usr/lib/python3.10/runpy.py\", line 196, in _run_module_as_main\n",
      "    return _run_code(code, main_globals, None,\n",
      "  File \"/usr/lib/python3.10/runpy.py\", line 86, in _run_code\n",
      "    exec(code, run_globals)\n",
      "  File \"/home/abhijith/Desktop/PySpark/pyspark/lib/python3.10/site-packages/ipykernel_launcher.py\", line 17, in <module>\n",
      "    app.launch_new_instance()\n",
      "  File \"/home/abhijith/Desktop/PySpark/pyspark/lib/python3.10/site-packages/traitlets/config/application.py\", line 1043, in launch_instance\n",
      "    app.start()\n",
      "  File \"/home/abhijith/Desktop/PySpark/pyspark/lib/python3.10/site-packages/ipykernel/kernelapp.py\", line 725, in start\n",
      "    self.io_loop.start()\n",
      "  File \"/home/abhijith/Desktop/PySpark/pyspark/lib/python3.10/site-packages/tornado/platform/asyncio.py\", line 195, in start\n",
      "    self.asyncio_loop.run_forever()\n",
      "  File \"/usr/lib/python3.10/asyncio/base_events.py\", line 600, in run_forever\n",
      "    self._run_once()\n",
      "  File \"/usr/lib/python3.10/asyncio/base_events.py\", line 1896, in _run_once\n",
      "    handle._run()\n",
      "  File \"/usr/lib/python3.10/asyncio/events.py\", line 80, in _run\n",
      "    self._context.run(self._callback, *self._args)\n",
      "  File \"/home/abhijith/Desktop/PySpark/pyspark/lib/python3.10/site-packages/ipykernel/kernelbase.py\", line 513, in dispatch_queue\n",
      "    await self.process_one()\n",
      "  File \"/home/abhijith/Desktop/PySpark/pyspark/lib/python3.10/site-packages/ipykernel/kernelbase.py\", line 502, in process_one\n",
      "    await dispatch(*args)\n",
      "  File \"/home/abhijith/Desktop/PySpark/pyspark/lib/python3.10/site-packages/ipykernel/kernelbase.py\", line 409, in dispatch_shell\n",
      "    await result\n",
      "  File \"/home/abhijith/Desktop/PySpark/pyspark/lib/python3.10/site-packages/ipykernel/kernelbase.py\", line 729, in execute_request\n",
      "    reply_content = await reply_content\n",
      "  File \"/home/abhijith/Desktop/PySpark/pyspark/lib/python3.10/site-packages/ipykernel/ipkernel.py\", line 422, in do_execute\n",
      "    res = shell.run_cell(\n",
      "  File \"/home/abhijith/Desktop/PySpark/pyspark/lib/python3.10/site-packages/ipykernel/zmqshell.py\", line 540, in run_cell\n",
      "    return super().run_cell(*args, **kwargs)\n",
      "  File \"/home/abhijith/Desktop/PySpark/pyspark/lib/python3.10/site-packages/IPython/core/interactiveshell.py\", line 3006, in run_cell\n",
      "    result = self._run_cell(\n",
      "  File \"/home/abhijith/Desktop/PySpark/pyspark/lib/python3.10/site-packages/IPython/core/interactiveshell.py\", line 3061, in _run_cell\n",
      "    result = runner(coro)\n",
      "  File \"/home/abhijith/Desktop/PySpark/pyspark/lib/python3.10/site-packages/IPython/core/async_helpers.py\", line 129, in _pseudo_sync_runner\n",
      "    coro.send(None)\n",
      "  File \"/home/abhijith/Desktop/PySpark/pyspark/lib/python3.10/site-packages/IPython/core/interactiveshell.py\", line 3266, in run_cell_async\n",
      "    has_raised = await self.run_ast_nodes(code_ast.body, cell_name,\n",
      "  File \"/home/abhijith/Desktop/PySpark/pyspark/lib/python3.10/site-packages/IPython/core/interactiveshell.py\", line 3445, in run_ast_nodes\n",
      "    if await self.run_code(code, result, async_=asy):\n",
      "  File \"/home/abhijith/Desktop/PySpark/pyspark/lib/python3.10/site-packages/IPython/core/interactiveshell.py\", line 3505, in run_code\n",
      "    exec(code_obj, self.user_global_ns, self.user_ns)\n",
      "  File \"/tmp/ipykernel_15957/552530682.py\", line 1, in <module>\n",
      "    logger.debug('debug message')\n",
      "Message: 'debug message'\n",
      "Arguments: ()\n"
     ]
    }
   ],
   "source": [
    "logger.debug('debug message')"
   ]
  },
  {
   "cell_type": "code",
   "execution_count": 33,
   "id": "caffff38-1e19-40f4-acd4-1062f7a89191",
   "metadata": {
    "tags": []
   },
   "outputs": [
    {
     "name": "stderr",
     "output_type": "stream",
     "text": [
      "--- Logging error ---\n",
      "Traceback (most recent call last):\n",
      "  File \"/usr/lib/python3.10/logging/__init__.py\", line 440, in format\n",
      "    return self._format(record)\n",
      "  File \"/usr/lib/python3.10/logging/__init__.py\", line 436, in _format\n",
      "    return self._fmt % values\n",
      "KeyError: 'ascitime'\n",
      "\n",
      "During handling of the above exception, another exception occurred:\n",
      "\n",
      "Traceback (most recent call last):\n",
      "  File \"/usr/lib/python3.10/logging/__init__.py\", line 1100, in emit\n",
      "    msg = self.format(record)\n",
      "  File \"/usr/lib/python3.10/logging/__init__.py\", line 943, in format\n",
      "    return fmt.format(record)\n",
      "  File \"/usr/lib/python3.10/logging/__init__.py\", line 681, in format\n",
      "    s = self.formatMessage(record)\n",
      "  File \"/usr/lib/python3.10/logging/__init__.py\", line 650, in formatMessage\n",
      "    return self._style.format(record)\n",
      "  File \"/usr/lib/python3.10/logging/__init__.py\", line 442, in format\n",
      "    raise ValueError('Formatting field not found in record: %s' % e)\n",
      "ValueError: Formatting field not found in record: 'ascitime'\n",
      "Call stack:\n",
      "  File \"/usr/lib/python3.10/runpy.py\", line 196, in _run_module_as_main\n",
      "    return _run_code(code, main_globals, None,\n",
      "  File \"/usr/lib/python3.10/runpy.py\", line 86, in _run_code\n",
      "    exec(code, run_globals)\n",
      "  File \"/home/abhijith/Desktop/PySpark/pyspark/lib/python3.10/site-packages/ipykernel_launcher.py\", line 17, in <module>\n",
      "    app.launch_new_instance()\n",
      "  File \"/home/abhijith/Desktop/PySpark/pyspark/lib/python3.10/site-packages/traitlets/config/application.py\", line 1043, in launch_instance\n",
      "    app.start()\n",
      "  File \"/home/abhijith/Desktop/PySpark/pyspark/lib/python3.10/site-packages/ipykernel/kernelapp.py\", line 725, in start\n",
      "    self.io_loop.start()\n",
      "  File \"/home/abhijith/Desktop/PySpark/pyspark/lib/python3.10/site-packages/tornado/platform/asyncio.py\", line 195, in start\n",
      "    self.asyncio_loop.run_forever()\n",
      "  File \"/usr/lib/python3.10/asyncio/base_events.py\", line 600, in run_forever\n",
      "    self._run_once()\n",
      "  File \"/usr/lib/python3.10/asyncio/base_events.py\", line 1896, in _run_once\n",
      "    handle._run()\n",
      "  File \"/usr/lib/python3.10/asyncio/events.py\", line 80, in _run\n",
      "    self._context.run(self._callback, *self._args)\n",
      "  File \"/home/abhijith/Desktop/PySpark/pyspark/lib/python3.10/site-packages/ipykernel/kernelbase.py\", line 513, in dispatch_queue\n",
      "    await self.process_one()\n",
      "  File \"/home/abhijith/Desktop/PySpark/pyspark/lib/python3.10/site-packages/ipykernel/kernelbase.py\", line 502, in process_one\n",
      "    await dispatch(*args)\n",
      "  File \"/home/abhijith/Desktop/PySpark/pyspark/lib/python3.10/site-packages/ipykernel/kernelbase.py\", line 409, in dispatch_shell\n",
      "    await result\n",
      "  File \"/home/abhijith/Desktop/PySpark/pyspark/lib/python3.10/site-packages/ipykernel/kernelbase.py\", line 729, in execute_request\n",
      "    reply_content = await reply_content\n",
      "  File \"/home/abhijith/Desktop/PySpark/pyspark/lib/python3.10/site-packages/ipykernel/ipkernel.py\", line 422, in do_execute\n",
      "    res = shell.run_cell(\n",
      "  File \"/home/abhijith/Desktop/PySpark/pyspark/lib/python3.10/site-packages/ipykernel/zmqshell.py\", line 540, in run_cell\n",
      "    return super().run_cell(*args, **kwargs)\n",
      "  File \"/home/abhijith/Desktop/PySpark/pyspark/lib/python3.10/site-packages/IPython/core/interactiveshell.py\", line 3006, in run_cell\n",
      "    result = self._run_cell(\n",
      "  File \"/home/abhijith/Desktop/PySpark/pyspark/lib/python3.10/site-packages/IPython/core/interactiveshell.py\", line 3061, in _run_cell\n",
      "    result = runner(coro)\n",
      "  File \"/home/abhijith/Desktop/PySpark/pyspark/lib/python3.10/site-packages/IPython/core/async_helpers.py\", line 129, in _pseudo_sync_runner\n",
      "    coro.send(None)\n",
      "  File \"/home/abhijith/Desktop/PySpark/pyspark/lib/python3.10/site-packages/IPython/core/interactiveshell.py\", line 3266, in run_cell_async\n",
      "    has_raised = await self.run_ast_nodes(code_ast.body, cell_name,\n",
      "  File \"/home/abhijith/Desktop/PySpark/pyspark/lib/python3.10/site-packages/IPython/core/interactiveshell.py\", line 3445, in run_ast_nodes\n",
      "    if await self.run_code(code, result, async_=asy):\n",
      "  File \"/home/abhijith/Desktop/PySpark/pyspark/lib/python3.10/site-packages/IPython/core/interactiveshell.py\", line 3505, in run_code\n",
      "    exec(code_obj, self.user_global_ns, self.user_ns)\n",
      "  File \"/tmp/ipykernel_15957/3024236765.py\", line 1, in <module>\n",
      "    logger.error('some error happened')\n",
      "Message: 'some error happened'\n",
      "Arguments: ()\n"
     ]
    }
   ],
   "source": [
    "logger.error('some error happened')"
   ]
  },
  {
   "cell_type": "markdown",
   "id": "29450a23-1034-46bb-99dd-c62190e40030",
   "metadata": {},
   "source": [
    "## LRU Caching"
   ]
  },
  {
   "cell_type": "markdown",
   "id": "1c3e102d-6bfa-44a2-91dd-4d7225c8913b",
   "metadata": {},
   "source": [
    "### basic idea\n",
    "```python\n",
    "\n",
    "cache = {}\n",
    "def func(a,b,c):\n",
    "    key = (a,b,c)\n",
    "    if key in cache:\n",
    "        return cache[key]\n",
    "    #calculation here\n",
    "    cache[key] = result # add results to cache\n",
    "    return result\n",
    "```"
   ]
  },
  {
   "cell_type": "code",
   "execution_count": null,
   "id": "d81f7921-1927-49eb-97e6-7aa91e976a58",
   "metadata": {},
   "outputs": [],
   "source": []
  }
 ],
 "metadata": {
  "kernelspec": {
   "display_name": "Python 3 (ipykernel)",
   "language": "python",
   "name": "python3"
  },
  "language_info": {
   "codemirror_mode": {
    "name": "ipython",
    "version": 3
   },
   "file_extension": ".py",
   "mimetype": "text/x-python",
   "name": "python",
   "nbconvert_exporter": "python",
   "pygments_lexer": "ipython3",
   "version": "3.10.6"
  }
 },
 "nbformat": 4,
 "nbformat_minor": 5
}
