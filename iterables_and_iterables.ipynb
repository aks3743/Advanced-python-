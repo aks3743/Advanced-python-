{
 "cells": [
  {
   "cell_type": "code",
   "execution_count": 1,
   "id": "f8fb8b7b-15b3-43d9-9ba7-d98640479838",
   "metadata": {
    "tags": []
   },
   "outputs": [],
   "source": [
    "#iterables and iterators\n",
    " "
   ]
  },
  {
   "cell_type": "code",
   "execution_count": 2,
   "id": "74139cdf-b858-4937-80b1-a536accabd73",
   "metadata": {
    "tags": []
   },
   "outputs": [
    {
     "data": {
      "text/plain": [
       "list_iterator"
      ]
     },
     "execution_count": 2,
     "metadata": {},
     "output_type": "execute_result"
    }
   ],
   "source": [
    "l = [1,2,3]\n",
    "iterator = iter(l)\n",
    "type(iterator)"
   ]
  },
  {
   "cell_type": "code",
   "execution_count": 3,
   "id": "8c5ab1d0-5a96-4687-9a75-6d3bc65dcc5e",
   "metadata": {
    "tags": []
   },
   "outputs": [
    {
     "data": {
      "text/plain": [
       "1"
      ]
     },
     "execution_count": 3,
     "metadata": {},
     "output_type": "execute_result"
    }
   ],
   "source": [
    "next(iterator)"
   ]
  },
  {
   "cell_type": "code",
   "execution_count": 4,
   "id": "b8454192-4eaa-4db8-8669-6bf330473175",
   "metadata": {
    "tags": []
   },
   "outputs": [
    {
     "data": {
      "text/plain": [
       "2"
      ]
     },
     "execution_count": 4,
     "metadata": {},
     "output_type": "execute_result"
    }
   ],
   "source": [
    "next(iterator)"
   ]
  },
  {
   "cell_type": "code",
   "execution_count": 5,
   "id": "7a20a3e2-81b7-47d9-8cba-3824034a217d",
   "metadata": {
    "tags": []
   },
   "outputs": [
    {
     "data": {
      "text/plain": [
       "3"
      ]
     },
     "execution_count": 5,
     "metadata": {},
     "output_type": "execute_result"
    }
   ],
   "source": [
    "next(iterator)"
   ]
  },
  {
   "cell_type": "code",
   "execution_count": 6,
   "id": "8f3ee1be-975f-4472-9e47-0f1e9a4b5e4c",
   "metadata": {
    "tags": []
   },
   "outputs": [
    {
     "ename": "StopIteration",
     "evalue": "",
     "output_type": "error",
     "traceback": [
      "\u001b[0;31m---------------------------------------------------------------------------\u001b[0m",
      "\u001b[0;31mStopIteration\u001b[0m                             Traceback (most recent call last)",
      "Cell \u001b[0;32mIn[6], line 1\u001b[0m\n\u001b[0;32m----> 1\u001b[0m \u001b[38;5;28;43mnext\u001b[39;49m\u001b[43m(\u001b[49m\u001b[43miterator\u001b[49m\u001b[43m)\u001b[49m\n",
      "\u001b[0;31mStopIteration\u001b[0m: "
     ]
    }
   ],
   "source": [
    "next(iterator)"
   ]
  },
  {
   "cell_type": "code",
   "execution_count": 7,
   "id": "80cc4faa-ec21-40f2-b046-c2390d3bdc31",
   "metadata": {
    "tags": []
   },
   "outputs": [
    {
     "data": {
      "text/plain": [
       "281472999020512"
      ]
     },
     "execution_count": 7,
     "metadata": {},
     "output_type": "execute_result"
    }
   ],
   "source": [
    "id(iterator)"
   ]
  },
  {
   "cell_type": "code",
   "execution_count": 8,
   "id": "aa01a429-d10f-4577-b1f5-e831c2a934a9",
   "metadata": {
    "tags": []
   },
   "outputs": [],
   "source": [
    "iterator = iter(l)"
   ]
  },
  {
   "cell_type": "code",
   "execution_count": 9,
   "id": "b0bac538-99a1-49b2-b371-4b9e1291f0c3",
   "metadata": {
    "tags": []
   },
   "outputs": [
    {
     "data": {
      "text/plain": [
       "281472699282576"
      ]
     },
     "execution_count": 9,
     "metadata": {},
     "output_type": "execute_result"
    }
   ],
   "source": [
    "id(iterator)"
   ]
  },
  {
   "cell_type": "code",
   "execution_count": 10,
   "id": "99379562-a646-4672-ab70-a3e4b508544b",
   "metadata": {
    "tags": []
   },
   "outputs": [
    {
     "data": {
      "text/plain": [
       "1"
      ]
     },
     "execution_count": 10,
     "metadata": {},
     "output_type": "execute_result"
    }
   ],
   "source": [
    "next(iterator)"
   ]
  },
  {
   "cell_type": "code",
   "execution_count": 11,
   "id": "a0244201-72a6-4031-810b-0e5a1c1f0340",
   "metadata": {
    "tags": []
   },
   "outputs": [
    {
     "name": "stdout",
     "output_type": "stream",
     "text": [
      "1\n",
      "2\n",
      "3\n"
     ]
    }
   ],
   "source": [
    "for i in l:\n",
    "    print(i)"
   ]
  },
  {
   "cell_type": "code",
   "execution_count": 12,
   "id": "f0cef0b5-b0ad-46cb-a013-1a8a1ffaa7a9",
   "metadata": {
    "tags": []
   },
   "outputs": [
    {
     "name": "stdout",
     "output_type": "stream",
     "text": [
      "1\n",
      "2\n",
      "3\n"
     ]
    }
   ],
   "source": [
    "iterator = iter(l)\n",
    "\n",
    "try :\n",
    "    while True:\n",
    "        print(next(iterator))\n",
    "except StopIteration:\n",
    "    pass"
   ]
  },
  {
   "cell_type": "code",
   "execution_count": 13,
   "id": "097f4421-c59a-417e-9c4b-023ac206f082",
   "metadata": {
    "tags": []
   },
   "outputs": [
    {
     "data": {
      "text/plain": [
       "range(0, 10)"
      ]
     },
     "execution_count": 13,
     "metadata": {},
     "output_type": "execute_result"
    }
   ],
   "source": [
    "r = range(10)\n",
    "r # lazy iterator"
   ]
  },
  {
   "cell_type": "code",
   "execution_count": 14,
   "id": "0b745ac5-612e-483f-9e48-3cf96eba5eb6",
   "metadata": {
    "tags": []
   },
   "outputs": [],
   "source": [
    "r_iter = iter(r)"
   ]
  },
  {
   "cell_type": "code",
   "execution_count": 15,
   "id": "579722d6-0497-4cf3-9458-e7de94dc66d5",
   "metadata": {
    "tags": []
   },
   "outputs": [
    {
     "data": {
      "text/plain": [
       "0"
      ]
     },
     "execution_count": 15,
     "metadata": {},
     "output_type": "execute_result"
    }
   ],
   "source": [
    "next(r_iter)"
   ]
  },
  {
   "cell_type": "code",
   "execution_count": 16,
   "id": "b6c9df7b-4779-4dd4-98de-ba60e1b30514",
   "metadata": {
    "tags": []
   },
   "outputs": [
    {
     "data": {
      "text/plain": [
       "[1, 2, 3, 4, 5, 6, 7, 8, 9]"
      ]
     },
     "execution_count": 16,
     "metadata": {},
     "output_type": "execute_result"
    }
   ],
   "source": [
    "list(r_iter)"
   ]
  },
  {
   "cell_type": "code",
   "execution_count": 17,
   "id": "5b014c5f-8ef3-46b9-829a-19f66e486400",
   "metadata": {
    "tags": []
   },
   "outputs": [],
   "source": [
    "from time import perf_counter"
   ]
  },
  {
   "cell_type": "code",
   "execution_count": 18,
   "id": "dfca01f1-0093-4106-b87e-6c0ba5afa479",
   "metadata": {
    "tags": []
   },
   "outputs": [
    {
     "name": "stdout",
     "output_type": "stream",
     "text": [
      "elapsed: 0.0001752580001266324\n"
     ]
    }
   ],
   "source": [
    "start = perf_counter()\n",
    "l = range(100_000_000)\n",
    "end = perf_counter()\n",
    "print(f'elapsed: {end - start}')"
   ]
  },
  {
   "cell_type": "code",
   "execution_count": 19,
   "id": "f5e5c580-9b1c-4478-985d-b6ca6695a849",
   "metadata": {
    "tags": []
   },
   "outputs": [
    {
     "name": "stdout",
     "output_type": "stream",
     "text": [
      "elapsed: 10.440995478000332\n"
     ]
    }
   ],
   "source": [
    "start = perf_counter()\n",
    "l = list(range(100_000_000))\n",
    "end = perf_counter()\n",
    "print(f'elapsed: {end - start}')"
   ]
  },
  {
   "cell_type": "code",
   "execution_count": 20,
   "id": "c0626518-638b-4da6-8ac6-d13dd02a810d",
   "metadata": {
    "tags": []
   },
   "outputs": [],
   "source": [
    "del l"
   ]
  },
  {
   "cell_type": "code",
   "execution_count": 21,
   "id": "c838c86b-2c10-435a-a8e0-029113ca26cd",
   "metadata": {
    "tags": []
   },
   "outputs": [
    {
     "data": {
      "text/plain": [
       "[(0, 'a'), (1, 'b'), (2, 'c')]"
      ]
     },
     "execution_count": 21,
     "metadata": {},
     "output_type": "execute_result"
    }
   ],
   "source": [
    "enum  = enumerate('abc')\n",
    "list(enum)"
   ]
  },
  {
   "cell_type": "code",
   "execution_count": 22,
   "id": "dff54262-39bf-4148-b14f-961f8cd814cb",
   "metadata": {
    "tags": []
   },
   "outputs": [
    {
     "data": {
      "text/plain": [
       "[]"
      ]
     },
     "execution_count": 22,
     "metadata": {},
     "output_type": "execute_result"
    }
   ],
   "source": [
    "list(enum)"
   ]
  },
  {
   "cell_type": "code",
   "execution_count": 23,
   "id": "7a5c35ac-b43f-4191-a5f1-f08394c62a6b",
   "metadata": {
    "tags": []
   },
   "outputs": [
    {
     "ename": "StopIteration",
     "evalue": "",
     "output_type": "error",
     "traceback": [
      "\u001b[0;31m---------------------------------------------------------------------------\u001b[0m",
      "\u001b[0;31mStopIteration\u001b[0m                             Traceback (most recent call last)",
      "Cell \u001b[0;32mIn[23], line 1\u001b[0m\n\u001b[0;32m----> 1\u001b[0m \u001b[38;5;28;43mnext\u001b[39;49m\u001b[43m(\u001b[49m\u001b[43menum\u001b[49m\u001b[43m)\u001b[49m\n",
      "\u001b[0;31mStopIteration\u001b[0m: "
     ]
    }
   ],
   "source": [
    "next(enum)"
   ]
  },
  {
   "cell_type": "code",
   "execution_count": 24,
   "id": "d3170867-1788-40c6-8ee2-ddd6655236c3",
   "metadata": {
    "tags": []
   },
   "outputs": [],
   "source": [
    "#iterators are memory efficient than ietrables"
   ]
  },
  {
   "cell_type": "markdown",
   "id": "44dad0bd-0cdb-4624-99d3-b22fb875b685",
   "metadata": {
    "tags": []
   },
   "source": [
    "# Generators"
   ]
  },
  {
   "cell_type": "code",
   "execution_count": 25,
   "id": "ea83cb7a-0acb-45a5-ad18-de99334a7bed",
   "metadata": {
    "tags": []
   },
   "outputs": [],
   "source": [
    "# genrators are iterators , they use lazy iteration and one time use only\n",
    "# used for memory efficiency\n",
    "# eg : read line by line from a file"
   ]
  },
  {
   "cell_type": "code",
   "execution_count": 26,
   "id": "9fe962f2-20aa-40fa-b02e-12565854e2e7",
   "metadata": {
    "tags": []
   },
   "outputs": [
    {
     "data": {
      "text/plain": [
       "[0, 1, 4, 9, 16, 25, 36, 49, 64, 81]"
      ]
     },
     "execution_count": 26,
     "metadata": {},
     "output_type": "execute_result"
    }
   ],
   "source": [
    "squares  =  [ i ** 2 for i in range(10)]\n",
    "squares"
   ]
  },
  {
   "cell_type": "code",
   "execution_count": 27,
   "id": "e47f8e92-e95b-4725-b926-b28855a8ae2c",
   "metadata": {
    "tags": []
   },
   "outputs": [
    {
     "data": {
      "text/plain": [
       "generator"
      ]
     },
     "execution_count": 27,
     "metadata": {},
     "output_type": "execute_result"
    }
   ],
   "source": [
    "sq = (i ** 2 for i in range(10))\n",
    "type(sq)"
   ]
  },
  {
   "cell_type": "code",
   "execution_count": 28,
   "id": "6d6e6022-0e64-46aa-9a8b-94af56c01613",
   "metadata": {
    "tags": []
   },
   "outputs": [
    {
     "name": "stdout",
     "output_type": "stream",
     "text": [
      "0\n",
      "1\n",
      "4\n",
      "9\n",
      "16\n",
      "25\n",
      "36\n",
      "49\n",
      "64\n",
      "81\n"
     ]
    }
   ],
   "source": [
    "for i in sq:\n",
    "    print(i)"
   ]
  },
  {
   "cell_type": "code",
   "execution_count": 29,
   "id": "e19a633e-99c1-4e0e-95eb-32eae66f3314",
   "metadata": {
    "tags": []
   },
   "outputs": [
    {
     "data": {
      "text/plain": [
       "True"
      ]
     },
     "execution_count": 29,
     "metadata": {},
     "output_type": "execute_result"
    }
   ],
   "source": [
    "iter(sq) is sq"
   ]
  },
  {
   "cell_type": "code",
   "execution_count": 30,
   "id": "8e4326bd-931a-41bc-bb02-a2fcc703401a",
   "metadata": {
    "tags": []
   },
   "outputs": [
    {
     "data": {
      "text/plain": [
       "0"
      ]
     },
     "execution_count": 30,
     "metadata": {},
     "output_type": "execute_result"
    }
   ],
   "source": [
    "sq = (i ** 2 for i in range(10))\n",
    "next(sq)"
   ]
  },
  {
   "cell_type": "code",
   "execution_count": 31,
   "id": "4850b2eb-991e-42ba-8d20-fb430efe3998",
   "metadata": {
    "tags": []
   },
   "outputs": [],
   "source": [
    "sq = (i ** 2 for i in range(5))"
   ]
  },
  {
   "cell_type": "code",
   "execution_count": 32,
   "id": "f6a0c7cf-2709-46b8-aa8d-d71f99e7bdfa",
   "metadata": {
    "tags": []
   },
   "outputs": [
    {
     "data": {
      "text/plain": [
       "False"
      ]
     },
     "execution_count": 32,
     "metadata": {},
     "output_type": "execute_result"
    }
   ],
   "source": [
    "3 in sq"
   ]
  },
  {
   "cell_type": "code",
   "execution_count": 33,
   "id": "bf821a7b-3431-4081-bd6a-22d8cdba9a19",
   "metadata": {
    "tags": []
   },
   "outputs": [
    {
     "data": {
      "text/plain": [
       "[]"
      ]
     },
     "execution_count": 33,
     "metadata": {},
     "output_type": "execute_result"
    }
   ],
   "source": [
    "list(sq)"
   ]
  },
  {
   "cell_type": "code",
   "execution_count": 34,
   "id": "6315419d-be7a-45c4-9f47-382a67cb2579",
   "metadata": {
    "tags": []
   },
   "outputs": [
    {
     "data": {
      "text/plain": [
       "True"
      ]
     },
     "execution_count": 34,
     "metadata": {},
     "output_type": "execute_result"
    }
   ],
   "source": [
    "sq = (i ** 2 for i in range(5))\n",
    "4 in sq"
   ]
  },
  {
   "cell_type": "code",
   "execution_count": 35,
   "id": "1c2ed969-7033-4962-a561-f7c433672bb0",
   "metadata": {
    "tags": []
   },
   "outputs": [
    {
     "data": {
      "text/plain": [
       "[9, 16]"
      ]
     },
     "execution_count": 35,
     "metadata": {},
     "output_type": "execute_result"
    }
   ],
   "source": [
    "list(sq)"
   ]
  },
  {
   "cell_type": "code",
   "execution_count": 41,
   "id": "ae85d5fc-a8d0-40a7-80b7-0c395120dc0b",
   "metadata": {
    "tags": []
   },
   "outputs": [
    {
     "ename": "SyntaxError",
     "evalue": "invalid syntax (1228588122.py, line 2)",
     "output_type": "error",
     "traceback": [
      "\u001b[0;36m  Cell \u001b[0;32mIn[41], line 2\u001b[0;36m\u001b[0m\n\u001b[0;31m    from timeit import timeit\u001b[0m\n\u001b[0m    ^\u001b[0m\n\u001b[0;31mSyntaxError\u001b[0m\u001b[0;31m:\u001b[0m invalid syntax\n"
     ]
    }
   ],
   "source": [
    "\n",
    "from timeit import timeit"
   ]
  },
  {
   "cell_type": "code",
   "execution_count": 39,
   "id": "45169c11-255f-4c56-8d0d-67ba933d3542",
   "metadata": {
    "tags": []
   },
   "outputs": [],
   "source": [
    "from functools import lru_cache"
   ]
  },
  {
   "cell_type": "code",
   "execution_count": 42,
   "id": "c1216642-58bc-46e1-a991-574bf9e1b632",
   "metadata": {
    "tags": []
   },
   "outputs": [
    {
     "data": {
      "text/plain": [
       "15.077388846000304"
      ]
     },
     "execution_count": 42,
     "metadata": {},
     "output_type": "execute_result"
    }
   ],
   "source": [
    "\n",
    "timeit('[i ** 2 for i in range(25000000)]',number=1)"
   ]
  },
  {
   "cell_type": "code",
   "execution_count": 38,
   "id": "1977699b-994b-4cd3-85b3-a41f4c24d81f",
   "metadata": {
    "tags": []
   },
   "outputs": [
    {
     "data": {
      "text/plain": [
       "1.4192372429997704"
      ]
     },
     "execution_count": 38,
     "metadata": {},
     "output_type": "execute_result"
    }
   ],
   "source": [
    "timeit('(i ** 2 for i in range(25000000))')"
   ]
  },
  {
   "cell_type": "code",
   "execution_count": null,
   "id": "61d3329a-d677-40f6-8cda-1d9bccf422ba",
   "metadata": {},
   "outputs": [],
   "source": []
  }
 ],
 "metadata": {
  "kernelspec": {
   "display_name": "Python 3 (ipykernel)",
   "language": "python",
   "name": "python3"
  },
  "language_info": {
   "codemirror_mode": {
    "name": "ipython",
    "version": 3
   },
   "file_extension": ".py",
   "mimetype": "text/x-python",
   "name": "python",
   "nbconvert_exporter": "python",
   "pygments_lexer": "ipython3",
   "version": "3.10.6"
  }
 },
 "nbformat": 4,
 "nbformat_minor": 5
}
