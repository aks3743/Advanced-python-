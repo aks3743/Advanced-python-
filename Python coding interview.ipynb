{
 "cells": [
  {
   "cell_type": "markdown",
   "id": "fcdfac07-caeb-4ee7-b2e0-1c7e131e4842",
   "metadata": {
    "tags": []
   },
   "source": [
    "# python interview quetions and anwers"
   ]
  },
  {
   "cell_type": "markdown",
   "id": "9132c793-8690-4bbe-8f8a-1712089109b0",
   "metadata": {
    "tags": []
   },
   "source": [
    "## 1. Reverse a String"
   ]
  },
  {
   "cell_type": "code",
   "execution_count": 10,
   "id": "34c786e5-7625-48b0-a9c9-7b973b8216c5",
   "metadata": {
    "tags": []
   },
   "outputs": [],
   "source": [
    "def reverse_string(s):\n",
    "    return s[::-1]"
   ]
  },
  {
   "cell_type": "code",
   "execution_count": 11,
   "id": "66050eb8-089f-4bb0-9807-8dd5ac42efa8",
   "metadata": {
    "tags": []
   },
   "outputs": [
    {
     "data": {
      "text/plain": [
       "'moc.liamg@3473ska'"
      ]
     },
     "execution_count": 11,
     "metadata": {},
     "output_type": "execute_result"
    }
   ],
   "source": [
    "t = \"aks3743@gmail.com\"\n",
    "reverse_string(t)"
   ]
  },
  {
   "cell_type": "markdown",
   "id": "e54fb2d6-01d4-41dd-b773-405b596a2205",
   "metadata": {
    "tags": []
   },
   "source": [
    "## 2. Check for Palindrome"
   ]
  },
  {
   "cell_type": "code",
   "execution_count": 5,
   "id": "40bf34a0-72fa-4bf4-a6be-97971acc23c3",
   "metadata": {
    "tags": []
   },
   "outputs": [],
   "source": [
    "def is_palindrome(s):\n",
    "    return s == s[::-1]\n"
   ]
  },
  {
   "cell_type": "code",
   "execution_count": 6,
   "id": "5482433e-e788-4e2d-a6f0-17b658b5e680",
   "metadata": {
    "tags": []
   },
   "outputs": [
    {
     "data": {
      "text/plain": [
       "False"
      ]
     },
     "execution_count": 6,
     "metadata": {},
     "output_type": "execute_result"
    }
   ],
   "source": [
    "is_palindrome(t)"
   ]
  },
  {
   "cell_type": "code",
   "execution_count": 7,
   "id": "5be1a076-79fc-4b7c-802f-d0cfcfe137b2",
   "metadata": {
    "tags": []
   },
   "outputs": [
    {
     "data": {
      "text/plain": [
       "True"
      ]
     },
     "execution_count": 7,
     "metadata": {},
     "output_type": "execute_result"
    }
   ],
   "source": [
    "s = \"malayalam\"\n",
    "is_palindrome(s)"
   ]
  },
  {
   "cell_type": "markdown",
   "id": "0ca73847-ea02-4b38-b4bb-2d6c09d25510",
   "metadata": {
    "tags": []
   },
   "source": [
    "## 3. Find the Missing Number\n",
    "\n",
    "Question: Given an array of integers from 1 to N with one number missing, find the missing number."
   ]
  },
  {
   "cell_type": "code",
   "execution_count": 13,
   "id": "977db810-50eb-472f-bebc-896ba1675a9d",
   "metadata": {
    "tags": []
   },
   "outputs": [],
   "source": [
    "def find_missing_num(numbers):\n",
    "    n = len(numbers)+1\n",
    "    sum_n = n*(n+1)*0.5\n",
    "    return sum_n - sum(numbers)\n",
    "    "
   ]
  },
  {
   "cell_type": "code",
   "execution_count": 14,
   "id": "24dd2a9f-130e-4f84-8823-af63f3554cbd",
   "metadata": {
    "tags": []
   },
   "outputs": [
    {
     "data": {
      "text/plain": [
       "4.0"
      ]
     },
     "execution_count": 14,
     "metadata": {},
     "output_type": "execute_result"
    }
   ],
   "source": [
    "l = [1,2,3,5,6,7]\n",
    "find_missing_num(l)"
   ]
  },
  {
   "cell_type": "markdown",
   "id": "b12b1e30-421d-4691-9744-d29da439393b",
   "metadata": {
    "tags": []
   },
   "source": [
    "## 5. Find the First Non-Repeating Character\n",
    "\n",
    "Question: Write a function to find the first non-repeating character in a string."
   ]
  },
  {
   "cell_type": "code",
   "execution_count": 29,
   "id": "7a9cdb9b-1836-4af4-a1f7-b78efc2c643e",
   "metadata": {
    "tags": []
   },
   "outputs": [],
   "source": [
    "def find_first_non_repeat(s):\n",
    "    count_char = {}\n",
    "    for char in s:\n",
    "        if char in count_char:\n",
    "            count_char[char]+=1\n",
    "        else :\n",
    "            count_char[char]=1\n",
    "    n = 0\n",
    "    print(count_char)\n",
    "    for char in s:\n",
    "        \n",
    "        if count_char[char]==1:\n",
    "            print(char)\n",
    "\n",
    "            break "
   ]
  },
  {
   "cell_type": "code",
   "execution_count": 30,
   "id": "d2986f8b-1bb1-4ef2-9bc7-ffeb42bb172f",
   "metadata": {
    "tags": []
   },
   "outputs": [
    {
     "name": "stdout",
     "output_type": "stream",
     "text": [
      "{'a': 4, 'l': 1, 'p': 1, 'n': 1, 'm': 1}\n",
      "l\n"
     ]
    }
   ],
   "source": [
    "s = \"alapanam\"\n",
    "find_first_non_repeat(s)"
   ]
  },
  {
   "cell_type": "code",
   "execution_count": null,
   "id": "20d20828-8e8b-4fc5-86a5-bfb64f5a4be0",
   "metadata": {},
   "outputs": [],
   "source": []
  }
 ],
 "metadata": {
  "kernelspec": {
   "display_name": "Python 3 (ipykernel)",
   "language": "python",
   "name": "python3"
  },
  "language_info": {
   "codemirror_mode": {
    "name": "ipython",
    "version": 3
   },
   "file_extension": ".py",
   "mimetype": "text/x-python",
   "name": "python",
   "nbconvert_exporter": "python",
   "pygments_lexer": "ipython3",
   "version": "3.10.12"
  }
 },
 "nbformat": 4,
 "nbformat_minor": 5
}
