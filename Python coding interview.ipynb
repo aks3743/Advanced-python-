{
 "cells": [
  {
   "cell_type": "markdown",
   "id": "fcdfac07-caeb-4ee7-b2e0-1c7e131e4842",
   "metadata": {
    "tags": []
   },
   "source": [
    "# python interview quetions and anwers"
   ]
  },
  {
   "cell_type": "markdown",
   "id": "9132c793-8690-4bbe-8f8a-1712089109b0",
   "metadata": {
    "tags": []
   },
   "source": [
    "## 1. Reverse a String"
   ]
  },
  {
   "cell_type": "code",
   "execution_count": 2,
   "id": "34c786e5-7625-48b0-a9c9-7b973b8216c5",
   "metadata": {
    "tags": []
   },
   "outputs": [],
   "source": [
    "def reverse_string(s):\n",
    "    return s[::-1]"
   ]
  },
  {
   "cell_type": "code",
   "execution_count": 3,
   "id": "66050eb8-089f-4bb0-9807-8dd5ac42efa8",
   "metadata": {
    "tags": []
   },
   "outputs": [
    {
     "data": {
      "text/plain": [
       "'moc.liamg@3473ska'"
      ]
     },
     "execution_count": 3,
     "metadata": {},
     "output_type": "execute_result"
    }
   ],
   "source": [
    "t = \"aks3743@gmail.com\"\n",
    "reverse_string(t)"
   ]
  },
  {
   "cell_type": "markdown",
   "id": "e54fb2d6-01d4-41dd-b773-405b596a2205",
   "metadata": {
    "tags": []
   },
   "source": [
    "## 2. Check for Palindrome"
   ]
  },
  {
   "cell_type": "code",
   "execution_count": 4,
   "id": "40bf34a0-72fa-4bf4-a6be-97971acc23c3",
   "metadata": {
    "tags": []
   },
   "outputs": [],
   "source": [
    "def is_palindrome(s):\n",
    "    return s == s[::-1]\n"
   ]
  },
  {
   "cell_type": "code",
   "execution_count": 5,
   "id": "5482433e-e788-4e2d-a6f0-17b658b5e680",
   "metadata": {
    "tags": []
   },
   "outputs": [
    {
     "data": {
      "text/plain": [
       "False"
      ]
     },
     "execution_count": 5,
     "metadata": {},
     "output_type": "execute_result"
    }
   ],
   "source": [
    "is_palindrome(t)"
   ]
  },
  {
   "cell_type": "code",
   "execution_count": 6,
   "id": "5be1a076-79fc-4b7c-802f-d0cfcfe137b2",
   "metadata": {
    "tags": []
   },
   "outputs": [
    {
     "data": {
      "text/plain": [
       "True"
      ]
     },
     "execution_count": 6,
     "metadata": {},
     "output_type": "execute_result"
    }
   ],
   "source": [
    "s = \"malayalam\"\n",
    "is_palindrome(s)"
   ]
  },
  {
   "cell_type": "markdown",
   "id": "0ca73847-ea02-4b38-b4bb-2d6c09d25510",
   "metadata": {
    "tags": []
   },
   "source": [
    "## 3. Find the Missing Number\n",
    "\n",
    "Question: Given an array of integers from 1 to N with one number missing, find the missing number."
   ]
  },
  {
   "cell_type": "code",
   "execution_count": 7,
   "id": "977db810-50eb-472f-bebc-896ba1675a9d",
   "metadata": {
    "tags": []
   },
   "outputs": [],
   "source": [
    "def find_missing_num(numbers):\n",
    "    n = len(numbers)+1\n",
    "    sum_n = n*(n+1)*0.5\n",
    "    return sum_n - sum(numbers)\n",
    "    "
   ]
  },
  {
   "cell_type": "code",
   "execution_count": 8,
   "id": "24dd2a9f-130e-4f84-8823-af63f3554cbd",
   "metadata": {
    "tags": []
   },
   "outputs": [
    {
     "data": {
      "text/plain": [
       "4.0"
      ]
     },
     "execution_count": 8,
     "metadata": {},
     "output_type": "execute_result"
    }
   ],
   "source": [
    "l = [1,2,3,5,6,7]\n",
    "find_missing_num(l)"
   ]
  },
  {
   "cell_type": "markdown",
   "id": "b12b1e30-421d-4691-9744-d29da439393b",
   "metadata": {
    "tags": []
   },
   "source": [
    "## 5. Find the First Non-Repeating Character\n",
    "\n",
    "Question: Write a function to find the first non-repeating character in a string."
   ]
  },
  {
   "cell_type": "code",
   "execution_count": 9,
   "id": "7a9cdb9b-1836-4af4-a1f7-b78efc2c643e",
   "metadata": {
    "tags": []
   },
   "outputs": [],
   "source": [
    "def find_first_non_repeat(s):\n",
    "    count_char = {}\n",
    "    for char in s:\n",
    "        if char in count_char:\n",
    "            count_char[char]+=1\n",
    "        else :\n",
    "            count_char[char]=1\n",
    "    n = 0\n",
    "    print(count_char)\n",
    "    for char in s:\n",
    "        \n",
    "        if count_char[char]==1:\n",
    "            print(char)\n",
    "\n",
    "            break "
   ]
  },
  {
   "cell_type": "code",
   "execution_count": 10,
   "id": "d2986f8b-1bb1-4ef2-9bc7-ffeb42bb172f",
   "metadata": {
    "tags": []
   },
   "outputs": [
    {
     "name": "stdout",
     "output_type": "stream",
     "text": [
      "{'a': 4, 'l': 1, 'p': 1, 'n': 1, 'm': 1}\n",
      "l\n"
     ]
    }
   ],
   "source": [
    "s = \"alapanam\"\n",
    "find_first_non_repeat(s)"
   ]
  },
  {
   "cell_type": "markdown",
   "id": "0598e807-3596-4a42-b72e-47e7ffcb9c34",
   "metadata": {},
   "source": [
    "## 6. Merge Two Sorted Lists\n",
    "\n",
    "Question: Merge two sorted lists into a single sorted list."
   ]
  },
  {
   "cell_type": "code",
   "execution_count": 12,
   "id": "82139221-87bf-4dbd-a78e-a35b114c7323",
   "metadata": {},
   "outputs": [],
   "source": [
    "def merge_sorted_lists(l1,l2):\n",
    "    pass\n",
    "    "
   ]
  },
  {
   "cell_type": "markdown",
   "id": "f27d8e56-04a5-4015-9629-0b0311c71faf",
   "metadata": {},
   "source": [
    "## 7  Find Two Numbers that Add Up to a Target\n",
    "\n",
    "Question: Given an array of integers, find two numbers such that they add up to a specific target."
   ]
  },
  {
   "cell_type": "code",
   "execution_count": 18,
   "id": "7726f80c-d54d-42fa-93d7-ea8d33490a90",
   "metadata": {
    "tags": []
   },
   "outputs": [],
   "source": [
    "def sum_two(numbers , target):\n",
    "    combinations = []\n",
    "    for num1 in numbers:\n",
    "        for num2 in numbers:\n",
    "            if num1 + num2  == target and num1!=num2:\n",
    "                combinations.append((num1,num2))\n",
    "    if len(combinations)==0:\n",
    "        print(\"No two combinations exists\")\n",
    "    else:\n",
    "        return combinations\n",
    "    "
   ]
  },
  {
   "cell_type": "code",
   "execution_count": 19,
   "id": "82cae996-d0b1-4fd0-b1da-afbfd329741b",
   "metadata": {
    "tags": []
   },
   "outputs": [
    {
     "data": {
      "text/plain": [
       "[(1, 6), (2, 5), (3, 4), (4, 3), (5, 2), (6, 1)]"
      ]
     },
     "execution_count": 19,
     "metadata": {},
     "output_type": "execute_result"
    }
   ],
   "source": [
    "sum_two([1,2,3,4,5,6],7)"
   ]
  },
  {
   "cell_type": "code",
   "execution_count": 20,
   "id": "be6d019e-7909-476c-b297-bba782ae1f70",
   "metadata": {
    "tags": []
   },
   "outputs": [],
   "source": [
    "def two_sum(nums, target):\n",
    "    num_dict = {}\n",
    "    for i, num in enumerate(nums):\n",
    "        complement = target - num\n",
    "        if complement in num_dict:\n",
    "            return [num_dict[complement], i]\n",
    "        num_dict[num] = i\n",
    "    return None\n"
   ]
  },
  {
   "cell_type": "code",
   "execution_count": 21,
   "id": "004462ee-5690-4ae0-85cc-cc5d7cf30bb0",
   "metadata": {
    "tags": []
   },
   "outputs": [
    {
     "data": {
      "text/plain": [
       "[2, 3]"
      ]
     },
     "execution_count": 21,
     "metadata": {},
     "output_type": "execute_result"
    }
   ],
   "source": [
    "two_sum([1,2,3,4,5,6],7)"
   ]
  },
  {
   "cell_type": "markdown",
   "id": "e3e0d6ab-5a6b-4824-8b13-624bc02a15c3",
   "metadata": {},
   "source": [
    "## 8  Reverse Words in a String"
   ]
  },
  {
   "cell_type": "code",
   "execution_count": 22,
   "id": "935a309f-0a24-4dea-a0bc-68fab9e2d2d5",
   "metadata": {
    "tags": []
   },
   "outputs": [],
   "source": [
    "def reverese_string(s):\n",
    "    letterscv = s[::-1]\n",
    "    return letterscv"
   ]
  },
  {
   "cell_type": "code",
   "execution_count": 25,
   "id": "3ed86c7a-1eb0-4013-a920-53f088113213",
   "metadata": {
    "tags": []
   },
   "outputs": [
    {
     "data": {
      "text/plain": [
       "'emosewa si nohtyp'"
      ]
     },
     "execution_count": 25,
     "metadata": {},
     "output_type": "execute_result"
    }
   ],
   "source": [
    "reverese_string(\"python is awesome\")"
   ]
  },
  {
   "cell_type": "markdown",
   "id": "024f038d-0ced-48c3-8c6b-1cfb7c8c506b",
   "metadata": {},
   "source": [
    "## 9 Roatate an array"
   ]
  },
  {
   "cell_type": "code",
   "execution_count": 31,
   "id": "629e9daf-bf73-41b1-b813-0c896d755aab",
   "metadata": {
    "tags": []
   },
   "outputs": [],
   "source": [
    "def rotate_array(nums, k):\n",
    "    k %= len(nums)\n",
    "    nums[:] = nums[-k:] + nums[:-k]\n",
    "    return nums\n"
   ]
  },
  {
   "cell_type": "code",
   "execution_count": 33,
   "id": "8374edfa-23a3-491a-ae3c-23111c6f4545",
   "metadata": {
    "tags": []
   },
   "outputs": [
    {
     "data": {
      "text/plain": [
       "[4, 1, 2, 3]"
      ]
     },
     "execution_count": 33,
     "metadata": {},
     "output_type": "execute_result"
    }
   ],
   "source": [
    "rotate_array([1,2,3,4],1)"
   ]
  },
  {
   "cell_type": "code",
   "execution_count": null,
   "id": "613df037-cd0a-4921-b0b1-d5dee3e4d937",
   "metadata": {},
   "outputs": [],
   "source": []
  }
 ],
 "metadata": {
  "kernelspec": {
   "display_name": "Python 3 (ipykernel)",
   "language": "python",
   "name": "python3"
  },
  "language_info": {
   "codemirror_mode": {
    "name": "ipython",
    "version": 3
   },
   "file_extension": ".py",
   "mimetype": "text/x-python",
   "name": "python",
   "nbconvert_exporter": "python",
   "pygments_lexer": "ipython3",
   "version": "3.10.12"
  }
 },
 "nbformat": 4,
 "nbformat_minor": 5
}
